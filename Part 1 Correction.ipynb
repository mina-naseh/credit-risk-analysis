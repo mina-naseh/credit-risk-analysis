{
 "cells": [
  {
   "cell_type": "markdown",
   "metadata": {
    "id": "y6XZ55wHbdm5"
   },
   "source": [
    "# Part 1 of the Machine Learning Project\n",
    "\n",
    "> Version 2022-10-10\n",
    "\n",
    "**To be completed and submitted on Moodle by 26/10/2022**. Run your code and save/export your notebook in `.ipynb`, and upload it to Moodle.\n",
    "\n",
    "Part 2 will be sent after, so this is an hard deadline. Part 2 contains the correction of part 1 and additional questions.\n",
    "\n",
    "- Part 1 counts for 50 points\n",
    "- Part 2 counts for 50 points\n",
    "\n",
    "## Preliminaries\n",
    "\n",
    "\n",
    "Before satring familiarize yourself with pandas reading the “10 minutes to pandas” tutorial: https://pandas.pydata.org/pandas-docs/stable/user_guide/10min.html\n",
    "\n",
    "Browse through the full pandas user guide when needed: https://pandas.pydata.org/pandas-docs/stable/user_guide/index.html\n",
    "\n",
    "\n",
    "## Load libraries"
   ]
  },
  {
   "cell_type": "code",
   "execution_count": 31,
   "metadata": {
    "id": "L8jsxX6eaxL_"
   },
   "outputs": [],
   "source": [
    "# numpy and pandas for data manipulation\n",
    "import numpy as np\n",
    "import pandas as pd\n",
    "\n",
    "# File system manangement\n",
    "import os\n",
    "\n",
    "# Suppress warnings\n",
    "#import warnings\n",
    "#warnings.filterwarnings('ignore')\n",
    "\n",
    "# matplotlib and seaborn for plotting\n",
    "import matplotlib.pyplot as plt\n",
    "import seaborn as sns\n"
   ]
  },
  {
   "cell_type": "markdown",
   "metadata": {
    "id": "ctTp1HonbYpj"
   },
   "source": [
    "<p><img alt=\"Datasets\" src=\"https://storage.googleapis.com/kaggle-media/competitions/home-credit/home_credit.png\" align=\"left\" hspace=\"10px\" vspace=\"0px\"></p>\n",
    "\n",
    "\n",
    "<h1>Datasets</h1>"
   ]
  },
  {
   "cell_type": "code",
   "execution_count": 32,
   "metadata": {
    "colab": {
     "base_uri": "https://localhost:8080/"
    },
    "executionInfo": {
     "elapsed": 9033,
     "status": "ok",
     "timestamp": 1694786171076,
     "user": {
      "displayName": "Fabien Bernier",
      "userId": "18299059114423323629"
     },
     "user_tz": -120
    },
    "id": "3SZdHeF4Hg_0",
    "outputId": "884c7b79-c572-4ba2-8c36-95f14b76eb36"
   },
   "outputs": [],
   "source": [
    "# !wget http://locust2520.fr/static/data/application_train.csv.zip\n",
    "# !wget http://locust2520.fr/static/data/application_test.csv.zip\n",
    "# !wget http://locust2520.fr/static/data/previous_application.csv.zip\n",
    "# !wget http://locust2520.fr/static/data/bureau.csv.zip"
   ]
  },
  {
   "cell_type": "code",
   "execution_count": 33,
   "metadata": {
    "colab": {
     "base_uri": "https://localhost:8080/",
     "height": 444
    },
    "executionInfo": {
     "elapsed": 5441,
     "status": "ok",
     "timestamp": 1694786183752,
     "user": {
      "displayName": "Fabien Bernier",
      "userId": "18299059114423323629"
     },
     "user_tz": -120
    },
    "id": "TAo_jy0PhBEY",
    "outputId": "428bd4af-80c5-4c66-f74e-71a759fcd690"
   },
   "outputs": [
    {
     "data": {
      "text/html": [
       "<div>\n",
       "<style scoped>\n",
       "    .dataframe tbody tr th:only-of-type {\n",
       "        vertical-align: middle;\n",
       "    }\n",
       "\n",
       "    .dataframe tbody tr th {\n",
       "        vertical-align: top;\n",
       "    }\n",
       "\n",
       "    .dataframe thead th {\n",
       "        text-align: right;\n",
       "    }\n",
       "</style>\n",
       "<table border=\"1\" class=\"dataframe\">\n",
       "  <thead>\n",
       "    <tr style=\"text-align: right;\">\n",
       "      <th></th>\n",
       "      <th>SK_ID_CURR</th>\n",
       "      <th>TARGET</th>\n",
       "      <th>NAME_CONTRACT_TYPE</th>\n",
       "      <th>CODE_GENDER</th>\n",
       "      <th>FLAG_OWN_CAR</th>\n",
       "      <th>FLAG_OWN_REALTY</th>\n",
       "      <th>CNT_CHILDREN</th>\n",
       "      <th>AMT_INCOME_TOTAL</th>\n",
       "      <th>AMT_CREDIT</th>\n",
       "      <th>AMT_ANNUITY</th>\n",
       "      <th>...</th>\n",
       "      <th>FLAG_DOCUMENT_18</th>\n",
       "      <th>FLAG_DOCUMENT_19</th>\n",
       "      <th>FLAG_DOCUMENT_20</th>\n",
       "      <th>FLAG_DOCUMENT_21</th>\n",
       "      <th>AMT_REQ_CREDIT_BUREAU_HOUR</th>\n",
       "      <th>AMT_REQ_CREDIT_BUREAU_DAY</th>\n",
       "      <th>AMT_REQ_CREDIT_BUREAU_WEEK</th>\n",
       "      <th>AMT_REQ_CREDIT_BUREAU_MON</th>\n",
       "      <th>AMT_REQ_CREDIT_BUREAU_QRT</th>\n",
       "      <th>AMT_REQ_CREDIT_BUREAU_YEAR</th>\n",
       "    </tr>\n",
       "  </thead>\n",
       "  <tbody>\n",
       "    <tr>\n",
       "      <th>0</th>\n",
       "      <td>100002</td>\n",
       "      <td>1</td>\n",
       "      <td>Cash loans</td>\n",
       "      <td>M</td>\n",
       "      <td>N</td>\n",
       "      <td>Y</td>\n",
       "      <td>0</td>\n",
       "      <td>202500.0</td>\n",
       "      <td>406597.5</td>\n",
       "      <td>24700.5</td>\n",
       "      <td>...</td>\n",
       "      <td>0</td>\n",
       "      <td>0</td>\n",
       "      <td>0</td>\n",
       "      <td>0</td>\n",
       "      <td>0.0</td>\n",
       "      <td>0.0</td>\n",
       "      <td>0.0</td>\n",
       "      <td>0.0</td>\n",
       "      <td>0.0</td>\n",
       "      <td>1.0</td>\n",
       "    </tr>\n",
       "    <tr>\n",
       "      <th>1</th>\n",
       "      <td>100003</td>\n",
       "      <td>0</td>\n",
       "      <td>Cash loans</td>\n",
       "      <td>F</td>\n",
       "      <td>N</td>\n",
       "      <td>N</td>\n",
       "      <td>0</td>\n",
       "      <td>270000.0</td>\n",
       "      <td>1293502.5</td>\n",
       "      <td>35698.5</td>\n",
       "      <td>...</td>\n",
       "      <td>0</td>\n",
       "      <td>0</td>\n",
       "      <td>0</td>\n",
       "      <td>0</td>\n",
       "      <td>0.0</td>\n",
       "      <td>0.0</td>\n",
       "      <td>0.0</td>\n",
       "      <td>0.0</td>\n",
       "      <td>0.0</td>\n",
       "      <td>0.0</td>\n",
       "    </tr>\n",
       "    <tr>\n",
       "      <th>2</th>\n",
       "      <td>100004</td>\n",
       "      <td>0</td>\n",
       "      <td>Revolving loans</td>\n",
       "      <td>M</td>\n",
       "      <td>Y</td>\n",
       "      <td>Y</td>\n",
       "      <td>0</td>\n",
       "      <td>67500.0</td>\n",
       "      <td>135000.0</td>\n",
       "      <td>6750.0</td>\n",
       "      <td>...</td>\n",
       "      <td>0</td>\n",
       "      <td>0</td>\n",
       "      <td>0</td>\n",
       "      <td>0</td>\n",
       "      <td>0.0</td>\n",
       "      <td>0.0</td>\n",
       "      <td>0.0</td>\n",
       "      <td>0.0</td>\n",
       "      <td>0.0</td>\n",
       "      <td>0.0</td>\n",
       "    </tr>\n",
       "    <tr>\n",
       "      <th>3</th>\n",
       "      <td>100006</td>\n",
       "      <td>0</td>\n",
       "      <td>Cash loans</td>\n",
       "      <td>F</td>\n",
       "      <td>N</td>\n",
       "      <td>Y</td>\n",
       "      <td>0</td>\n",
       "      <td>135000.0</td>\n",
       "      <td>312682.5</td>\n",
       "      <td>29686.5</td>\n",
       "      <td>...</td>\n",
       "      <td>0</td>\n",
       "      <td>0</td>\n",
       "      <td>0</td>\n",
       "      <td>0</td>\n",
       "      <td>NaN</td>\n",
       "      <td>NaN</td>\n",
       "      <td>NaN</td>\n",
       "      <td>NaN</td>\n",
       "      <td>NaN</td>\n",
       "      <td>NaN</td>\n",
       "    </tr>\n",
       "    <tr>\n",
       "      <th>4</th>\n",
       "      <td>100007</td>\n",
       "      <td>0</td>\n",
       "      <td>Cash loans</td>\n",
       "      <td>M</td>\n",
       "      <td>N</td>\n",
       "      <td>Y</td>\n",
       "      <td>0</td>\n",
       "      <td>121500.0</td>\n",
       "      <td>513000.0</td>\n",
       "      <td>21865.5</td>\n",
       "      <td>...</td>\n",
       "      <td>0</td>\n",
       "      <td>0</td>\n",
       "      <td>0</td>\n",
       "      <td>0</td>\n",
       "      <td>0.0</td>\n",
       "      <td>0.0</td>\n",
       "      <td>0.0</td>\n",
       "      <td>0.0</td>\n",
       "      <td>0.0</td>\n",
       "      <td>0.0</td>\n",
       "    </tr>\n",
       "    <tr>\n",
       "      <th>...</th>\n",
       "      <td>...</td>\n",
       "      <td>...</td>\n",
       "      <td>...</td>\n",
       "      <td>...</td>\n",
       "      <td>...</td>\n",
       "      <td>...</td>\n",
       "      <td>...</td>\n",
       "      <td>...</td>\n",
       "      <td>...</td>\n",
       "      <td>...</td>\n",
       "      <td>...</td>\n",
       "      <td>...</td>\n",
       "      <td>...</td>\n",
       "      <td>...</td>\n",
       "      <td>...</td>\n",
       "      <td>...</td>\n",
       "      <td>...</td>\n",
       "      <td>...</td>\n",
       "      <td>...</td>\n",
       "      <td>...</td>\n",
       "      <td>...</td>\n",
       "    </tr>\n",
       "    <tr>\n",
       "      <th>307506</th>\n",
       "      <td>456251</td>\n",
       "      <td>0</td>\n",
       "      <td>Cash loans</td>\n",
       "      <td>M</td>\n",
       "      <td>N</td>\n",
       "      <td>N</td>\n",
       "      <td>0</td>\n",
       "      <td>157500.0</td>\n",
       "      <td>254700.0</td>\n",
       "      <td>27558.0</td>\n",
       "      <td>...</td>\n",
       "      <td>0</td>\n",
       "      <td>0</td>\n",
       "      <td>0</td>\n",
       "      <td>0</td>\n",
       "      <td>NaN</td>\n",
       "      <td>NaN</td>\n",
       "      <td>NaN</td>\n",
       "      <td>NaN</td>\n",
       "      <td>NaN</td>\n",
       "      <td>NaN</td>\n",
       "    </tr>\n",
       "    <tr>\n",
       "      <th>307507</th>\n",
       "      <td>456252</td>\n",
       "      <td>0</td>\n",
       "      <td>Cash loans</td>\n",
       "      <td>F</td>\n",
       "      <td>N</td>\n",
       "      <td>Y</td>\n",
       "      <td>0</td>\n",
       "      <td>72000.0</td>\n",
       "      <td>269550.0</td>\n",
       "      <td>12001.5</td>\n",
       "      <td>...</td>\n",
       "      <td>0</td>\n",
       "      <td>0</td>\n",
       "      <td>0</td>\n",
       "      <td>0</td>\n",
       "      <td>NaN</td>\n",
       "      <td>NaN</td>\n",
       "      <td>NaN</td>\n",
       "      <td>NaN</td>\n",
       "      <td>NaN</td>\n",
       "      <td>NaN</td>\n",
       "    </tr>\n",
       "    <tr>\n",
       "      <th>307508</th>\n",
       "      <td>456253</td>\n",
       "      <td>0</td>\n",
       "      <td>Cash loans</td>\n",
       "      <td>F</td>\n",
       "      <td>N</td>\n",
       "      <td>Y</td>\n",
       "      <td>0</td>\n",
       "      <td>153000.0</td>\n",
       "      <td>677664.0</td>\n",
       "      <td>29979.0</td>\n",
       "      <td>...</td>\n",
       "      <td>0</td>\n",
       "      <td>0</td>\n",
       "      <td>0</td>\n",
       "      <td>0</td>\n",
       "      <td>1.0</td>\n",
       "      <td>0.0</td>\n",
       "      <td>0.0</td>\n",
       "      <td>1.0</td>\n",
       "      <td>0.0</td>\n",
       "      <td>1.0</td>\n",
       "    </tr>\n",
       "    <tr>\n",
       "      <th>307509</th>\n",
       "      <td>456254</td>\n",
       "      <td>1</td>\n",
       "      <td>Cash loans</td>\n",
       "      <td>F</td>\n",
       "      <td>N</td>\n",
       "      <td>Y</td>\n",
       "      <td>0</td>\n",
       "      <td>171000.0</td>\n",
       "      <td>370107.0</td>\n",
       "      <td>20205.0</td>\n",
       "      <td>...</td>\n",
       "      <td>0</td>\n",
       "      <td>0</td>\n",
       "      <td>0</td>\n",
       "      <td>0</td>\n",
       "      <td>0.0</td>\n",
       "      <td>0.0</td>\n",
       "      <td>0.0</td>\n",
       "      <td>0.0</td>\n",
       "      <td>0.0</td>\n",
       "      <td>0.0</td>\n",
       "    </tr>\n",
       "    <tr>\n",
       "      <th>307510</th>\n",
       "      <td>456255</td>\n",
       "      <td>0</td>\n",
       "      <td>Cash loans</td>\n",
       "      <td>F</td>\n",
       "      <td>N</td>\n",
       "      <td>N</td>\n",
       "      <td>0</td>\n",
       "      <td>157500.0</td>\n",
       "      <td>675000.0</td>\n",
       "      <td>49117.5</td>\n",
       "      <td>...</td>\n",
       "      <td>0</td>\n",
       "      <td>0</td>\n",
       "      <td>0</td>\n",
       "      <td>0</td>\n",
       "      <td>0.0</td>\n",
       "      <td>0.0</td>\n",
       "      <td>0.0</td>\n",
       "      <td>2.0</td>\n",
       "      <td>0.0</td>\n",
       "      <td>1.0</td>\n",
       "    </tr>\n",
       "  </tbody>\n",
       "</table>\n",
       "<p>307511 rows × 122 columns</p>\n",
       "</div>"
      ],
      "text/plain": [
       "        SK_ID_CURR  TARGET NAME_CONTRACT_TYPE CODE_GENDER FLAG_OWN_CAR  \\\n",
       "0           100002       1         Cash loans           M            N   \n",
       "1           100003       0         Cash loans           F            N   \n",
       "2           100004       0    Revolving loans           M            Y   \n",
       "3           100006       0         Cash loans           F            N   \n",
       "4           100007       0         Cash loans           M            N   \n",
       "...            ...     ...                ...         ...          ...   \n",
       "307506      456251       0         Cash loans           M            N   \n",
       "307507      456252       0         Cash loans           F            N   \n",
       "307508      456253       0         Cash loans           F            N   \n",
       "307509      456254       1         Cash loans           F            N   \n",
       "307510      456255       0         Cash loans           F            N   \n",
       "\n",
       "       FLAG_OWN_REALTY  CNT_CHILDREN  AMT_INCOME_TOTAL  AMT_CREDIT  \\\n",
       "0                    Y             0          202500.0    406597.5   \n",
       "1                    N             0          270000.0   1293502.5   \n",
       "2                    Y             0           67500.0    135000.0   \n",
       "3                    Y             0          135000.0    312682.5   \n",
       "4                    Y             0          121500.0    513000.0   \n",
       "...                ...           ...               ...         ...   \n",
       "307506               N             0          157500.0    254700.0   \n",
       "307507               Y             0           72000.0    269550.0   \n",
       "307508               Y             0          153000.0    677664.0   \n",
       "307509               Y             0          171000.0    370107.0   \n",
       "307510               N             0          157500.0    675000.0   \n",
       "\n",
       "        AMT_ANNUITY  ...  FLAG_DOCUMENT_18 FLAG_DOCUMENT_19 FLAG_DOCUMENT_20  \\\n",
       "0           24700.5  ...                 0                0                0   \n",
       "1           35698.5  ...                 0                0                0   \n",
       "2            6750.0  ...                 0                0                0   \n",
       "3           29686.5  ...                 0                0                0   \n",
       "4           21865.5  ...                 0                0                0   \n",
       "...             ...  ...               ...              ...              ...   \n",
       "307506      27558.0  ...                 0                0                0   \n",
       "307507      12001.5  ...                 0                0                0   \n",
       "307508      29979.0  ...                 0                0                0   \n",
       "307509      20205.0  ...                 0                0                0   \n",
       "307510      49117.5  ...                 0                0                0   \n",
       "\n",
       "       FLAG_DOCUMENT_21 AMT_REQ_CREDIT_BUREAU_HOUR AMT_REQ_CREDIT_BUREAU_DAY  \\\n",
       "0                     0                        0.0                       0.0   \n",
       "1                     0                        0.0                       0.0   \n",
       "2                     0                        0.0                       0.0   \n",
       "3                     0                        NaN                       NaN   \n",
       "4                     0                        0.0                       0.0   \n",
       "...                 ...                        ...                       ...   \n",
       "307506                0                        NaN                       NaN   \n",
       "307507                0                        NaN                       NaN   \n",
       "307508                0                        1.0                       0.0   \n",
       "307509                0                        0.0                       0.0   \n",
       "307510                0                        0.0                       0.0   \n",
       "\n",
       "        AMT_REQ_CREDIT_BUREAU_WEEK  AMT_REQ_CREDIT_BUREAU_MON  \\\n",
       "0                              0.0                        0.0   \n",
       "1                              0.0                        0.0   \n",
       "2                              0.0                        0.0   \n",
       "3                              NaN                        NaN   \n",
       "4                              0.0                        0.0   \n",
       "...                            ...                        ...   \n",
       "307506                         NaN                        NaN   \n",
       "307507                         NaN                        NaN   \n",
       "307508                         0.0                        1.0   \n",
       "307509                         0.0                        0.0   \n",
       "307510                         0.0                        2.0   \n",
       "\n",
       "        AMT_REQ_CREDIT_BUREAU_QRT  AMT_REQ_CREDIT_BUREAU_YEAR  \n",
       "0                             0.0                         1.0  \n",
       "1                             0.0                         0.0  \n",
       "2                             0.0                         0.0  \n",
       "3                             NaN                         NaN  \n",
       "4                             0.0                         0.0  \n",
       "...                           ...                         ...  \n",
       "307506                        NaN                         NaN  \n",
       "307507                        NaN                         NaN  \n",
       "307508                        0.0                         1.0  \n",
       "307509                        0.0                         0.0  \n",
       "307510                        0.0                         1.0  \n",
       "\n",
       "[307511 rows x 122 columns]"
      ]
     },
     "execution_count": 33,
     "metadata": {},
     "output_type": "execute_result"
    }
   ],
   "source": [
    "## Change this part with your own dataset files\n",
    "\n",
    "src_train = '../data/application_train.csv.zip'\n",
    "src_test = '../data/application_test.csv.zip'\n",
    "\n",
    "src_previous ='../data/previous_application.csv.zip'\n",
    "src_bureau = '../data/bureau.csv.zip'\n",
    "\n",
    "# If you cannot load the directly the csv from Google drive (Google restrictions), download them manually then change the path to load them locally\n",
    "\n",
    "app_train = pd.read_csv(src_train, compression=\"zip\")\n",
    "app_train\n"
   ]
  },
  {
   "cell_type": "markdown",
   "metadata": {
    "id": "uPBTWB1ViFHe"
   },
   "source": [
    "<h1>Loading the datasets (2 pts)</h1>\n",
    "\n",
    "1. Similarly to the train set, load the test set, the bureau dataset and the past applications dataset.\n",
    "\n",
    "2. Display for each the number of rows and the number of columns\n",
    "\n",
    "*You will be evaluated as follow*\n",
    "* 1: Correct approach + code: 1pt\n",
    "* 2: Code: 1pts\n"
   ]
  },
  {
   "cell_type": "code",
   "execution_count": 34,
   "metadata": {
    "colab": {
     "base_uri": "https://localhost:8080/"
    },
    "executionInfo": {
     "elapsed": 20868,
     "status": "ok",
     "timestamp": 1694786286345,
     "user": {
      "displayName": "Fabien Bernier",
      "userId": "18299059114423323629"
     },
     "user_tz": -120
    },
    "id": "GjoGTJvLiBPP",
    "outputId": "a215603d-4648-494d-96cb-74ef9895d9cb"
   },
   "outputs": [
    {
     "name": "stdout",
     "output_type": "stream",
     "text": [
      "Train set row~columns : 48744~121\n",
      "Test set row~columns : 48744~121\n",
      "Bureau set rows~columns : 1716428~17\n",
      "Past applications set rows~columns : 1670214~37\n"
     ]
    }
   ],
   "source": [
    "#Your code here\n",
    "#The variables that should be implemented to store the data are: app_train, app_test, bureau, app_past\n",
    "\n",
    "\n",
    "# 1 - Loading the different datasets.\n",
    "app_test = pd.read_csv(src_test)\n",
    "bureau = pd.read_csv(src_bureau)\n",
    "app_past = pd.read_csv(src_previous)\n",
    "\n",
    "# 2 - The number of rows and columns for each\n",
    "print(f'Train set row~columns : {app_test.shape[0]}~{app_test.shape[1]}')\n",
    "print(f'Test set row~columns : {app_test.shape[0]}~{app_test.shape[1]}')\n",
    "print(f'Bureau set rows~columns : {bureau.shape[0]}~{bureau.shape[1]}')\n",
    "print(f'Past applications set rows~columns : {app_past.shape[0]}~{app_past.shape[1]}')\n"
   ]
  },
  {
   "cell_type": "markdown",
   "metadata": {
    "id": "GnMI0pRmkHzH"
   },
   "source": [
    "<h1> Feature Engineering</h1>"
   ]
  },
  {
   "cell_type": "markdown",
   "metadata": {
    "id": "SuAAPVW1kH82"
   },
   "source": [
    "<h2>Missing values (9pts)</h2>\n",
    "\n",
    "\n",
    "**3.a**: What columns are missing the most values in app_test?\n",
    "\n",
    "**3.b**: What columns are missing the most values in bureau?\n",
    "\n",
    "**3.c**: What columns are missing the most values in app_past?\n",
    "\n",
    "4: Fix missing data in app_test dataset using categorization and/or simple imputation when appropriate. Be careful to the **data leakage** issue!\n",
    "\n",
    "*You will be evaluated as follow*\n",
    "* 3: Correct approach + code 2pts.\n",
    "* 4: Description of the approach 4pts. Code implementation of the approach 3pts."
   ]
  },
  {
   "cell_type": "code",
   "execution_count": 35,
   "metadata": {
    "colab": {
     "base_uri": "https://localhost:8080/"
    },
    "executionInfo": {
     "elapsed": 18395,
     "status": "ok",
     "timestamp": 1694786311749,
     "user": {
      "displayName": "Fabien Bernier",
      "userId": "18299059114423323629"
     },
     "user_tz": -120
    },
    "id": "GCD-Tet5rKuq",
    "outputId": "b717497d-0e2d-412c-b9e0-c1c49044fa2f"
   },
   "outputs": [
    {
     "name": "stdout",
     "output_type": "stream",
     "text": [
      "                          Total    Percent\n",
      "COMMONAREA_AVG            33495  68.716150\n",
      "COMMONAREA_MODE           33495  68.716150\n",
      "COMMONAREA_MEDI           33495  68.716150\n",
      "NONLIVINGAPARTMENTS_AVG   33347  68.412523\n",
      "NONLIVINGAPARTMENTS_MODE  33347  68.412523\n",
      "NONLIVINGAPARTMENTS_MEDI  33347  68.412523\n",
      "FONDKAPREMONT_MODE        32797  67.284179\n",
      "LIVINGAPARTMENTS_AVG      32780  67.249302\n",
      "LIVINGAPARTMENTS_MODE     32780  67.249302\n",
      "LIVINGAPARTMENTS_MEDI     32780  67.249302\n",
      "FLOORSMIN_MEDI            32466  66.605121\n",
      "FLOORSMIN_AVG             32466  66.605121\n",
      "FLOORSMIN_MODE            32466  66.605121\n",
      "OWN_CAR_AGE               32312  66.289184\n",
      "YEARS_BUILD_AVG           31818  65.275726\n",
      "YEARS_BUILD_MEDI          31818  65.275726\n",
      "YEARS_BUILD_MODE          31818  65.275726\n",
      "LANDAREA_MEDI             28254  57.964057\n",
      "LANDAREA_AVG              28254  57.964057\n",
      "LANDAREA_MODE             28254  57.964057\n",
      "                          Total    Percent\n",
      "AMT_ANNUITY             1226791  71.473490\n",
      "AMT_CREDIT_MAX_OVERDUE  1124488  65.513264\n",
      "DAYS_ENDDATE_FACT        633653  36.916958\n",
      "AMT_CREDIT_SUM_LIMIT     591780  34.477415\n",
      "AMT_CREDIT_SUM_DEBT      257669  15.011932\n",
      "DAYS_CREDIT_ENDDATE      105553   6.149573\n",
      "AMT_CREDIT_SUM               13   0.000757\n",
      "CREDIT_ACTIVE                 0   0.000000\n",
      "CREDIT_CURRENCY               0   0.000000\n",
      "DAYS_CREDIT                   0   0.000000\n",
      "CREDIT_DAY_OVERDUE            0   0.000000\n",
      "SK_ID_BUREAU                  0   0.000000\n",
      "CNT_CREDIT_PROLONG            0   0.000000\n",
      "AMT_CREDIT_SUM_OVERDUE        0   0.000000\n",
      "CREDIT_TYPE                   0   0.000000\n",
      "DAYS_CREDIT_UPDATE            0   0.000000\n",
      "SK_ID_CURR                    0   0.000000\n",
      "                             Total    Percent\n",
      "RATE_INTEREST_PRIVILEGED   1664263  99.643698\n",
      "RATE_INTEREST_PRIMARY      1664263  99.643698\n",
      "AMT_DOWN_PAYMENT            895844  53.636480\n",
      "RATE_DOWN_PAYMENT           895844  53.636480\n",
      "NAME_TYPE_SUITE             820405  49.119754\n",
      "NFLAG_INSURED_ON_APPROVAL   673065  40.298129\n",
      "DAYS_TERMINATION            673065  40.298129\n",
      "DAYS_LAST_DUE               673065  40.298129\n",
      "DAYS_LAST_DUE_1ST_VERSION   673065  40.298129\n",
      "DAYS_FIRST_DUE              673065  40.298129\n",
      "DAYS_FIRST_DRAWING          673065  40.298129\n",
      "AMT_GOODS_PRICE             385515  23.081773\n",
      "AMT_ANNUITY                 372235  22.286665\n",
      "CNT_PAYMENT                 372230  22.286366\n",
      "PRODUCT_COMBINATION            346   0.020716\n",
      "AMT_CREDIT                       1   0.000060\n",
      "NAME_YIELD_GROUP                 0   0.000000\n",
      "NAME_PORTFOLIO                   0   0.000000\n",
      "NAME_SELLER_INDUSTRY             0   0.000000\n",
      "SELLERPLACE_AREA                 0   0.000000\n"
     ]
    }
   ],
   "source": [
    "# 3\n",
    "\n",
    "## Your code here\n",
    "\n",
    "def get_missing_columns(df, top_N = 20):\n",
    "  total = df.isnull().sum().sort_values(ascending = False)\n",
    "  percent = (df.isnull().sum()/df.isnull().count()*100).sort_values(ascending = False)\n",
    "  missing  = pd.concat([total, percent], axis=1, keys=['Total', 'Percent'])\n",
    "  return missing.head(top_N)\n",
    "\n",
    "print(get_missing_columns(app_test))\n",
    "\n",
    "print(get_missing_columns(bureau))\n",
    "\n",
    "print(get_missing_columns(app_past))\n"
   ]
  },
  {
   "cell_type": "code",
   "execution_count": 36,
   "metadata": {
    "colab": {
     "base_uri": "https://localhost:8080/"
    },
    "executionInfo": {
     "elapsed": 215,
     "status": "ok",
     "timestamp": 1694786314641,
     "user": {
      "displayName": "Fabien Bernier",
      "userId": "18299059114423323629"
     },
     "user_tz": -120
    },
    "id": "-Ppz2k-mVMhy",
    "outputId": "39fb5399-da47-4a5f-d4b5-cdeb01918054"
   },
   "outputs": [
    {
     "name": "stdout",
     "output_type": "stream",
     "text": [
      "(16,) (105,)\n"
     ]
    }
   ],
   "source": [
    "categorical_cols = app_test.select_dtypes(exclude='number').columns\n",
    "numerical_cols = app_test.select_dtypes(include='number').columns\n",
    "\n",
    "print(categorical_cols.shape, numerical_cols.shape)"
   ]
  },
  {
   "cell_type": "code",
   "execution_count": 37,
   "metadata": {
    "colab": {
     "base_uri": "https://localhost:8080/"
    },
    "executionInfo": {
     "elapsed": 575,
     "status": "ok",
     "timestamp": 1694786317436,
     "user": {
      "displayName": "Fabien Bernier",
      "userId": "18299059114423323629"
     },
     "user_tz": -120
    },
    "id": "2ZWUSJJRXQ_O",
    "outputId": "6a648796-9b8d-42cd-a956-0fad2e7673de"
   },
   "outputs": [
    {
     "name": "stdout",
     "output_type": "stream",
     "text": [
      "filling 911 values with most probable value: Unaccompanied\n",
      "filling 15605 values with most probable value: Laborers\n",
      "filling 32797 values with most probable value: reg oper account\n",
      "filling 23619 values with most probable value: block of flats\n",
      "filling 23893 values with most probable value: Panel\n",
      "filling 22209 values with most probable value: No\n"
     ]
    }
   ],
   "source": [
    "# 4: Fix missing data in app_test using categorization and/or simple imputation when appropriate. You should use *only* pandas and numpy here. You should *not* use sklearn (scikit-learn).\n",
    "\n",
    "# Categorical Features\n",
    "# Strategy 1: Filling with the most frequent class\n",
    "\n",
    "app_test1 = app_test.copy()\n",
    "for cat in categorical_cols:\n",
    "  if app_test1[cat].isna().sum() >0:\n",
    "    most_probable = app_train[cat].value_counts().index[0]  # we compute the most frequent class on the *train* set to avoid data leakage\n",
    "    print(\"filling\",app_test1[cat].isna().sum(), \"values with most probable value:\", most_probable)\n",
    "    app_test1[cat] = app_test1[cat].fillna(most_probable)"
   ]
  },
  {
   "cell_type": "code",
   "execution_count": 38,
   "metadata": {
    "colab": {
     "base_uri": "https://localhost:8080/"
    },
    "executionInfo": {
     "elapsed": 326,
     "status": "ok",
     "timestamp": 1694786319678,
     "user": {
      "displayName": "Fabien Bernier",
      "userId": "18299059114423323629"
     },
     "user_tz": -120
    },
    "id": "6-BPWVVtXREQ",
    "outputId": "3aff07f3-154d-4e84-e706-abf40ce54d4a"
   },
   "outputs": [
    {
     "name": "stdout",
     "output_type": "stream",
     "text": [
      "filling 911 values with most probable value: ['Unaccompanied', 'Family', 'Spouse, partner', 'Children', 'Other_B', 'Other_A', 'Group of people'] [0.81159562 0.13111205 0.03713029 0.01066884 0.00578018 0.00282804\n",
      " 0.00088499]\n",
      "filling 15605 values with most probable value: ['Laborers', 'Sales staff', 'Core staff', 'Managers', 'Drivers', 'High skill tech staff', 'Accountants', 'Medicine staff', 'Security staff', 'Cooking staff', 'Cleaning staff', 'Private service staff', 'Low-skill Laborers', 'Waiters/barmen staff', 'Secretaries', 'Realty agents', 'HR staff', 'IT staff'] [0.26139636 0.1520557  0.13058924 0.10122679 0.08811576 0.05390299\n",
      " 0.04648067 0.04043672 0.03183498 0.02816408 0.0220396  0.01256158\n",
      " 0.00991379 0.00638499 0.00618132 0.00355722 0.00266673 0.00249147]\n",
      "filling 32797 values with most probable value: ['reg oper account', 'reg oper spec account', 'not specified', 'org spec account'] [0.75944289 0.12425938 0.0584986  0.05779913]\n",
      "filling 23619 values with most probable value: ['block of flats', 'specific housing', 'terraced house'] [0.98230579 0.0097837  0.0079105 ]\n",
      "filling 23893 values with most probable value: ['Panel', 'Stone, brick', 'Block', 'Wooden', 'Mixed', 'Monolithic', 'Others'] [0.43685917 0.42875571 0.06120923 0.03547    0.0151882  0.01176821\n",
      " 0.01074949]\n",
      "filling 22209 values with most probable value: ['No', 'Yes'] [0.98560795 0.01439205]\n"
     ]
    }
   ],
   "source": [
    "# Strategy 2: Filling with a Poisson sampling according to probability of class\n",
    "from numpy.random import choice\n",
    "\n",
    "app_test2 = app_test.copy()\n",
    "for cat in categorical_cols:\n",
    "  if app_test2[cat].isna().sum()>0:\n",
    "    most_probable = app_train[cat].value_counts()\n",
    "    values = list(most_probable.index)\n",
    "    probas = most_probable.values / most_probable.values.sum()\n",
    "    print(\"filling\",app_test2[cat].isna().sum(), \"values with most probable value:\",values, probas)\n",
    "    app_test2[cat] = app_test2[cat].fillna(lambda x: choice(most_probable.index,p=probas))"
   ]
  },
  {
   "cell_type": "code",
   "execution_count": 39,
   "metadata": {
    "colab": {
     "base_uri": "https://localhost:8080/"
    },
    "executionInfo": {
     "elapsed": 213,
     "status": "ok",
     "timestamp": 1694786323364,
     "user": {
      "displayName": "Fabien Bernier",
      "userId": "18299059114423323629"
     },
     "user_tz": -120
    },
    "id": "mjc0xV0uzBNZ",
    "outputId": "64ffa25a-9aab-43be-c11c-9487de9112d6"
   },
   "outputs": [
    {
     "name": "stdout",
     "output_type": "stream",
     "text": [
      "filling 911 values with MISSING\n",
      "filling 15605 values with MISSING\n",
      "filling 32797 values with MISSING\n",
      "filling 23619 values with MISSING\n",
      "filling 23893 values with MISSING\n",
      "filling 22209 values with MISSING\n"
     ]
    }
   ],
   "source": [
    "# Strategy 3: Creating a category for missing values (best solution for categorical variables)\n",
    "# we define this class with the \"MISSING\" string, which will create a category during the categorization step\n",
    "\n",
    "app_test3 = app_test.copy()\n",
    "for cat in categorical_cols:\n",
    "  if app_test3[cat].isna().sum()>0:\n",
    "    print(\"filling\",app_test3[cat].isna().sum(), \"values with MISSING\")\n",
    "    app_test3[cat] = app_test3[cat].fillna('MISSING')"
   ]
  },
  {
   "cell_type": "code",
   "execution_count": 40,
   "metadata": {
    "id": "5ix7JuW1b-Hw"
   },
   "outputs": [],
   "source": [
    "# Numerical features : Filling with median (mean can work as well)\n",
    "\n",
    "app_test4 = app_test.copy()\n",
    "app_test4[numerical_cols] = app_test4[numerical_cols].fillna(app_train[numerical_cols].median())  # we also compute the statistic on the train set to avoid data leakage\n",
    "\n",
    "\n",
    "app_test_filled = app_test.copy()\n",
    "app_test_filled[categorical_cols] = app_test3[categorical_cols]\n",
    "app_test_filled[numerical_cols] = app_test4[numerical_cols]"
   ]
  },
  {
   "cell_type": "markdown",
   "metadata": {
    "id": "Sz6iD4S-rVUy"
   },
   "source": [
    "**4**: Describe your approach, including how you choose the technique to apply, and how you apply the technique (double click to edit a text cell)\n",
    "\n"
   ]
  },
  {
   "cell_type": "code",
   "execution_count": 41,
   "metadata": {
    "id": "DRfusrEqluxQ"
   },
   "outputs": [],
   "source": [
    "# to be used later to fix missing values of our train set the same way\n",
    "def fill_missing(df):\n",
    "  df = df.copy()\n",
    "  categorical_cols = df.select_dtypes(exclude='number').columns\n",
    "  numerical_cols = df.select_dtypes(include='number').columns\n",
    "\n",
    "  for cat in categorical_cols:\n",
    "    if df[cat].isna().sum()>0:\n",
    "      df[cat] = df[cat].fillna('MISSING')\n",
    "\n",
    "  df[numerical_cols] = df[numerical_cols].fillna(app_train[numerical_cols].median())\n",
    "\n",
    "  return df"
   ]
  },
  {
   "cell_type": "markdown",
   "metadata": {
    "id": "8FdoWXQQcZCD"
   },
   "source": [
    "**Explanations**\n",
    "\n",
    "*Categorical*\n",
    "\n",
    "Using only pandas, we can perform one of these 3 simple techniques:\n",
    "\n",
    "1. Imputation for the categorical missing values using the most frequent category of each variable.\n",
    "2. Random imputations are also possible. Here we first compute the relative frequencies of each class. Then, to fill the missing category, we randomly draw a class using using the relative frequencies as probabilities. This technique has the benefit of not over-representing the most frequent class.\n",
    "3. We can also create for each category a new value to count as \"MISSING\", it will lated be used in the one-hot encoding process. This is the best option since here we have enough missing examples to create a separate category. For variables with very few missing data, it would be better to perform some imputation to avoid unneceessary additional columnns.\n",
    "\n",
    "\n",
    "*Numerical*\n",
    "\n",
    "For numerical values, we can use the mean or the median. The median is generally better because less sensitive to outliers. The important point is to compute these statistics on the training set, since at test time, we will not have the full test set to compute these statistics. More generally, the same data processing should be applied on the train and the test sets.\n",
    "\n",
    "\n",
    "*Remarks*\n",
    "\n",
    "A more advanced technique based on domain knowledge is to apply these techniques but only on the other loans of the same clients. First, we can group by the column \"SK_ID_CURR\" (loan id), then do the same imputation (probability / mean). This more granular filling assumes that the same client should have similar distribution for missing values. Using aggregated values per loan id, one can sort the values of a client according to a column (for instance DAYS_BIRTH which is the age of the client). Once sorted, we can use pandas.DataFrame.interpolate to fill in the values using neighouboring values.\n",
    "\n",
    "\n",
    "Another technique, if you are allowed to use sklearn, is to use clustering on the numerical columns to identify the closest points to missing ones and propagate the missing attributes (like Label propagation seen in the course).\n",
    "\n",
    "\n",
    "As a general remark: It also possible to remove totally the columns where the percentage of missing values is very high (>80%) for the first version of your models. However, it is generally not advisable since the few provided values may be important."
   ]
  },
  {
   "cell_type": "markdown",
   "metadata": {
    "id": "LRgq0O0R8Dql"
   },
   "source": [
    "## Class Imbalance (8 pts)\n",
    "\n",
    "5. Evaluate the class imbalance of the training set.\n",
    "\n",
    "6. **a** Fix the class imbalance with over/undersampling\n",
    "\n",
    " **b** Use the SMOTE algorithm to fix class imbalance\n",
    "\n",
    "*You will be evaluated as follow*\n",
    "* 5: Correct approach + code: 2ts\n",
    "* 6.a: code 3pt\n",
    "* 6.b: code 3pts"
   ]
  },
  {
   "cell_type": "code",
   "execution_count": 42,
   "metadata": {
    "colab": {
     "base_uri": "https://localhost:8080/",
     "height": 499
    },
    "executionInfo": {
     "elapsed": 617,
     "status": "ok",
     "timestamp": 1694786335936,
     "user": {
      "displayName": "Fabien Bernier",
      "userId": "18299059114423323629"
     },
     "user_tz": -120
    },
    "id": "ylyaMfXN8Kbd",
    "outputId": "eb7b43bb-edd2-456f-b454-abbe668c89aa"
   },
   "outputs": [
    {
     "name": "stdout",
     "output_type": "stream",
     "text": [
      "TARGET\n",
      "0    282686\n",
      "1     24825\n",
      "Name: count, dtype: int64\n"
     ]
    },
    {
     "data": {
      "text/plain": [
       "<Axes: ylabel='Frequency'>"
      ]
     },
     "execution_count": 42,
     "metadata": {},
     "output_type": "execute_result"
    },
    {
     "data": {
      "image/png": "[encoded data removed]",
      "text/plain": [
       "<Figure size 640x480 with 1 Axes>"
      ]
     },
     "metadata": {},
     "output_type": "display_data"
    }
   ],
   "source": [
    "# 5 - value counts\n",
    "\n",
    "print(app_train['TARGET'].value_counts())\n",
    "\n",
    "# 5 - histograms\n",
    "\n",
    "app_train['TARGET'].astype(int).plot.hist()"
   ]
  },
  {
   "cell_type": "markdown",
   "metadata": {
    "id": "KP0jGTbSfQyb"
   },
   "source": [
    "**5**: Describe briefly your observation (double click to edit a text cell)"
   ]
  },
  {
   "cell_type": "code",
   "execution_count": 43,
   "metadata": {
    "id": "PTyLbFbxgiD1"
   },
   "outputs": [],
   "source": [
    "# copy your current dataframe with its .copy() method. You should always use the copy() method if you want to keep the original dataframe untouched when you modify\n",
    "# this is a very common bug, so please read  https://www.statology.org/pandas-copy-dataframe/\n",
    "\n",
    "## Your code here\n",
    "app_train_original = app_train.copy()\n",
    "\n",
    "\n",
    "# 6.a - fix imbalance with undersampling or oversampling\n",
    "# Implement undersampling or oversampling *without* external libraries, only the library provided to implement yourself the chosen solution.\n",
    "\n",
    "## Your code here\n",
    "\n",
    "# both over/under sampling are present here for the sake of presentation. In practice, choose one.\n",
    "\n",
    "### Oversampling: Adding more minority class until we have the same total as majority class\n",
    "df = app_train_original.copy()\n",
    "minority = df[df['TARGET']==1]\n",
    "majority = df[df['TARGET']==0]\n",
    "minority_sampled = minority.sample(n=len(majority)-len(minority), random_state=101, replace=True)\n",
    "df = pd.concat([minority,minority_sampled,majority],axis=0)\n",
    "\n",
    "# for project2 we will use oversampling\n",
    "df_over = df.copy()\n",
    "df_over.to_csv('../data/app_train_oversampled_project1correction_output.csv',index=False)\n",
    "\n",
    "### Undersampling\n",
    "df = app_train_original.copy()\n",
    "minority = df[df['TARGET']==1]\n",
    "majority = df[df['TARGET']==0]\n",
    "majority = majority.sample(n=len(minority), random_state=101)\n",
    "df = pd.concat([minority,majority],axis=0)\n",
    "df_under = df.copy()"
   ]
  },
  {
   "cell_type": "code",
   "execution_count": 44,
   "metadata": {
    "colab": {
     "background_save": true
    },
    "id": "efgL9oEDSlA8"
   },
   "outputs": [
    {
     "data": {
      "text/html": [
       "<div>\n",
       "<style scoped>\n",
       "    .dataframe tbody tr th:only-of-type {\n",
       "        vertical-align: middle;\n",
       "    }\n",
       "\n",
       "    .dataframe tbody tr th {\n",
       "        vertical-align: top;\n",
       "    }\n",
       "\n",
       "    .dataframe thead th {\n",
       "        text-align: right;\n",
       "    }\n",
       "</style>\n",
       "<table border=\"1\" class=\"dataframe\">\n",
       "  <thead>\n",
       "    <tr style=\"text-align: right;\">\n",
       "      <th></th>\n",
       "      <th>SK_ID_CURR</th>\n",
       "      <th>SK_ID_BUREAU</th>\n",
       "      <th>CREDIT_ACTIVE</th>\n",
       "      <th>CREDIT_CURRENCY</th>\n",
       "      <th>DAYS_CREDIT</th>\n",
       "      <th>CREDIT_DAY_OVERDUE</th>\n",
       "      <th>DAYS_CREDIT_ENDDATE</th>\n",
       "      <th>DAYS_ENDDATE_FACT</th>\n",
       "      <th>AMT_CREDIT_MAX_OVERDUE</th>\n",
       "      <th>CNT_CREDIT_PROLONG</th>\n",
       "      <th>AMT_CREDIT_SUM</th>\n",
       "      <th>AMT_CREDIT_SUM_DEBT</th>\n",
       "      <th>AMT_CREDIT_SUM_LIMIT</th>\n",
       "      <th>AMT_CREDIT_SUM_OVERDUE</th>\n",
       "      <th>CREDIT_TYPE</th>\n",
       "      <th>DAYS_CREDIT_UPDATE</th>\n",
       "      <th>AMT_ANNUITY</th>\n",
       "    </tr>\n",
       "  </thead>\n",
       "  <tbody>\n",
       "    <tr>\n",
       "      <th>0</th>\n",
       "      <td>215354</td>\n",
       "      <td>5714462</td>\n",
       "      <td>Closed</td>\n",
       "      <td>currency 1</td>\n",
       "      <td>-497</td>\n",
       "      <td>0</td>\n",
       "      <td>-153.0</td>\n",
       "      <td>-153.0</td>\n",
       "      <td>NaN</td>\n",
       "      <td>0</td>\n",
       "      <td>91323.00</td>\n",
       "      <td>0.0</td>\n",
       "      <td>NaN</td>\n",
       "      <td>0.0</td>\n",
       "      <td>Consumer credit</td>\n",
       "      <td>-131</td>\n",
       "      <td>NaN</td>\n",
       "    </tr>\n",
       "    <tr>\n",
       "      <th>1</th>\n",
       "      <td>215354</td>\n",
       "      <td>5714463</td>\n",
       "      <td>Active</td>\n",
       "      <td>currency 1</td>\n",
       "      <td>-208</td>\n",
       "      <td>0</td>\n",
       "      <td>1075.0</td>\n",
       "      <td>NaN</td>\n",
       "      <td>NaN</td>\n",
       "      <td>0</td>\n",
       "      <td>225000.00</td>\n",
       "      <td>171342.0</td>\n",
       "      <td>NaN</td>\n",
       "      <td>0.0</td>\n",
       "      <td>Credit card</td>\n",
       "      <td>-20</td>\n",
       "      <td>NaN</td>\n",
       "    </tr>\n",
       "    <tr>\n",
       "      <th>2</th>\n",
       "      <td>215354</td>\n",
       "      <td>5714464</td>\n",
       "      <td>Active</td>\n",
       "      <td>currency 1</td>\n",
       "      <td>-203</td>\n",
       "      <td>0</td>\n",
       "      <td>528.0</td>\n",
       "      <td>NaN</td>\n",
       "      <td>NaN</td>\n",
       "      <td>0</td>\n",
       "      <td>464323.50</td>\n",
       "      <td>NaN</td>\n",
       "      <td>NaN</td>\n",
       "      <td>0.0</td>\n",
       "      <td>Consumer credit</td>\n",
       "      <td>-16</td>\n",
       "      <td>NaN</td>\n",
       "    </tr>\n",
       "    <tr>\n",
       "      <th>3</th>\n",
       "      <td>215354</td>\n",
       "      <td>5714465</td>\n",
       "      <td>Active</td>\n",
       "      <td>currency 1</td>\n",
       "      <td>-203</td>\n",
       "      <td>0</td>\n",
       "      <td>NaN</td>\n",
       "      <td>NaN</td>\n",
       "      <td>NaN</td>\n",
       "      <td>0</td>\n",
       "      <td>90000.00</td>\n",
       "      <td>NaN</td>\n",
       "      <td>NaN</td>\n",
       "      <td>0.0</td>\n",
       "      <td>Credit card</td>\n",
       "      <td>-16</td>\n",
       "      <td>NaN</td>\n",
       "    </tr>\n",
       "    <tr>\n",
       "      <th>4</th>\n",
       "      <td>215354</td>\n",
       "      <td>5714466</td>\n",
       "      <td>Active</td>\n",
       "      <td>currency 1</td>\n",
       "      <td>-629</td>\n",
       "      <td>0</td>\n",
       "      <td>1197.0</td>\n",
       "      <td>NaN</td>\n",
       "      <td>77674.5</td>\n",
       "      <td>0</td>\n",
       "      <td>2700000.00</td>\n",
       "      <td>NaN</td>\n",
       "      <td>NaN</td>\n",
       "      <td>0.0</td>\n",
       "      <td>Consumer credit</td>\n",
       "      <td>-21</td>\n",
       "      <td>NaN</td>\n",
       "    </tr>\n",
       "    <tr>\n",
       "      <th>...</th>\n",
       "      <td>...</td>\n",
       "      <td>...</td>\n",
       "      <td>...</td>\n",
       "      <td>...</td>\n",
       "      <td>...</td>\n",
       "      <td>...</td>\n",
       "      <td>...</td>\n",
       "      <td>...</td>\n",
       "      <td>...</td>\n",
       "      <td>...</td>\n",
       "      <td>...</td>\n",
       "      <td>...</td>\n",
       "      <td>...</td>\n",
       "      <td>...</td>\n",
       "      <td>...</td>\n",
       "      <td>...</td>\n",
       "      <td>...</td>\n",
       "    </tr>\n",
       "    <tr>\n",
       "      <th>1716423</th>\n",
       "      <td>259355</td>\n",
       "      <td>5057750</td>\n",
       "      <td>Active</td>\n",
       "      <td>currency 1</td>\n",
       "      <td>-44</td>\n",
       "      <td>0</td>\n",
       "      <td>-30.0</td>\n",
       "      <td>NaN</td>\n",
       "      <td>0.0</td>\n",
       "      <td>0</td>\n",
       "      <td>11250.00</td>\n",
       "      <td>11250.0</td>\n",
       "      <td>0.0</td>\n",
       "      <td>0.0</td>\n",
       "      <td>Microloan</td>\n",
       "      <td>-19</td>\n",
       "      <td>NaN</td>\n",
       "    </tr>\n",
       "    <tr>\n",
       "      <th>1716424</th>\n",
       "      <td>100044</td>\n",
       "      <td>5057754</td>\n",
       "      <td>Closed</td>\n",
       "      <td>currency 1</td>\n",
       "      <td>-2648</td>\n",
       "      <td>0</td>\n",
       "      <td>-2433.0</td>\n",
       "      <td>-2493.0</td>\n",
       "      <td>5476.5</td>\n",
       "      <td>0</td>\n",
       "      <td>38130.84</td>\n",
       "      <td>0.0</td>\n",
       "      <td>0.0</td>\n",
       "      <td>0.0</td>\n",
       "      <td>Consumer credit</td>\n",
       "      <td>-2493</td>\n",
       "      <td>NaN</td>\n",
       "    </tr>\n",
       "    <tr>\n",
       "      <th>1716425</th>\n",
       "      <td>100044</td>\n",
       "      <td>5057762</td>\n",
       "      <td>Closed</td>\n",
       "      <td>currency 1</td>\n",
       "      <td>-1809</td>\n",
       "      <td>0</td>\n",
       "      <td>-1628.0</td>\n",
       "      <td>-970.0</td>\n",
       "      <td>NaN</td>\n",
       "      <td>0</td>\n",
       "      <td>15570.00</td>\n",
       "      <td>NaN</td>\n",
       "      <td>NaN</td>\n",
       "      <td>0.0</td>\n",
       "      <td>Consumer credit</td>\n",
       "      <td>-967</td>\n",
       "      <td>NaN</td>\n",
       "    </tr>\n",
       "    <tr>\n",
       "      <th>1716426</th>\n",
       "      <td>246829</td>\n",
       "      <td>5057770</td>\n",
       "      <td>Closed</td>\n",
       "      <td>currency 1</td>\n",
       "      <td>-1878</td>\n",
       "      <td>0</td>\n",
       "      <td>-1513.0</td>\n",
       "      <td>-1513.0</td>\n",
       "      <td>NaN</td>\n",
       "      <td>0</td>\n",
       "      <td>36000.00</td>\n",
       "      <td>0.0</td>\n",
       "      <td>0.0</td>\n",
       "      <td>0.0</td>\n",
       "      <td>Consumer credit</td>\n",
       "      <td>-1508</td>\n",
       "      <td>NaN</td>\n",
       "    </tr>\n",
       "    <tr>\n",
       "      <th>1716427</th>\n",
       "      <td>246829</td>\n",
       "      <td>5057778</td>\n",
       "      <td>Closed</td>\n",
       "      <td>currency 1</td>\n",
       "      <td>-463</td>\n",
       "      <td>0</td>\n",
       "      <td>NaN</td>\n",
       "      <td>-387.0</td>\n",
       "      <td>NaN</td>\n",
       "      <td>0</td>\n",
       "      <td>22500.00</td>\n",
       "      <td>0.0</td>\n",
       "      <td>NaN</td>\n",
       "      <td>0.0</td>\n",
       "      <td>Microloan</td>\n",
       "      <td>-387</td>\n",
       "      <td>NaN</td>\n",
       "    </tr>\n",
       "  </tbody>\n",
       "</table>\n",
       "<p>1716428 rows × 17 columns</p>\n",
       "</div>"
      ],
      "text/plain": [
       "         SK_ID_CURR  SK_ID_BUREAU CREDIT_ACTIVE CREDIT_CURRENCY  DAYS_CREDIT  \\\n",
       "0            215354       5714462        Closed      currency 1         -497   \n",
       "1            215354       5714463        Active      currency 1         -208   \n",
       "2            215354       5714464        Active      currency 1         -203   \n",
       "3            215354       5714465        Active      currency 1         -203   \n",
       "4            215354       5714466        Active      currency 1         -629   \n",
       "...             ...           ...           ...             ...          ...   \n",
       "1716423      259355       5057750        Active      currency 1          -44   \n",
       "1716424      100044       5057754        Closed      currency 1        -2648   \n",
       "1716425      100044       5057762        Closed      currency 1        -1809   \n",
       "1716426      246829       5057770        Closed      currency 1        -1878   \n",
       "1716427      246829       5057778        Closed      currency 1         -463   \n",
       "\n",
       "         CREDIT_DAY_OVERDUE  DAYS_CREDIT_ENDDATE  DAYS_ENDDATE_FACT  \\\n",
       "0                         0               -153.0             -153.0   \n",
       "1                         0               1075.0                NaN   \n",
       "2                         0                528.0                NaN   \n",
       "3                         0                  NaN                NaN   \n",
       "4                         0               1197.0                NaN   \n",
       "...                     ...                  ...                ...   \n",
       "1716423                   0                -30.0                NaN   \n",
       "1716424                   0              -2433.0            -2493.0   \n",
       "1716425                   0              -1628.0             -970.0   \n",
       "1716426                   0              -1513.0            -1513.0   \n",
       "1716427                   0                  NaN             -387.0   \n",
       "\n",
       "         AMT_CREDIT_MAX_OVERDUE  CNT_CREDIT_PROLONG  AMT_CREDIT_SUM  \\\n",
       "0                           NaN                   0        91323.00   \n",
       "1                           NaN                   0       225000.00   \n",
       "2                           NaN                   0       464323.50   \n",
       "3                           NaN                   0        90000.00   \n",
       "4                       77674.5                   0      2700000.00   \n",
       "...                         ...                 ...             ...   \n",
       "1716423                     0.0                   0        11250.00   \n",
       "1716424                  5476.5                   0        38130.84   \n",
       "1716425                     NaN                   0        15570.00   \n",
       "1716426                     NaN                   0        36000.00   \n",
       "1716427                     NaN                   0        22500.00   \n",
       "\n",
       "         AMT_CREDIT_SUM_DEBT  AMT_CREDIT_SUM_LIMIT  AMT_CREDIT_SUM_OVERDUE  \\\n",
       "0                        0.0                   NaN                     0.0   \n",
       "1                   171342.0                   NaN                     0.0   \n",
       "2                        NaN                   NaN                     0.0   \n",
       "3                        NaN                   NaN                     0.0   \n",
       "4                        NaN                   NaN                     0.0   \n",
       "...                      ...                   ...                     ...   \n",
       "1716423              11250.0                   0.0                     0.0   \n",
       "1716424                  0.0                   0.0                     0.0   \n",
       "1716425                  NaN                   NaN                     0.0   \n",
       "1716426                  0.0                   0.0                     0.0   \n",
       "1716427                  0.0                   NaN                     0.0   \n",
       "\n",
       "             CREDIT_TYPE  DAYS_CREDIT_UPDATE  AMT_ANNUITY  \n",
       "0        Consumer credit                -131          NaN  \n",
       "1            Credit card                 -20          NaN  \n",
       "2        Consumer credit                 -16          NaN  \n",
       "3            Credit card                 -16          NaN  \n",
       "4        Consumer credit                 -21          NaN  \n",
       "...                  ...                 ...          ...  \n",
       "1716423        Microloan                 -19          NaN  \n",
       "1716424  Consumer credit               -2493          NaN  \n",
       "1716425  Consumer credit                -967          NaN  \n",
       "1716426  Consumer credit               -1508          NaN  \n",
       "1716427        Microloan                -387          NaN  \n",
       "\n",
       "[1716428 rows x 17 columns]"
      ]
     },
     "execution_count": 44,
     "metadata": {},
     "output_type": "execute_result"
    }
   ],
   "source": [
    "bureau"
   ]
  },
  {
   "cell_type": "code",
   "execution_count": 45,
   "metadata": {
    "id": "iiCAUlqhi-U0"
   },
   "outputs": [],
   "source": [
    "# 6.b - fix balance with SMOTE on your previously copied dataframe\n",
    "# You can use any external libraries to use SMOTE. We recommend the imbalanced-learn package https://imbalanced-learn.org/stable/over_sampling.html\n",
    "# Make sure to select the appropriate SMOTE variant.\n",
    "\n",
    "from imblearn.over_sampling import SMOTENC\n",
    "## Your code here\n",
    "X = fill_missing(app_train.drop('TARGET', axis=1))  # do not forget to fix missing data on the train set to!\n",
    "categorical_features=list(X.select_dtypes(exclude='number').columns)\n",
    "X[categorical_features] = X[categorical_features].astype('string')\n",
    "categorical_features_index = [i for i,c in enumerate(X.columns) if c in categorical_features]\n",
    "X_resampled, y_resampled = SMOTENC(categorical_features=categorical_features_index).fit_resample(X, app_train['TARGET'])"
   ]
  },
  {
   "cell_type": "code",
   "execution_count": 46,
   "metadata": {
    "colab": {
     "base_uri": "https://localhost:8080/"
    },
    "id": "AT1bBwJds2pF",
    "outputId": "817d2286-444f-4d18-8360-fc545fd8aa1b"
   },
   "outputs": [
    {
     "name": "stderr",
     "output_type": "stream",
     "text": [
      "/var/folders/l0/k7f2rhdj5xg3__zf2_xlw76c0000gn/T/ipykernel_68041/525175242.py:2: PerformanceWarning: DataFrame is highly fragmented.  This is usually the result of calling `frame.insert` many times, which has poor performance.  Consider joining all columns at once using pd.concat(axis=1) instead. To get a de-fragmented frame, use `newframe = frame.copy()`\n",
      "  app_train_smote[\"TARGET\"] = y_resampled\n"
     ]
    }
   ],
   "source": [
    "app_train_smote = pd.DataFrame(columns = X.columns, data=X_resampled)\n",
    "app_train_smote[\"TARGET\"] = y_resampled"
   ]
  },
  {
   "cell_type": "code",
   "execution_count": null,
   "metadata": {
    "id": "lV4DkiHprwXd"
   },
   "outputs": [],
   "source": [
    "# We will use the dataframe app_train from 6.a in the following\n",
    "app_train = df_over"
   ]
  },
  {
   "cell_type": "markdown",
   "metadata": {
    "id": "h27ZdP7aloQb"
   },
   "source": [
    "<h2>Categorical features (9pts)</h2>\n",
    "\n",
    "In app_test\n",
    "\n",
    "**7a**: How will you transform the column NAME_HOUSING_TYPE in app_test be correctly handled by the model? How will you transform CODE_GENDER column?\n",
    "\n",
    "**7b**: How would you transform the column NAME_HOUSING_TYPE in app_test if you want only 3 categories? Use LabelEncoder to transform FLAG_OWN_CAR column.\n",
    "\n",
    "**7c**: In ORGANIZATION_TYPE, only keep the categories that appear in more than 10% of the dataset. Group other categories in one. What is the size of the dummy vector for ORGANIZATION_TYPE after this transformation?\n",
    "\n",
    "\n",
    "8: **In app_test, app_past and bureau,** transform all the categorical columns that you have not processed in 7 using One-hot encoding.\n",
    "\n",
    "*You will be evaluated as follow*\n",
    "* 7: Description of the approach 4pts. Code 3pts.\n",
    "* 8: Correct approach + code 2pts."
   ]
  },
  {
   "cell_type": "code",
   "execution_count": 48,
   "metadata": {
    "colab": {
     "base_uri": "https://localhost:8080/"
    },
    "id": "shlk_faurPh6",
    "outputId": "b0a7a38d-6e2b-41b2-feef-c9c4895e4387"
   },
   "outputs": [
    {
     "name": "stdout",
     "output_type": "stream",
     "text": [
      "NAME_HOUSING_TYPE\n",
      "House / apartment      43645\n",
      "With parents            2234\n",
      "Municipal apartment     1617\n",
      "Rented apartment         718\n",
      "Office apartment         407\n",
      "Co-op apartment          123\n",
      "Name: count, dtype: int64\n",
      "CODE_GENDER\n",
      "F    32678\n",
      "M    16066\n",
      "Name: count, dtype: int64\n"
     ]
    }
   ],
   "source": [
    "## Your code here\n",
    "app_test_cat = app_test.copy()\n",
    "\n",
    "### 7.a: We will use one hot encoding with 6 categories\n",
    "print(app_test_cat.NAME_HOUSING_TYPE.value_counts())\n",
    "one_hot_housing_type = pd.get_dummies(app_test_cat['NAME_HOUSING_TYPE'],prefix=\"HOUSING_TYPE\")\n",
    "\n",
    "### 7.a: We will use one hot encoding with 2 categories\n",
    "print(app_test_cat.CODE_GENDER.value_counts())\n",
    "one_hot_gender = pd.get_dummies(app_test_cat['CODE_GENDER'],prefix=\"GENDER\")"
   ]
  },
  {
   "cell_type": "code",
   "execution_count": 49,
   "metadata": {
    "colab": {
     "base_uri": "https://localhost:8080/"
    },
    "id": "otMK5xXhvhmG",
    "outputId": "ce85fd5e-2d08-434b-fd6d-67c1be59f464"
   },
   "outputs": [
    {
     "name": "stdout",
     "output_type": "stream",
     "text": [
      "Index(['House / apartment', 'With parents'], dtype='object', name='NAME_HOUSING_TYPE')\n",
      "NAME_HOUSING_TYPE\n",
      "House / apartment    43645\n",
      "OTHER                 2865\n",
      "With parents          2234\n",
      "Name: count, dtype: int64\n"
     ]
    }
   ],
   "source": [
    "### 7.b: We will use one hot encoding with 6 categories\n",
    "\n",
    "top_housing = app_test_cat.NAME_HOUSING_TYPE.value_counts().index[0:2]\n",
    "print(top_housing)\n",
    "app_test_cat.loc[~app_test_cat.NAME_HOUSING_TYPE.isin(top_housing),\"NAME_HOUSING_TYPE\"]=\"OTHER\"\n",
    "print(app_test_cat.NAME_HOUSING_TYPE.value_counts())\n",
    "one_hot_housing_type = pd.get_dummies(app_test_cat['NAME_HOUSING_TYPE'],prefix=\"HOUSING_TYPE\")"
   ]
  },
  {
   "cell_type": "code",
   "execution_count": 50,
   "metadata": {
    "colab": {
     "base_uri": "https://localhost:8080/"
    },
    "id": "o0AdBwGvwria",
    "outputId": "e6e38daa-d849-45e0-b339-ffe5e504db35"
   },
   "outputs": [
    {
     "data": {
      "text/plain": [
       "FLAG_OWN_CAR\n",
       "0    32311\n",
       "1    16433\n",
       "Name: count, dtype: int64"
      ]
     },
     "execution_count": 50,
     "metadata": {},
     "output_type": "execute_result"
    }
   ],
   "source": [
    "### 7.b: Transform FLAG_OWN_CAR\n",
    "from sklearn import preprocessing\n",
    "\n",
    "le = preprocessing.LabelEncoder()\n",
    "le.fit(app_test_cat.FLAG_OWN_CAR)\n",
    "app_test_cat.FLAG_OWN_CAR = le.transform(app_test_cat.FLAG_OWN_CAR)\n",
    "app_test_cat.FLAG_OWN_CAR.value_counts()"
   ]
  },
  {
   "cell_type": "code",
   "execution_count": 51,
   "metadata": {
    "colab": {
     "base_uri": "https://localhost:8080/"
    },
    "id": "wlIdjzLmxc2c",
    "outputId": "f1b84a34-2320-4045-d140-d7d079ce16a2"
   },
   "outputs": [
    {
     "name": "stdout",
     "output_type": "stream",
     "text": [
      "ORGANIZATION_TYPE\n",
      "OTHER                     22710\n",
      "Business Entity Type 3    10840\n",
      "XNA                        9274\n",
      "Self-employed              5920\n",
      "Name: count, dtype: int64\n"
     ]
    }
   ],
   "source": [
    "### 7.b: Transform ORGANIZATION_TYPE. By keeping the categories with > 10% we end up with 4 categories\n",
    "\n",
    "X = app_test_cat.ORGANIZATION_TYPE.value_counts(normalize=True)\n",
    "merge_columns = X[X.values<0.1].index\n",
    "\n",
    "app_test_cat.loc[app_test_cat.ORGANIZATION_TYPE.isin(merge_columns),\"ORGANIZATION_TYPE\"]=\"OTHER\"\n",
    "print(app_test_cat.ORGANIZATION_TYPE.value_counts())"
   ]
  },
  {
   "cell_type": "code",
   "execution_count": 52,
   "metadata": {
    "id": "hjACB72RycV9"
   },
   "outputs": [],
   "source": [
    "### 8:\n",
    "\n",
    "app_test_cat = pd.get_dummies(app_test_cat, dummy_na=True)\n",
    "app_past_cat = pd.get_dummies(app_past, dummy_na=True)\n",
    "bureau_cat = pd.get_dummies(bureau, dummy_na=True)"
   ]
  },
  {
   "cell_type": "markdown",
   "metadata": {
    "id": "ufWJR8ScnHb4"
   },
   "source": [
    "<h2>Anomalies (7 pts)</h2>\n",
    "\n",
    "**In app_test**\n",
    "\n",
    "**9a**: Is there an anomaly with the column DEF_30_CNT_SOCIAL_CIRCLE? If so, how would you solve it?\n",
    "\n",
    "**9b**: Is there an anomaly with the column LANDAREA_AVG? If so, how would you solve it?\n",
    "\n",
    "**9c**: Is there an anomaly with the column AMT_INCOME_TOTAL? If so, how would you solve it?\n",
    "\n",
    "10: Fix the anomaly in DAYS_EMPLOYED?\n",
    "\n",
    "*You will be evaluated as follow*\n",
    "* 9: Description of the approach + code 5pts.\n",
    "* 10: code 2pts"
   ]
  },
  {
   "cell_type": "code",
   "execution_count": 53,
   "metadata": {
    "colab": {
     "base_uri": "https://localhost:8080/",
     "height": 577
    },
    "id": "I5TcZk8Q5jQ-",
    "outputId": "a7e6e3db-2731-4860-9596-2fba444db08c"
   },
   "outputs": [
    {
     "name": "stdout",
     "output_type": "stream",
     "text": [
      "count    48715.000000\n",
      "mean         0.143652\n",
      "std          0.514413\n",
      "min          0.000000\n",
      "25%          0.000000\n",
      "50%          0.000000\n",
      "75%          0.000000\n",
      "max         34.000000\n",
      "Name: DEF_30_CNT_SOCIAL_CIRCLE, dtype: float64\n",
      "count    48715.000000\n",
      "mean         0.101139\n",
      "std          0.403791\n",
      "min          0.000000\n",
      "25%          0.000000\n",
      "50%          0.000000\n",
      "75%          0.000000\n",
      "max         24.000000\n",
      "Name: DEF_60_CNT_SOCIAL_CIRCLE, dtype: float64\n"
     ]
    },
    {
     "data": {
      "image/png": "[encoded data removed]",
      "text/plain": [
       "<Figure size 640x480 with 1 Axes>"
      ]
     },
     "metadata": {},
     "output_type": "display_data"
    }
   ],
   "source": [
    "## Your code here\n",
    "## 9a: According to definitions provided, the variable DEF_30_CNT_SOCIAL_CIRCLE means How many observation of client's social surroundings defaulted on 30 DPD (days past due).\n",
    "## Therefore the possibles values just need to be intgers. Which is the case. The only issue are the NaN values.\n",
    "## We also study DEF_60_CNT_SOCIAL_CIRCLE which is supposed to be lower than DEF_30_CNT_SOCIAL_CIRCLE to check for coherence issues. There are none.\n",
    "print(app_test.DEF_30_CNT_SOCIAL_CIRCLE.describe())\n",
    "print(app_test.DEF_60_CNT_SOCIAL_CIRCLE.describe())\n",
    "\n",
    "plt.hist(app_test.DEF_30_CNT_SOCIAL_CIRCLE,100)\n",
    "plt.hist(app_test.DEF_60_CNT_SOCIAL_CIRCLE, 100)\n",
    "\n",
    "plt.show()"
   ]
  },
  {
   "cell_type": "code",
   "execution_count": 54,
   "metadata": {
    "colab": {
     "base_uri": "https://localhost:8080/"
    },
    "id": "Gy_NzJLS0b4R",
    "outputId": "9130d45f-937e-4e11-f3f4-1db1f39518b1"
   },
   "outputs": [
    {
     "name": "stdout",
     "output_type": "stream",
     "text": [
      "5.448875759067782\n"
     ]
    }
   ],
   "source": [
    "###9b: There are ~5% rows where LANDAREA_AVG = 0. Those are impossible values. They need to be removed\n",
    "app_test['LANDAREA_AVG'].describe()\n",
    "print(len(app_test[app_test['LANDAREA_AVG'] == 0]) / len(app_test['LANDAREA_AVG'])*100)\n",
    "app_test_fixed = app_test[app_test['LANDAREA_AVG'] != 0]"
   ]
  },
  {
   "cell_type": "code",
   "execution_count": 55,
   "metadata": {
    "colab": {
     "base_uri": "https://localhost:8080/",
     "height": 434
    },
    "id": "nCMntjoy1vAK",
    "outputId": "a115261d-9fbe-4070-8f07-cb24063c8140"
   },
   "outputs": [
    {
     "data": {
      "image/png": "[encoded data removed]",
      "text/plain": [
       "<Figure size 640x480 with 1 Axes>"
      ]
     },
     "metadata": {},
     "output_type": "display_data"
    },
    {
     "data": {
      "text/plain": [
       "count    4.874400e+04\n",
       "mean     1.784318e+05\n",
       "std      1.015226e+05\n",
       "min      2.694150e+04\n",
       "25%      1.125000e+05\n",
       "50%      1.575000e+05\n",
       "75%      2.250000e+05\n",
       "max      4.410000e+06\n",
       "Name: AMT_INCOME_TOTAL, dtype: float64"
      ]
     },
     "execution_count": 55,
     "metadata": {},
     "output_type": "execute_result"
    }
   ],
   "source": [
    "###9c: AMT_INCOME_TOTAL is the Income of the client; It just need to be a positive float number. Which is the case.\n",
    "plt.hist(app_test.AMT_INCOME_TOTAL,100)\n",
    "plt.show()\n",
    "app_test.AMT_INCOME_TOTAL.describe()"
   ]
  },
  {
   "cell_type": "code",
   "execution_count": 56,
   "metadata": {
    "colab": {
     "base_uri": "https://localhost:8080/",
     "height": 439
    },
    "id": "sgWz_Z5S2y7a",
    "outputId": "0a8a4534-75de-4ee8-8368-349062c8f2b5"
   },
   "outputs": [
    {
     "data": {
      "image/png": "[encoded data removed]",
      "text/plain": [
       "<Figure size 640x480 with 1 Axes>"
      ]
     },
     "metadata": {},
     "output_type": "display_data"
    },
    {
     "name": "stdout",
     "output_type": "stream",
     "text": [
      "19.02593139668472\n",
      "count     48744.000000\n",
      "mean      67485.366322\n",
      "std      144348.507136\n",
      "min      -17463.000000\n",
      "25%       -2910.000000\n",
      "50%       -1293.000000\n",
      "75%        -296.000000\n",
      "max      365243.000000\n",
      "Name: DAYS_EMPLOYED, dtype: float64\n"
     ]
    }
   ],
   "source": [
    "###10 Anomaly of DAYS_EMPLOYED: There are negative values and positive values > 350k.\n",
    "### DAYS_EMPLOYED refer to How many days before the application the person started current employment,time only relative to the application\n",
    "### Therefore it can only be negative. There however 19% of positive values that need to be removed\n",
    "plt.hist(app_test.DAYS_EMPLOYED,100)\n",
    "plt.show()\n",
    "\n",
    "print(len(app_test[app_test['DAYS_EMPLOYED'] > 0]) / len(app_test['DAYS_EMPLOYED'])* 100)\n",
    "print(app_test['DAYS_EMPLOYED'].describe())\n",
    "\n",
    "app_test_fixed = app_test_fixed[app_test_fixed['DAYS_EMPLOYED'] < 0]"
   ]
  },
  {
   "cell_type": "markdown",
   "metadata": {
    "id": "DgQ2i5B25lRC"
   },
   "source": [
    "<h2>Correlations (9 pts)</h2>\n",
    "\n",
    "\n",
    "11: **In app_test**, remove the collinear features of the dataset. How did you choose the threshold?\n",
    "\n",
    "12: What features from bureau.csv could you use to improve the training set? Use the random forest model from the notebook of the Lecture to check if it actually improves the final model performance.\n",
    "\n",
    "*You will be evaluated as follow*\n",
    "* 11: Code 3pts. Threshold explanation 1pt.\n",
    "* 12: Description of the approach 1pt. Code implementation of the approach 2pts. Improved performance 2pts."
   ]
  },
  {
   "cell_type": "code",
   "execution_count": 57,
   "metadata": {
    "id": "uU1j3LW2S-ir"
   },
   "outputs": [],
   "source": [
    "## Your code here\n",
    "###11: We select the threshold of 95% that gives an initial correlated features of 30. If we move to threhold of 0.8, it increases the number of correlated features to 39. Which usggest that 90% threshold is enough.\n",
    "app_test_uncorrelated = app_test.copy()\n",
    "\n",
    "def get_correlated(df, correlation_threshold = 0.95):\n",
    "  correlations = df.corr(method='pearson')\n",
    "  corrs = correlations.where(np.triu(np.ones(correlations.shape)).astype(np.bool))\n",
    "\n",
    "  corrs = corrs.stack().reset_index()\n",
    "  corrs.columns = ['Row','Column','Value']\n",
    "  return corrs[(corrs[\"Value\"]>correlation_threshold) & (corrs[\"Value\"]<1)].sort_values(by=\"Value\",ascending=False)"
   ]
  },
  {
   "cell_type": "code",
   "execution_count": 58,
   "metadata": {
    "colab": {
     "base_uri": "https://localhost:8080/"
    },
    "id": "xsYTDeeA8YI_",
    "outputId": "ccaecdb2-014c-4547-e781-74f89f002ba8"
   },
   "outputs": [
    {
     "ename": "ValueError",
     "evalue": "could not convert string to float: 'Cash loans'",
     "output_type": "error",
     "traceback": [
      "\u001b[0;31m---------------------------------------------------------------------------\u001b[0m",
      "\u001b[0;31mValueError\u001b[0m                                Traceback (most recent call last)",
      "Cell \u001b[0;32mIn[58], line 1\u001b[0m\n\u001b[0;32m----> 1\u001b[0m \u001b[38;5;28mlen\u001b[39m(\u001b[43mget_correlated\u001b[49m\u001b[43m(\u001b[49m\u001b[43mapp_test\u001b[49m\u001b[43m,\u001b[49m\u001b[43m \u001b[49m\u001b[38;5;241;43m0.8\u001b[39;49m\u001b[43m)\u001b[49m\u001b[38;5;241m.\u001b[39mRow\u001b[38;5;241m.\u001b[39munique())\n",
      "Cell \u001b[0;32mIn[57], line 6\u001b[0m, in \u001b[0;36mget_correlated\u001b[0;34m(df, correlation_threshold)\u001b[0m\n\u001b[1;32m      5\u001b[0m \u001b[38;5;28;01mdef\u001b[39;00m \u001b[38;5;21mget_correlated\u001b[39m(df, correlation_threshold \u001b[38;5;241m=\u001b[39m \u001b[38;5;241m0.95\u001b[39m):\n\u001b[0;32m----> 6\u001b[0m   correlations \u001b[38;5;241m=\u001b[39m \u001b[43mdf\u001b[49m\u001b[38;5;241;43m.\u001b[39;49m\u001b[43mcorr\u001b[49m\u001b[43m(\u001b[49m\u001b[43mmethod\u001b[49m\u001b[38;5;241;43m=\u001b[39;49m\u001b[38;5;124;43m'\u001b[39;49m\u001b[38;5;124;43mpearson\u001b[39;49m\u001b[38;5;124;43m'\u001b[39;49m\u001b[43m)\u001b[49m\n\u001b[1;32m      7\u001b[0m   corrs \u001b[38;5;241m=\u001b[39m correlations\u001b[38;5;241m.\u001b[39mwhere(np\u001b[38;5;241m.\u001b[39mtriu(np\u001b[38;5;241m.\u001b[39mones(correlations\u001b[38;5;241m.\u001b[39mshape))\u001b[38;5;241m.\u001b[39mastype(np\u001b[38;5;241m.\u001b[39mbool))\n\u001b[1;32m      9\u001b[0m   corrs \u001b[38;5;241m=\u001b[39m corrs\u001b[38;5;241m.\u001b[39mstack()\u001b[38;5;241m.\u001b[39mreset_index()\n",
      "File \u001b[0;32m~/Desktop/3rd_semester/Advanced topics in applied Machine Learning/appliedmlenv/lib/python3.10/site-packages/pandas/core/frame.py:11049\u001b[0m, in \u001b[0;36mDataFrame.corr\u001b[0;34m(self, method, min_periods, numeric_only)\u001b[0m\n\u001b[1;32m  11047\u001b[0m cols \u001b[38;5;241m=\u001b[39m data\u001b[38;5;241m.\u001b[39mcolumns\n\u001b[1;32m  11048\u001b[0m idx \u001b[38;5;241m=\u001b[39m cols\u001b[38;5;241m.\u001b[39mcopy()\n\u001b[0;32m> 11049\u001b[0m mat \u001b[38;5;241m=\u001b[39m \u001b[43mdata\u001b[49m\u001b[38;5;241;43m.\u001b[39;49m\u001b[43mto_numpy\u001b[49m\u001b[43m(\u001b[49m\u001b[43mdtype\u001b[49m\u001b[38;5;241;43m=\u001b[39;49m\u001b[38;5;28;43mfloat\u001b[39;49m\u001b[43m,\u001b[49m\u001b[43m \u001b[49m\u001b[43mna_value\u001b[49m\u001b[38;5;241;43m=\u001b[39;49m\u001b[43mnp\u001b[49m\u001b[38;5;241;43m.\u001b[39;49m\u001b[43mnan\u001b[49m\u001b[43m,\u001b[49m\u001b[43m \u001b[49m\u001b[43mcopy\u001b[49m\u001b[38;5;241;43m=\u001b[39;49m\u001b[38;5;28;43;01mFalse\u001b[39;49;00m\u001b[43m)\u001b[49m\n\u001b[1;32m  11051\u001b[0m \u001b[38;5;28;01mif\u001b[39;00m method \u001b[38;5;241m==\u001b[39m \u001b[38;5;124m\"\u001b[39m\u001b[38;5;124mpearson\u001b[39m\u001b[38;5;124m\"\u001b[39m:\n\u001b[1;32m  11052\u001b[0m     correl \u001b[38;5;241m=\u001b[39m libalgos\u001b[38;5;241m.\u001b[39mnancorr(mat, minp\u001b[38;5;241m=\u001b[39mmin_periods)\n",
      "File \u001b[0;32m~/Desktop/3rd_semester/Advanced topics in applied Machine Learning/appliedmlenv/lib/python3.10/site-packages/pandas/core/frame.py:1993\u001b[0m, in \u001b[0;36mDataFrame.to_numpy\u001b[0;34m(self, dtype, copy, na_value)\u001b[0m\n\u001b[1;32m   1991\u001b[0m \u001b[38;5;28;01mif\u001b[39;00m dtype \u001b[38;5;129;01mis\u001b[39;00m \u001b[38;5;129;01mnot\u001b[39;00m \u001b[38;5;28;01mNone\u001b[39;00m:\n\u001b[1;32m   1992\u001b[0m     dtype \u001b[38;5;241m=\u001b[39m np\u001b[38;5;241m.\u001b[39mdtype(dtype)\n\u001b[0;32m-> 1993\u001b[0m result \u001b[38;5;241m=\u001b[39m \u001b[38;5;28;43mself\u001b[39;49m\u001b[38;5;241;43m.\u001b[39;49m\u001b[43m_mgr\u001b[49m\u001b[38;5;241;43m.\u001b[39;49m\u001b[43mas_array\u001b[49m\u001b[43m(\u001b[49m\u001b[43mdtype\u001b[49m\u001b[38;5;241;43m=\u001b[39;49m\u001b[43mdtype\u001b[49m\u001b[43m,\u001b[49m\u001b[43m \u001b[49m\u001b[43mcopy\u001b[49m\u001b[38;5;241;43m=\u001b[39;49m\u001b[43mcopy\u001b[49m\u001b[43m,\u001b[49m\u001b[43m \u001b[49m\u001b[43mna_value\u001b[49m\u001b[38;5;241;43m=\u001b[39;49m\u001b[43mna_value\u001b[49m\u001b[43m)\u001b[49m\n\u001b[1;32m   1994\u001b[0m \u001b[38;5;28;01mif\u001b[39;00m result\u001b[38;5;241m.\u001b[39mdtype \u001b[38;5;129;01mis\u001b[39;00m \u001b[38;5;129;01mnot\u001b[39;00m dtype:\n\u001b[1;32m   1995\u001b[0m     result \u001b[38;5;241m=\u001b[39m np\u001b[38;5;241m.\u001b[39masarray(result, dtype\u001b[38;5;241m=\u001b[39mdtype)\n",
      "File \u001b[0;32m~/Desktop/3rd_semester/Advanced topics in applied Machine Learning/appliedmlenv/lib/python3.10/site-packages/pandas/core/internals/managers.py:1694\u001b[0m, in \u001b[0;36mBlockManager.as_array\u001b[0;34m(self, dtype, copy, na_value)\u001b[0m\n\u001b[1;32m   1692\u001b[0m         arr\u001b[38;5;241m.\u001b[39mflags\u001b[38;5;241m.\u001b[39mwriteable \u001b[38;5;241m=\u001b[39m \u001b[38;5;28;01mFalse\u001b[39;00m\n\u001b[1;32m   1693\u001b[0m \u001b[38;5;28;01melse\u001b[39;00m:\n\u001b[0;32m-> 1694\u001b[0m     arr \u001b[38;5;241m=\u001b[39m \u001b[38;5;28;43mself\u001b[39;49m\u001b[38;5;241;43m.\u001b[39;49m\u001b[43m_interleave\u001b[49m\u001b[43m(\u001b[49m\u001b[43mdtype\u001b[49m\u001b[38;5;241;43m=\u001b[39;49m\u001b[43mdtype\u001b[49m\u001b[43m,\u001b[49m\u001b[43m \u001b[49m\u001b[43mna_value\u001b[49m\u001b[38;5;241;43m=\u001b[39;49m\u001b[43mna_value\u001b[49m\u001b[43m)\u001b[49m\n\u001b[1;32m   1695\u001b[0m     \u001b[38;5;66;03m# The underlying data was copied within _interleave, so no need\u001b[39;00m\n\u001b[1;32m   1696\u001b[0m     \u001b[38;5;66;03m# to further copy if copy=True or setting na_value\u001b[39;00m\n\u001b[1;32m   1698\u001b[0m \u001b[38;5;28;01mif\u001b[39;00m na_value \u001b[38;5;129;01mis\u001b[39;00m lib\u001b[38;5;241m.\u001b[39mno_default:\n",
      "File \u001b[0;32m~/Desktop/3rd_semester/Advanced topics in applied Machine Learning/appliedmlenv/lib/python3.10/site-packages/pandas/core/internals/managers.py:1753\u001b[0m, in \u001b[0;36mBlockManager._interleave\u001b[0;34m(self, dtype, na_value)\u001b[0m\n\u001b[1;32m   1751\u001b[0m     \u001b[38;5;28;01melse\u001b[39;00m:\n\u001b[1;32m   1752\u001b[0m         arr \u001b[38;5;241m=\u001b[39m blk\u001b[38;5;241m.\u001b[39mget_values(dtype)\n\u001b[0;32m-> 1753\u001b[0m     \u001b[43mresult\u001b[49m\u001b[43m[\u001b[49m\u001b[43mrl\u001b[49m\u001b[38;5;241;43m.\u001b[39;49m\u001b[43mindexer\u001b[49m\u001b[43m]\u001b[49m \u001b[38;5;241m=\u001b[39m arr\n\u001b[1;32m   1754\u001b[0m     itemmask[rl\u001b[38;5;241m.\u001b[39mindexer] \u001b[38;5;241m=\u001b[39m \u001b[38;5;241m1\u001b[39m\n\u001b[1;32m   1756\u001b[0m \u001b[38;5;28;01mif\u001b[39;00m \u001b[38;5;129;01mnot\u001b[39;00m itemmask\u001b[38;5;241m.\u001b[39mall():\n",
      "\u001b[0;31mValueError\u001b[0m: could not convert string to float: 'Cash loans'"
     ]
    }
   ],
   "source": [
    "len(get_correlated(app_test, 0.8).Row.unique())"
   ]
  },
  {
   "cell_type": "code",
   "execution_count": null,
   "metadata": {
    "colab": {
     "base_uri": "https://localhost:8080/"
    },
    "id": "kyxSL0cl8ez7",
    "outputId": "b1a62b6a-c142-4a42-ad1e-98d5e0e3912d"
   },
   "outputs": [
    {
     "name": "stderr",
     "output_type": "stream",
     "text": [
      "/usr/local/lib/python3.7/dist-packages/ipykernel_launcher.py:7: DeprecationWarning: `np.bool` is a deprecated alias for the builtin `bool`. To silence this warning, use `bool` by itself. Doing this will not modify any behavior and is safe. If you specifically wanted the numpy scalar type, use `np.bool_` here.\n",
      "Deprecated in NumPy 1.20; for more details and guidance: https://numpy.org/devdocs/release/1.20.0-notes.html#deprecations\n",
      "  import sys\n"
     ]
    },
    {
     "name": "stdout",
     "output_type": "stream",
     "text": [
      "dropping feature OBS_30_CNT_SOCIAL_CIRCLE\n",
      "dropping feature YEARS_BUILD_AVG\n",
      "dropping feature YEARS_BEGINEXPLUATATION_AVG\n",
      "dropping feature LIVINGAPARTMENTS_AVG\n",
      "dropping feature FLOORSMIN_AVG\n",
      "dropping feature FLOORSMAX_AVG\n",
      "dropping feature APARTMENTS_AVG\n",
      "dropping feature ENTRANCES_AVG\n",
      "dropping feature ELEVATORS_AVG\n",
      "dropping feature COMMONAREA_AVG\n",
      "dropping feature NONLIVINGAREA_AVG\n",
      "dropping feature LIVINGAREA_AVG\n",
      "dropping feature BASEMENTAREA_AVG\n",
      "dropping feature LANDAREA_AVG\n",
      "dropping feature YEARS_BUILD_MODE\n",
      "dropping feature FLOORSMIN_MODE\n",
      "dropping feature FLOORSMAX_MODE\n",
      "dropping feature AMT_CREDIT\n",
      "dropping feature LANDAREA_MODE\n",
      "dropping feature ELEVATORS_MODE\n",
      "dropping feature NONLIVINGAPARTMENTS_AVG\n",
      "dropping feature NONLIVINGAREA_MODE\n",
      "dropping feature ENTRANCES_MODE\n",
      "dropping feature COMMONAREA_MODE\n",
      "dropping feature APARTMENTS_MODE\n",
      "dropping feature NONLIVINGAPARTMENTS_MODE\n",
      "dropping feature LIVINGAREA_MODE\n",
      "dropping feature LIVINGAPARTMENTS_MODE\n",
      "dropping feature YEARS_BEGINEXPLUATATION_MODE\n",
      "dropping feature BASEMENTAREA_MODE\n"
     ]
    }
   ],
   "source": [
    "high_corr = get_correlated(app_test_uncorrelated)\n",
    "while(len(high_corr)>0):\n",
    "  column_to_drop = high_corr[\"Row\"].values[0]\n",
    "  print(\"dropping feature\",column_to_drop)\n",
    "  app_test_uncorrelated = app_test_uncorrelated.drop(column_to_drop, axis=1)\n",
    "  high_corr = get_correlated(app_test_uncorrelated)"
   ]
  },
  {
   "cell_type": "code",
   "execution_count": null,
   "metadata": {
    "colab": {
     "base_uri": "https://localhost:8080/"
    },
    "id": "hzTDtJ2nKERK",
    "outputId": "831cbbd2-eb85-4864-ee8e-5da0f1c937d7"
   },
   "outputs": [
    {
     "name": "stderr",
     "output_type": "stream",
     "text": [
      "/usr/local/lib/python3.7/dist-packages/ipykernel_launcher.py:6: FutureWarning: In a future version of pandas all arguments of DataFrame.drop except for the argument 'labels' will be keyword-only\n",
      "  \n",
      "[Parallel(n_jobs=-1)]: Using backend ThreadingBackend with 2 concurrent workers.\n",
      "[Parallel(n_jobs=-1)]: Done  46 tasks      | elapsed:    0.2s\n",
      "[Parallel(n_jobs=-1)]: Done 100 out of 100 | elapsed:    0.4s finished\n"
     ]
    },
    {
     "data": {
      "text/plain": [
       "RandomForestClassifier(n_jobs=-1, random_state=101, verbose=1)"
      ]
     },
     "execution_count": 42,
     "metadata": {},
     "output_type": "execute_result"
    }
   ],
   "source": [
    "###12: Building a RF following the Lecture - No need to optimize the hyper-parameters or to improve the training features for now\n",
    "from sklearn.ensemble import RandomForestClassifier\n",
    "from sklearn.model_selection import train_test_split\n",
    "\n",
    "## we need to also remove the ID of the loan otherwise it will bias the learning towards this and may cause data leakage for test loans with the same id\n",
    "X = app_train.drop(\"TARGET\",1).drop(\"SK_ID_CURR\",1)\n",
    "X_dummy = pd.get_dummies(X, drop_first=True,dummy_na=True).dropna()\n",
    "Y  = app_train[\"TARGET\"][X_dummy.index]\n",
    "X_train, X_val, y_train, y_val = train_test_split(X_dummy, Y, test_size=0.33, random_state=101)\n",
    "\n",
    "# Make the random forest classifier\n",
    "random_forest = RandomForestClassifier(n_estimators = 100, random_state = 101, verbose = 1, n_jobs = -1)\n",
    "random_forest.fit(X_train, y_train)"
   ]
  },
  {
   "cell_type": "code",
   "execution_count": null,
   "metadata": {
    "id": "Z82pKzqYQLuV"
   },
   "outputs": [],
   "source": [
    "## Evaluating original training set"
   ]
  },
  {
   "cell_type": "code",
   "execution_count": null,
   "metadata": {
    "colab": {
     "base_uri": "https://localhost:8080/"
    },
    "id": "sIRtV4FZO3zi",
    "outputId": "b63448fd-1323-4506-d90f-f549372f3398"
   },
   "outputs": [
    {
     "name": "stdout",
     "output_type": "stream",
     "text": [
      "auc 0.6126364328623404\n",
      "              precision    recall  f1-score   support\n",
      "\n",
      "           0       0.66      0.84      0.74       318\n",
      "           1       0.63      0.39      0.48       223\n",
      "\n",
      "    accuracy                           0.65       541\n",
      "   macro avg       0.64      0.61      0.61       541\n",
      "weighted avg       0.65      0.65      0.63       541\n",
      "\n"
     ]
    },
    {
     "name": "stderr",
     "output_type": "stream",
     "text": [
      "[Parallel(n_jobs=2)]: Using backend ThreadingBackend with 2 concurrent workers.\n",
      "[Parallel(n_jobs=2)]: Done  46 tasks      | elapsed:    0.0s\n",
      "[Parallel(n_jobs=2)]: Done 100 out of 100 | elapsed:    0.0s finished\n"
     ]
    }
   ],
   "source": [
    "from sklearn.metrics import classification_report, roc_auc_score\n",
    "\n",
    "predicted = random_forest.predict(X_val)\n",
    "report = classification_report(y_val, predicted)\n",
    "auc = roc_auc_score(y_val, predicted)\n",
    "print(\"auc\",auc)\n",
    "print(report)"
   ]
  },
  {
   "cell_type": "code",
   "execution_count": null,
   "metadata": {
    "id": "iy4Vzsa0SGKr"
   },
   "outputs": [],
   "source": [
    "### Evaluating new training set"
   ]
  },
  {
   "cell_type": "code",
   "execution_count": null,
   "metadata": {
    "colab": {
     "base_uri": "https://localhost:8080/"
    },
    "id": "3PuXjZuSNUAx",
    "outputId": "862dbbe6-2a78-464c-d9da-ebf0f3ad3478"
   },
   "outputs": [
    {
     "name": "stderr",
     "output_type": "stream",
     "text": [
      "/usr/local/lib/python3.7/dist-packages/ipykernel_launcher.py:6: FutureWarning: In a future version of pandas all arguments of DataFrame.drop except for the argument 'labels' will be keyword-only\n",
      "  \n",
      "[Parallel(n_jobs=-1)]: Using backend ThreadingBackend with 2 concurrent workers.\n",
      "[Parallel(n_jobs=-1)]: Done  46 tasks      | elapsed:    0.1s\n",
      "[Parallel(n_jobs=-1)]: Done 100 out of 100 | elapsed:    0.2s finished\n"
     ]
    },
    {
     "name": "stdout",
     "output_type": "stream",
     "text": [
      "auc 0.5\n",
      "              precision    recall  f1-score   support\n",
      "\n",
      "           0       0.56      1.00      0.71         5\n",
      "           1       0.00      0.00      0.00         4\n",
      "\n",
      "    accuracy                           0.56         9\n",
      "   macro avg       0.28      0.50      0.36         9\n",
      "weighted avg       0.31      0.56      0.40         9\n",
      "\n"
     ]
    },
    {
     "name": "stderr",
     "output_type": "stream",
     "text": [
      "[Parallel(n_jobs=2)]: Using backend ThreadingBackend with 2 concurrent workers.\n",
      "[Parallel(n_jobs=2)]: Done  46 tasks      | elapsed:    0.0s\n",
      "[Parallel(n_jobs=2)]: Done 100 out of 100 | elapsed:    0.0s finished\n",
      "/usr/local/lib/python3.7/dist-packages/sklearn/metrics/_classification.py:1318: UndefinedMetricWarning: Precision and F-score are ill-defined and being set to 0.0 in labels with no predicted samples. Use `zero_division` parameter to control this behavior.\n",
      "  _warn_prf(average, modifier, msg_start, len(result))\n",
      "/usr/local/lib/python3.7/dist-packages/sklearn/metrics/_classification.py:1318: UndefinedMetricWarning: Precision and F-score are ill-defined and being set to 0.0 in labels with no predicted samples. Use `zero_division` parameter to control this behavior.\n",
      "  _warn_prf(average, modifier, msg_start, len(result))\n",
      "/usr/local/lib/python3.7/dist-packages/sklearn/metrics/_classification.py:1318: UndefinedMetricWarning: Precision and F-score are ill-defined and being set to 0.0 in labels with no predicted samples. Use `zero_division` parameter to control this behavior.\n",
      "  _warn_prf(average, modifier, msg_start, len(result))\n"
     ]
    }
   ],
   "source": [
    "### When we combine all features from bureau but only the first row of bureau per SK_ID_CURR, the performances get much worse. We need to preserve some information from all Bureau ==> aggregations\n",
    "\n",
    "first_bureau = bureau[\"SK_ID_CURR\"].duplicated(keep='first')\n",
    "mergedX = pd.merge(app_train, bureau[~first_bureau], on=\"SK_ID_CURR\", how=\"left\")\n",
    "\n",
    "X_dummy = pd.get_dummies(mergedX, drop_first=True,dummy_na=True).dropna().drop(\"TARGET\",1).drop(\"SK_ID_CURR\",1)\n",
    "Y  = mergedX[\"TARGET\"][X_dummy.index]\n",
    "X_train, X_val, y_train, y_val = train_test_split(X_dummy, Y, test_size=0.33, random_state=101)\n",
    "\n",
    "# Make the random forest classifier\n",
    "random_forest = RandomForestClassifier(n_estimators = 100, random_state = 101, verbose = 1, n_jobs = -1)\n",
    "random_forest.fit(X_train, y_train)\n",
    "\n",
    "predicted = random_forest.predict(X_val)\n",
    "report = classification_report(y_val, predicted)\n",
    "auc = roc_auc_score(y_val, predicted)\n",
    "print(\"auc\",auc)\n",
    "print(report)"
   ]
  },
  {
   "cell_type": "code",
   "execution_count": null,
   "metadata": {
    "colab": {
     "base_uri": "https://localhost:8080/"
    },
    "id": "RJ3WQKseUgw9",
    "outputId": "9a27266e-e928-4e6d-fedc-9686c3ae0c40"
   },
   "outputs": [
    {
     "name": "stderr",
     "output_type": "stream",
     "text": [
      "/usr/local/lib/python3.7/dist-packages/ipykernel_launcher.py:10: FutureWarning: In a future version of pandas all arguments of DataFrame.drop except for the argument 'labels' will be keyword-only\n",
      "  # Remove the CWD from sys.path while we load stuff.\n",
      "[Parallel(n_jobs=-1)]: Using backend ThreadingBackend with 2 concurrent workers.\n",
      "[Parallel(n_jobs=-1)]: Done  46 tasks      | elapsed:    0.1s\n"
     ]
    },
    {
     "name": "stdout",
     "output_type": "stream",
     "text": [
      "auc 0.5701552616446233\n",
      "              precision    recall  f1-score   support\n",
      "\n",
      "           0       0.62      0.68      0.65        47\n",
      "           1       0.53      0.46      0.49        37\n",
      "\n",
      "    accuracy                           0.58        84\n",
      "   macro avg       0.57      0.57      0.57        84\n",
      "weighted avg       0.58      0.58      0.58        84\n",
      "\n"
     ]
    },
    {
     "name": "stderr",
     "output_type": "stream",
     "text": [
      "[Parallel(n_jobs=-1)]: Done 100 out of 100 | elapsed:    0.2s finished\n",
      "[Parallel(n_jobs=2)]: Using backend ThreadingBackend with 2 concurrent workers.\n",
      "[Parallel(n_jobs=2)]: Done  46 tasks      | elapsed:    0.0s\n",
      "[Parallel(n_jobs=2)]: Done 100 out of 100 | elapsed:    0.0s finished\n"
     ]
    }
   ],
   "source": [
    "### Using aggregation, we can see that keeping all the features from Bureau improves the performances compared to using raw features from bureau alone.\n",
    "### Still the original model without features from Bureau remains better, i.e., advanced feature engineering is needed to process the additional information from bureau\n",
    "\n",
    "bureau_agg = bureau.drop(columns = ['SK_ID_BUREAU']).groupby('SK_ID_CURR', as_index = False) \\\n",
    "  .agg(['count', 'mean', 'max', 'min', 'sum', 'std']).reset_index()\n",
    "bureau_agg.columns = ['_'.join(col) if col[0]!=\"SK_ID_CURR\" else \"SK_ID_CURR\" for col in bureau_agg.columns]\n",
    "\n",
    "mergedX = pd.merge(app_train, bureau_agg, on=\"SK_ID_CURR\", how=\"left\")\n",
    "\n",
    "X_dummy = pd.get_dummies(mergedX, drop_first=True,dummy_na=True).dropna().drop(\"TARGET\",1).drop(\"SK_ID_CURR\",1)\n",
    "Y  = mergedX[\"TARGET\"][X_dummy.index]\n",
    "X_train, X_val, y_train, y_val = train_test_split(X_dummy, Y, test_size=0.33, random_state=101)\n",
    "\n",
    "# Make the random forest classifier\n",
    "random_forest = RandomForestClassifier(n_estimators = 100, random_state = 101, verbose = 1, n_jobs = -1)\n",
    "random_forest.fit(X_train, y_train)\n",
    "\n",
    "predicted = random_forest.predict(X_val)\n",
    "report = classification_report(y_val, predicted)\n",
    "auc = roc_auc_score(y_val, predicted)\n",
    "print(\"auc\",auc)\n",
    "print(report)"
   ]
  },
  {
   "cell_type": "markdown",
   "metadata": {
    "id": "7_fQJhfcyQWn"
   },
   "source": [
    "##  Class imbalance and model performances (6 points)\n",
    "\n",
    "\n",
    "**13**: Evaluate the other technique (SMOTE) to handeling imbalance data left in *6.b*. Does it makes a difference on the final model performance? Can you use the performance on the test set to choose which techniques to use? If not, what would you need to do so?\n",
    "\n",
    "*You will be evaluated as follow*\n",
    "* 13: Code 3pts. Explanation 3pts.\n"
   ]
  },
  {
   "cell_type": "code",
   "execution_count": null,
   "metadata": {
    "colab": {
     "base_uri": "https://localhost:8080/"
    },
    "id": "jDR7b8VRyUkS",
    "outputId": "d331deef-6850-43ba-f72e-e1c9dfe1ebb8"
   },
   "outputs": [
    {
     "name": "stderr",
     "output_type": "stream",
     "text": [
      "/usr/local/lib/python3.7/dist-packages/ipykernel_launcher.py:4: FutureWarning: In a future version of pandas all arguments of DataFrame.drop except for the argument 'labels' will be keyword-only\n",
      "  after removing the cwd from sys.path.\n"
     ]
    }
   ],
   "source": [
    "## Your code here\n",
    "\n",
    "## we need to also remove the ID of the loan otherwise it will bias the learning towards this and may cause data leakage for test loans with the same id\n",
    "X = app_train_smote.drop(\"TARGET\",1).drop(\"SK_ID_CURR\",1)\n"
   ]
  },
  {
   "cell_type": "code",
   "execution_count": null,
   "metadata": {
    "id": "c024Aq52jK7z"
   },
   "outputs": [],
   "source": [
    "categorical_cols_X = X.select_dtypes(exclude='number').columns\n",
    "X[categorical_cols_X] = X[categorical_cols_X].astype(\"str\")\n",
    "X_dummy = pd.get_dummies(X, drop_first=True,dummy_na=True).dropna()\n",
    "Y  = app_train_smote[\"TARGET\"][X_dummy.index]\n",
    "X_train, X_val, y_train, y_val = train_test_split(X_dummy, Y, test_size=0.33, random_state=101)\n"
   ]
  },
  {
   "cell_type": "code",
   "execution_count": null,
   "metadata": {
    "colab": {
     "base_uri": "https://localhost:8080/"
    },
    "id": "h7JM4PY7FEoZ",
    "outputId": "1fc95316-0767-4560-f09d-6c6c94a5bb07"
   },
   "outputs": [
    {
     "data": {
      "text/plain": [
       "(565372, 250)"
      ]
     },
     "execution_count": 49,
     "metadata": {},
     "output_type": "execute_result"
    }
   ],
   "source": [
    "X_dummy.shape"
   ]
  },
  {
   "cell_type": "code",
   "execution_count": null,
   "metadata": {
    "colab": {
     "base_uri": "https://localhost:8080/"
    },
    "id": "dqv6hn-Qmv5t",
    "outputId": "9488e2c9-22e0-4b8c-a5ef-d6e496aef4f7"
   },
   "outputs": [
    {
     "name": "stderr",
     "output_type": "stream",
     "text": [
      "[Parallel(n_jobs=-1)]: Using backend ThreadingBackend with 2 concurrent workers.\n",
      "[Parallel(n_jobs=-1)]: Done  46 tasks      | elapsed:  2.1min\n",
      "[Parallel(n_jobs=-1)]: Done 100 out of 100 | elapsed:  4.7min finished\n"
     ]
    },
    {
     "data": {
      "text/plain": [
       "RandomForestClassifier(n_jobs=-1, random_state=101, verbose=1)"
      ]
     },
     "execution_count": 50,
     "metadata": {},
     "output_type": "execute_result"
    }
   ],
   "source": [
    "# Make the random forest classifier\n",
    "random_forest = RandomForestClassifier(n_estimators = 100, random_state = 101, verbose = 1, n_jobs = -1)\n",
    "random_forest.fit(X_train, y_train)"
   ]
  },
  {
   "cell_type": "code",
   "execution_count": null,
   "metadata": {
    "colab": {
     "base_uri": "https://localhost:8080/"
    },
    "id": "bqpBQ3Fa_ZT5",
    "outputId": "0b90632a-0e80-4735-ad0f-d7584b9fd547"
   },
   "outputs": [
    {
     "name": "stderr",
     "output_type": "stream",
     "text": [
      "[Parallel(n_jobs=2)]: Using backend ThreadingBackend with 2 concurrent workers.\n",
      "[Parallel(n_jobs=2)]: Done  46 tasks      | elapsed:    4.6s\n",
      "[Parallel(n_jobs=2)]: Done 100 out of 100 | elapsed:    9.6s finished\n"
     ]
    },
    {
     "name": "stdout",
     "output_type": "stream",
     "text": [
      "auc 0.9476441169592794\n",
      "              precision    recall  f1-score   support\n",
      "\n",
      "           0       0.91      0.99      0.95     93448\n",
      "           1       0.99      0.90      0.95     93125\n",
      "\n",
      "    accuracy                           0.95    186573\n",
      "   macro avg       0.95      0.95      0.95    186573\n",
      "weighted avg       0.95      0.95      0.95    186573\n",
      "\n"
     ]
    }
   ],
   "source": [
    "predicted = random_forest.predict(X_val)\n",
    "report = classification_report(y_val, predicted)\n",
    "auc = roc_auc_score(y_val, predicted)\n",
    "print(\"auc\",auc)\n",
    "print(report)"
   ]
  },
  {
   "cell_type": "markdown",
   "metadata": {
    "id": "HafRxVmOAwM_"
   },
   "source": [
    "**Explanations**\n",
    "\n",
    "The very high performances when splitting the augmented train/val set with SMOTE indicates a data leakage. Indeed the app_train_smote dataset has been augmented with SMOTE, and the examples generated are therefore strongly related to the original points. When we split an augmented dataset into training and validation, there is high chance that very similar values appear both in train and validation. Which explains the artifically high performances.\n",
    "\n",
    "Moreover, if we would have access to the labels of the test set, we could compute the test performances. However, we must not select any hyperparameters or techniques based on the test set, to keep an unbiased estimate of the performances. This is also true for choosing the techniques al along the pipeline, including the data processing steps.\n",
    "\n",
    "Overall, what we need to do, is to split our dataset into train/validation at the begining of the pipeline (as done in the following part of the project) to also avoid data leakage between train and validation."
   ]
  }
 ],
 "metadata": {
  "colab": {
   "name": "",
   "version": ""
  },
  "kernelspec": {
   "display_name": "appliedmlenv",
   "language": "python",
   "name": "python3"
  },
  "language_info": {
   "codemirror_mode": {
    "name": "ipython",
    "version": 3
   },
   "file_extension": ".py",
   "mimetype": "text/x-python",
   "name": "python",
   "nbconvert_exporter": "python",
   "pygments_lexer": "ipython3",
   "version": "3.10.15"
  }
 },
 "nbformat": 4,
 "nbformat_minor": 0
}
