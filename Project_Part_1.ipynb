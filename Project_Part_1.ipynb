{
 "cells": [
  {
   "cell_type": "markdown",
   "metadata": {
    "id": "y6XZ55wHbdm5"
   },
   "source": [
    "# Part 1 of the Machine Learning Project\n",
    "\n",
    "## Preliminaries\n",
    "\n",
    "\n",
    "Before satring familiarize yourself with pandas reading the “10 minutes to pandas” tutorial: https://pandas.pydata.org/pandas-docs/stable/user_guide/10min.html\n",
    "\n",
    "Browse through the full pandas user guide when needed: https://pandas.pydata.org/pandas-docs/stable/user_guide/index.html\n",
    "\n",
    "\n",
    "## Load libraries"
   ]
  },
  {
   "cell_type": "code",
   "execution_count": 1,
   "metadata": {
    "id": "L8jsxX6eaxL_"
   },
   "outputs": [],
   "source": [
    "import numpy as np\n",
    "import pandas as pd\n",
    "\n",
    "import os\n",
    "\n",
    "# # Suppress warnings\n",
    "# import warnings\n",
    "# warnings.filterwarnings('ignore')\n",
    "\n",
    "import matplotlib.pyplot as plt\n",
    "import seaborn as sns"
   ]
  },
  {
   "cell_type": "markdown",
   "metadata": {
    "id": "ctTp1HonbYpj"
   },
   "source": [
    "<p><img alt=\"Datasets\" src=\"https://storage.googleapis.com/kaggle-media/competitions/home-credit/home_credit.png\" align=\"left\" hspace=\"10px\" vspace=\"0px\"></p>\n",
    "\n",
    "\n",
    "<h1>Datasets</h1>"
   ]
  },
  {
   "cell_type": "code",
   "execution_count": 2,
   "metadata": {
    "id": "TAo_jy0PhBEY"
   },
   "outputs": [],
   "source": [
    "# # Change this part with your own dataset files\n",
    "\n",
    "# src_train = 'https://docs.google.com/uc?export=download&id=1TNRRGlws5vWKEum8v1PQrVq8PGacMT9Y'\n",
    "# src_test = 'https://docs.google.com/uc?export=download&id=1IEUuu-Czdv2gsE8Q0EUtGvUelh2xUwN8'\n",
    "\n",
    "# src_previous ='https://docs.google.com/uc?export=download&id=15PuV3DpXii2FokryWCyxTS4HGUj4Kbmn'\n",
    "# src_bureau = 'https://docs.google.com/uc?export=download&id=18ycqN4m4zmoLvZHWIvYzF9SZiErAPeTi'\n",
    "\n",
    "# # If you cannot load the directly the csv from Google drive (Google restrictions), download them manually then change the path to load them locally"
   ]
  },
  {
   "cell_type": "code",
   "execution_count": 3,
   "metadata": {},
   "outputs": [],
   "source": [
    "src_train = '../data/application_train.csv.zip'\n",
    "src_test = '../data/application_test.csv.zip'\n",
    "\n",
    "src_previous = '../data/previous_application.csv.zip'\n",
    "src_bureau = '../data/bureau.csv.zip'"
   ]
  },
  {
   "cell_type": "markdown",
   "metadata": {
    "id": "uPBTWB1ViFHe"
   },
   "source": [
    "<h1>Loading the datasets (2 pts)</h1>\n",
    "\n",
    "1. Similarly to the train set, load the test set, the bureau dataset and the past applications dataset.\n",
    "\n",
    "2. Display for each the number of rows and the number of columns\n",
    "\n",
    "*You will be evaluated as follow*\n",
    "* 1: Correct approach + code: 1pt\n",
    "* 2: Code: 1pts\n"
   ]
  },
  {
   "cell_type": "code",
   "execution_count": 4,
   "metadata": {
    "id": "GjoGTJvLiBPP"
   },
   "outputs": [
    {
     "name": "stdout",
     "output_type": "stream",
     "text": [
      "app_train: (307511, 122)\n",
      "app_test: (48744, 121)\n",
      "bureau: (1716428, 17)\n",
      "app_past: (1670214, 37)\n"
     ]
    }
   ],
   "source": [
    "# The variables that should be implemented to store the data are: app_train, app_test, bureau, app_past\n",
    "\n",
    "# 1 - Loading the different datasets.\n",
    "app_train = pd.read_csv(src_train, compression=\"zip\")\n",
    "app_test = pd.read_csv(src_test, compression=\"zip\")\n",
    "bureau = pd.read_csv(src_bureau, compression=\"zip\")\n",
    "app_past = pd.read_csv(src_previous, compression=\"zip\")\n",
    "\n",
    "# 2 - The number of rows and columns for each\n",
    "print('app_train:', app_train.shape)\n",
    "print('app_test:', app_test.shape)\n",
    "print('bureau:', bureau.shape)\n",
    "print('app_past:', app_past.shape)"
   ]
  },
  {
   "cell_type": "code",
   "execution_count": 5,
   "metadata": {},
   "outputs": [
    {
     "name": "stdout",
     "output_type": "stream",
     "text": [
      "app_train:  Index(['SK_ID_CURR'], dtype='object')\n",
      "app_test:   Index(['SK_ID_CURR'], dtype='object')\n",
      "bureau:     Index(['SK_ID_CURR', 'SK_ID_BUREAU'], dtype='object')\n",
      "app_past:   Index(['SK_ID_PREV', 'SK_ID_CURR'], dtype='object')\n"
     ]
    }
   ],
   "source": [
    "print(\"app_train: \", app_train.filter(like='SK_ID_').columns)\n",
    "print(\"app_test:  \", app_test.filter(like='SK_ID_').columns)\n",
    "print(\"bureau:    \", bureau.filter(like='SK_ID_').columns) \n",
    "print(\"app_past:  \", app_past.filter(like='SK_ID_').columns)"
   ]
  },
  {
   "cell_type": "code",
   "execution_count": 6,
   "metadata": {},
   "outputs": [
    {
     "data": {
      "text/plain": [
       "Index(['SK_ID_CURR', 'SK_ID_BUREAU', 'CREDIT_ACTIVE', 'CREDIT_CURRENCY',\n",
       "       'DAYS_CREDIT', 'CREDIT_DAY_OVERDUE', 'DAYS_CREDIT_ENDDATE',\n",
       "       'DAYS_ENDDATE_FACT', 'AMT_CREDIT_MAX_OVERDUE', 'CNT_CREDIT_PROLONG',\n",
       "       'AMT_CREDIT_SUM', 'AMT_CREDIT_SUM_DEBT', 'AMT_CREDIT_SUM_LIMIT',\n",
       "       'AMT_CREDIT_SUM_OVERDUE', 'CREDIT_TYPE', 'DAYS_CREDIT_UPDATE',\n",
       "       'AMT_ANNUITY'],\n",
       "      dtype='object')"
      ]
     },
     "execution_count": 6,
     "metadata": {},
     "output_type": "execute_result"
    }
   ],
   "source": [
    "bureau.columns"
   ]
  },
  {
   "cell_type": "markdown",
   "metadata": {},
   "source": [
    "We are going to do the feature engineering for app_train and then similarly on app_test and bureau as we need them for fruther analysis."
   ]
  },
  {
   "cell_type": "markdown",
   "metadata": {
    "id": "GnMI0pRmkHzH"
   },
   "source": [
    "<h1> Feature Engineering</h1>"
   ]
  },
  {
   "cell_type": "markdown",
   "metadata": {
    "id": "SuAAPVW1kH82"
   },
   "source": [
    "<h2>Missing values (9pts)</h2>\n",
    "\n",
    "\n",
    "**3.a**: What columns are missing the most values in app_test?\n",
    "\n",
    "**3.b**: What columns are missing the most values in bureau?\n",
    "\n",
    "**3.c**: What columns are missing the most values in app_past?\n",
    "\n",
    "4: Fix missing data in app_test dataset using categorization and/or simple imputation when appropriate. Be careful to the **data leakage** issue!\n",
    "\n",
    "*You will be evaluated as follow*\n",
    "* 3: Correct approach + code 2pts.\n",
    "* 4: Description of the approach 4pts. Code implementation of the approach 3pts."
   ]
  },
  {
   "cell_type": "code",
   "execution_count": 7,
   "metadata": {
    "id": "GCD-Tet5rKuq"
   },
   "outputs": [
    {
     "name": "stdout",
     "output_type": "stream",
     "text": [
      "The columns with the most missing values in app_test are:\n",
      "COMMONAREA_AVG     33495\n",
      "COMMONAREA_MODE    33495\n",
      "COMMONAREA_MEDI    33495\n",
      "dtype: int64\n",
      "The columns with the most missing values in bureau are:\n",
      "AMT_ANNUITY    1226791\n",
      "dtype: int64\n",
      "The columns with the most missing values in app_past are:\n",
      "RATE_INTEREST_PRIMARY       1664263\n",
      "RATE_INTEREST_PRIVILEGED    1664263\n",
      "dtype: int64\n"
     ]
    }
   ],
   "source": [
    "# 3.a\n",
    "print(\"The columns with the most missing values in app_test are:\")\n",
    "print(app_test.isnull().sum()[app_test.isnull().sum()==app_test.isnull().sum().values.max()])\n",
    "\n",
    "# 3.b\n",
    "print(\"The columns with the most missing values in bureau are:\")\n",
    "print(bureau.isnull().sum()[bureau.isnull().sum()==bureau.isnull().sum().values.max()])\n",
    " \n",
    "# 3.c\n",
    "print(\"The columns with the most missing values in app_past are:\")\n",
    "print(app_past.isnull().sum()[app_past.isnull().sum()==app_past.isnull().sum().values.max()])"
   ]
  },
  {
   "cell_type": "code",
   "execution_count": 8,
   "metadata": {},
   "outputs": [
    {
     "data": {
      "text/html": [
       "<div>\n",
       "<style scoped>\n",
       "    .dataframe tbody tr th:only-of-type {\n",
       "        vertical-align: middle;\n",
       "    }\n",
       "\n",
       "    .dataframe tbody tr th {\n",
       "        vertical-align: top;\n",
       "    }\n",
       "\n",
       "    .dataframe thead th {\n",
       "        text-align: right;\n",
       "    }\n",
       "</style>\n",
       "<table border=\"1\" class=\"dataframe\">\n",
       "  <thead>\n",
       "    <tr style=\"text-align: right;\">\n",
       "      <th></th>\n",
       "      <th>Total</th>\n",
       "      <th>Percent</th>\n",
       "    </tr>\n",
       "  </thead>\n",
       "  <tbody>\n",
       "    <tr>\n",
       "      <th>COMMONAREA_MEDI</th>\n",
       "      <td>214865</td>\n",
       "      <td>69.872297</td>\n",
       "    </tr>\n",
       "    <tr>\n",
       "      <th>COMMONAREA_AVG</th>\n",
       "      <td>214865</td>\n",
       "      <td>69.872297</td>\n",
       "    </tr>\n",
       "    <tr>\n",
       "      <th>COMMONAREA_MODE</th>\n",
       "      <td>214865</td>\n",
       "      <td>69.872297</td>\n",
       "    </tr>\n",
       "    <tr>\n",
       "      <th>NONLIVINGAPARTMENTS_MODE</th>\n",
       "      <td>213514</td>\n",
       "      <td>69.432963</td>\n",
       "    </tr>\n",
       "    <tr>\n",
       "      <th>NONLIVINGAPARTMENTS_AVG</th>\n",
       "      <td>213514</td>\n",
       "      <td>69.432963</td>\n",
       "    </tr>\n",
       "    <tr>\n",
       "      <th>...</th>\n",
       "      <td>...</td>\n",
       "      <td>...</td>\n",
       "    </tr>\n",
       "    <tr>\n",
       "      <th>EXT_SOURCE_2</th>\n",
       "      <td>660</td>\n",
       "      <td>0.214626</td>\n",
       "    </tr>\n",
       "    <tr>\n",
       "      <th>AMT_GOODS_PRICE</th>\n",
       "      <td>278</td>\n",
       "      <td>0.090403</td>\n",
       "    </tr>\n",
       "    <tr>\n",
       "      <th>AMT_ANNUITY</th>\n",
       "      <td>12</td>\n",
       "      <td>0.003902</td>\n",
       "    </tr>\n",
       "    <tr>\n",
       "      <th>CNT_FAM_MEMBERS</th>\n",
       "      <td>2</td>\n",
       "      <td>0.000650</td>\n",
       "    </tr>\n",
       "    <tr>\n",
       "      <th>DAYS_LAST_PHONE_CHANGE</th>\n",
       "      <td>1</td>\n",
       "      <td>0.000325</td>\n",
       "    </tr>\n",
       "  </tbody>\n",
       "</table>\n",
       "<p>67 rows × 2 columns</p>\n",
       "</div>"
      ],
      "text/plain": [
       "                           Total    Percent\n",
       "COMMONAREA_MEDI           214865  69.872297\n",
       "COMMONAREA_AVG            214865  69.872297\n",
       "COMMONAREA_MODE           214865  69.872297\n",
       "NONLIVINGAPARTMENTS_MODE  213514  69.432963\n",
       "NONLIVINGAPARTMENTS_AVG   213514  69.432963\n",
       "...                          ...        ...\n",
       "EXT_SOURCE_2                 660   0.214626\n",
       "AMT_GOODS_PRICE              278   0.090403\n",
       "AMT_ANNUITY                   12   0.003902\n",
       "CNT_FAM_MEMBERS                2   0.000650\n",
       "DAYS_LAST_PHONE_CHANGE         1   0.000325\n",
       "\n",
       "[67 rows x 2 columns]"
      ]
     },
     "execution_count": 8,
     "metadata": {},
     "output_type": "execute_result"
    }
   ],
   "source": [
    "# checking missing data app_train\n",
    "total = app_train.isnull().sum().sort_values(ascending = False)\n",
    "total\n",
    "percent = (app_train.isnull().sum()/app_train.isnull().count()*100).sort_values(ascending = False)\n",
    "percent\n",
    "missing_application_train_data = pd.concat([total, percent], axis=1, keys=['Total','Percent'])\n",
    "missing_application_train_data[missing_application_train_data['Total'] != 0]"
   ]
  },
  {
   "cell_type": "code",
   "execution_count": 9,
   "metadata": {},
   "outputs": [
    {
     "data": {
      "text/html": [
       "<div>\n",
       "<style scoped>\n",
       "    .dataframe tbody tr th:only-of-type {\n",
       "        vertical-align: middle;\n",
       "    }\n",
       "\n",
       "    .dataframe tbody tr th {\n",
       "        vertical-align: top;\n",
       "    }\n",
       "\n",
       "    .dataframe thead th {\n",
       "        text-align: right;\n",
       "    }\n",
       "</style>\n",
       "<table border=\"1\" class=\"dataframe\">\n",
       "  <thead>\n",
       "    <tr style=\"text-align: right;\">\n",
       "      <th></th>\n",
       "      <th>Total</th>\n",
       "      <th>Percent</th>\n",
       "    </tr>\n",
       "  </thead>\n",
       "  <tbody>\n",
       "    <tr>\n",
       "      <th>COMMONAREA_AVG</th>\n",
       "      <td>33495</td>\n",
       "      <td>68.716150</td>\n",
       "    </tr>\n",
       "    <tr>\n",
       "      <th>COMMONAREA_MODE</th>\n",
       "      <td>33495</td>\n",
       "      <td>68.716150</td>\n",
       "    </tr>\n",
       "    <tr>\n",
       "      <th>COMMONAREA_MEDI</th>\n",
       "      <td>33495</td>\n",
       "      <td>68.716150</td>\n",
       "    </tr>\n",
       "    <tr>\n",
       "      <th>NONLIVINGAPARTMENTS_AVG</th>\n",
       "      <td>33347</td>\n",
       "      <td>68.412523</td>\n",
       "    </tr>\n",
       "    <tr>\n",
       "      <th>NONLIVINGAPARTMENTS_MODE</th>\n",
       "      <td>33347</td>\n",
       "      <td>68.412523</td>\n",
       "    </tr>\n",
       "    <tr>\n",
       "      <th>...</th>\n",
       "      <td>...</td>\n",
       "      <td>...</td>\n",
       "    </tr>\n",
       "    <tr>\n",
       "      <th>OBS_30_CNT_SOCIAL_CIRCLE</th>\n",
       "      <td>29</td>\n",
       "      <td>0.059495</td>\n",
       "    </tr>\n",
       "    <tr>\n",
       "      <th>OBS_60_CNT_SOCIAL_CIRCLE</th>\n",
       "      <td>29</td>\n",
       "      <td>0.059495</td>\n",
       "    </tr>\n",
       "    <tr>\n",
       "      <th>DEF_60_CNT_SOCIAL_CIRCLE</th>\n",
       "      <td>29</td>\n",
       "      <td>0.059495</td>\n",
       "    </tr>\n",
       "    <tr>\n",
       "      <th>AMT_ANNUITY</th>\n",
       "      <td>24</td>\n",
       "      <td>0.049237</td>\n",
       "    </tr>\n",
       "    <tr>\n",
       "      <th>EXT_SOURCE_2</th>\n",
       "      <td>8</td>\n",
       "      <td>0.016412</td>\n",
       "    </tr>\n",
       "  </tbody>\n",
       "</table>\n",
       "<p>64 rows × 2 columns</p>\n",
       "</div>"
      ],
      "text/plain": [
       "                          Total    Percent\n",
       "COMMONAREA_AVG            33495  68.716150\n",
       "COMMONAREA_MODE           33495  68.716150\n",
       "COMMONAREA_MEDI           33495  68.716150\n",
       "NONLIVINGAPARTMENTS_AVG   33347  68.412523\n",
       "NONLIVINGAPARTMENTS_MODE  33347  68.412523\n",
       "...                         ...        ...\n",
       "OBS_30_CNT_SOCIAL_CIRCLE     29   0.059495\n",
       "OBS_60_CNT_SOCIAL_CIRCLE     29   0.059495\n",
       "DEF_60_CNT_SOCIAL_CIRCLE     29   0.059495\n",
       "AMT_ANNUITY                  24   0.049237\n",
       "EXT_SOURCE_2                  8   0.016412\n",
       "\n",
       "[64 rows x 2 columns]"
      ]
     },
     "execution_count": 9,
     "metadata": {},
     "output_type": "execute_result"
    }
   ],
   "source": [
    "# checking missing data app_test\n",
    "total = app_test.isnull().sum().sort_values(ascending = False)\n",
    "total\n",
    "percent = (app_test.isnull().sum()/app_test.isnull().count()*100).sort_values(ascending = False)\n",
    "percent\n",
    "missing_application_test_data = pd.concat([total, percent], axis=1, keys=['Total','Percent'])\n",
    "missing_application_test_data[missing_application_test_data['Total'] != 0]"
   ]
  },
  {
   "cell_type": "code",
   "execution_count": 10,
   "metadata": {},
   "outputs": [
    {
     "data": {
      "text/html": [
       "<div>\n",
       "<style scoped>\n",
       "    .dataframe tbody tr th:only-of-type {\n",
       "        vertical-align: middle;\n",
       "    }\n",
       "\n",
       "    .dataframe tbody tr th {\n",
       "        vertical-align: top;\n",
       "    }\n",
       "\n",
       "    .dataframe thead th {\n",
       "        text-align: right;\n",
       "    }\n",
       "</style>\n",
       "<table border=\"1\" class=\"dataframe\">\n",
       "  <thead>\n",
       "    <tr style=\"text-align: right;\">\n",
       "      <th></th>\n",
       "      <th>Total</th>\n",
       "      <th>Percent</th>\n",
       "    </tr>\n",
       "  </thead>\n",
       "  <tbody>\n",
       "    <tr>\n",
       "      <th>AMT_ANNUITY</th>\n",
       "      <td>1226791</td>\n",
       "      <td>71.473490</td>\n",
       "    </tr>\n",
       "    <tr>\n",
       "      <th>AMT_CREDIT_MAX_OVERDUE</th>\n",
       "      <td>1124488</td>\n",
       "      <td>65.513264</td>\n",
       "    </tr>\n",
       "    <tr>\n",
       "      <th>DAYS_ENDDATE_FACT</th>\n",
       "      <td>633653</td>\n",
       "      <td>36.916958</td>\n",
       "    </tr>\n",
       "    <tr>\n",
       "      <th>AMT_CREDIT_SUM_LIMIT</th>\n",
       "      <td>591780</td>\n",
       "      <td>34.477415</td>\n",
       "    </tr>\n",
       "    <tr>\n",
       "      <th>AMT_CREDIT_SUM_DEBT</th>\n",
       "      <td>257669</td>\n",
       "      <td>15.011932</td>\n",
       "    </tr>\n",
       "    <tr>\n",
       "      <th>DAYS_CREDIT_ENDDATE</th>\n",
       "      <td>105553</td>\n",
       "      <td>6.149573</td>\n",
       "    </tr>\n",
       "    <tr>\n",
       "      <th>AMT_CREDIT_SUM</th>\n",
       "      <td>13</td>\n",
       "      <td>0.000757</td>\n",
       "    </tr>\n",
       "  </tbody>\n",
       "</table>\n",
       "</div>"
      ],
      "text/plain": [
       "                          Total    Percent\n",
       "AMT_ANNUITY             1226791  71.473490\n",
       "AMT_CREDIT_MAX_OVERDUE  1124488  65.513264\n",
       "DAYS_ENDDATE_FACT        633653  36.916958\n",
       "AMT_CREDIT_SUM_LIMIT     591780  34.477415\n",
       "AMT_CREDIT_SUM_DEBT      257669  15.011932\n",
       "DAYS_CREDIT_ENDDATE      105553   6.149573\n",
       "AMT_CREDIT_SUM               13   0.000757"
      ]
     },
     "execution_count": 10,
     "metadata": {},
     "output_type": "execute_result"
    }
   ],
   "source": [
    "# checking missing data bureau\n",
    "total = bureau.isnull().sum().sort_values(ascending = False)\n",
    "total\n",
    "percent = (bureau.isnull().sum()/bureau.isnull().count()*100).sort_values(ascending = False)\n",
    "percent\n",
    "missing_application_test_data = pd.concat([total, percent], axis=1, keys=['Total','Percent'])\n",
    "missing_application_test_data[missing_application_test_data['Total'] != 0]"
   ]
  },
  {
   "cell_type": "code",
   "execution_count": 11,
   "metadata": {},
   "outputs": [],
   "source": [
    "# 4: Fix missing data in app_test using categorization and/or simple imputation when appropriate. \n",
    "# You should use *only* pandas and numpy here. You should *not* use sklearn (scikit-learn).\n",
    "# Be careful to the **data leakage** issue!\n",
    "## Your code here"
   ]
  },
  {
   "cell_type": "markdown",
   "metadata": {
    "id": "Sz6iD4S-rVUy"
   },
   "source": [
    "**4**: Describe your approach, including how you choose the technique to apply, and how you apply the technique (double click to edit a text cell)\n",
    "\n"
   ]
  },
  {
   "cell_type": "code",
   "execution_count": 12,
   "metadata": {},
   "outputs": [],
   "source": [
    "# app_train.dtypes.value_counts()"
   ]
  },
  {
   "cell_type": "code",
   "execution_count": 13,
   "metadata": {},
   "outputs": [],
   "source": [
    "# app_test.dtypes.value_counts()"
   ]
  },
  {
   "cell_type": "code",
   "execution_count": 14,
   "metadata": {},
   "outputs": [],
   "source": [
    "# app_test.select_dtypes(include=['object']).columns"
   ]
  },
  {
   "cell_type": "markdown",
   "metadata": {},
   "source": [
    "This will give us a list of data types for each column. The columns that are of type object are often categorical.\n",
    "But sometimes numerical categories are stored as integers or floats, so just relying on object types may not catch all categorical features."
   ]
  },
  {
   "cell_type": "code",
   "execution_count": 15,
   "metadata": {},
   "outputs": [
    {
     "name": "stdout",
     "output_type": "stream",
     "text": [
      "Index(['NAME_CONTRACT_TYPE', 'CODE_GENDER', 'FLAG_OWN_CAR', 'FLAG_OWN_REALTY',\n",
      "       'CNT_CHILDREN', 'NAME_TYPE_SUITE', 'NAME_INCOME_TYPE',\n",
      "       'NAME_EDUCATION_TYPE', 'NAME_FAMILY_STATUS', 'NAME_HOUSING_TYPE',\n",
      "       'FLAG_MOBIL', 'FLAG_EMP_PHONE', 'FLAG_WORK_PHONE', 'FLAG_CONT_MOBILE',\n",
      "       'FLAG_PHONE', 'FLAG_EMAIL', 'OCCUPATION_TYPE', 'CNT_FAM_MEMBERS',\n",
      "       'REGION_RATING_CLIENT', 'REGION_RATING_CLIENT_W_CITY',\n",
      "       'WEEKDAY_APPR_PROCESS_START', 'REG_REGION_NOT_LIVE_REGION',\n",
      "       'REG_REGION_NOT_WORK_REGION', 'LIVE_REGION_NOT_WORK_REGION',\n",
      "       'REG_CITY_NOT_LIVE_CITY', 'REG_CITY_NOT_WORK_CITY',\n",
      "       'LIVE_CITY_NOT_WORK_CITY', 'FONDKAPREMONT_MODE', 'HOUSETYPE_MODE',\n",
      "       'WALLSMATERIAL_MODE', 'EMERGENCYSTATE_MODE', 'DEF_30_CNT_SOCIAL_CIRCLE',\n",
      "       'DEF_60_CNT_SOCIAL_CIRCLE', 'FLAG_DOCUMENT_2', 'FLAG_DOCUMENT_3',\n",
      "       'FLAG_DOCUMENT_4', 'FLAG_DOCUMENT_5', 'FLAG_DOCUMENT_6',\n",
      "       'FLAG_DOCUMENT_7', 'FLAG_DOCUMENT_8', 'FLAG_DOCUMENT_9',\n",
      "       'FLAG_DOCUMENT_10', 'FLAG_DOCUMENT_11', 'FLAG_DOCUMENT_12',\n",
      "       'FLAG_DOCUMENT_13', 'FLAG_DOCUMENT_14', 'FLAG_DOCUMENT_15',\n",
      "       'FLAG_DOCUMENT_16', 'FLAG_DOCUMENT_17', 'FLAG_DOCUMENT_18',\n",
      "       'FLAG_DOCUMENT_19', 'FLAG_DOCUMENT_20', 'FLAG_DOCUMENT_21',\n",
      "       'AMT_REQ_CREDIT_BUREAU_HOUR', 'AMT_REQ_CREDIT_BUREAU_DAY',\n",
      "       'AMT_REQ_CREDIT_BUREAU_WEEK', 'AMT_REQ_CREDIT_BUREAU_MON',\n",
      "       'AMT_REQ_CREDIT_BUREAU_QRT', 'AMT_REQ_CREDIT_BUREAU_YEAR'],\n",
      "      dtype='object')\n"
     ]
    }
   ],
   "source": [
    "# Get number of unique values per column\n",
    "unique_counts = app_test.nunique()\n",
    "\n",
    "# Set a threshold for max unique values to consider it categorical\n",
    "categorical_columns = unique_counts[unique_counts < 20].index\n",
    "print(categorical_columns)"
   ]
  },
  {
   "cell_type": "code",
   "execution_count": 16,
   "metadata": {},
   "outputs": [
    {
     "data": {
      "image/png": "[encoded data removed]",
      "text/plain": [
       "<Figure size 2000x600 with 1 Axes>"
      ]
     },
     "metadata": {},
     "output_type": "display_data"
    }
   ],
   "source": [
    "# Plot the number of unique values per column\n",
    "unique_counts.plot(kind='bar', figsize=(20, 6))\n",
    "plt.xlabel('Columns')\n",
    "plt.ylabel('Number of Unique Values')\n",
    "plt.title('Unique Value Counts per Column')\n",
    "plt.show()"
   ]
  },
  {
   "cell_type": "code",
   "execution_count": 17,
   "metadata": {},
   "outputs": [
    {
     "name": "stdout",
     "output_type": "stream",
     "text": [
      "NAME_CONTRACT_TYPE: 10.045031183325127 average string length\n",
      "CODE_GENDER: 1.0 average string length\n",
      "FLAG_OWN_CAR: 1.0 average string length\n",
      "FLAG_OWN_REALTY: 1.0 average string length\n",
      "NAME_TYPE_SUITE: 12.119164593481488 average string length\n",
      "NAME_INCOME_TYPE: 10.856290004923682 average string length\n",
      "NAME_EDUCATION_TYPE: 25.089364844903987 average string length\n",
      "NAME_FAMILY_STATUS: 9.519017725258493 average string length\n",
      "NAME_HOUSING_TYPE: 16.809063679632366 average string length\n",
      "OCCUPATION_TYPE: 10.536075319110413 average string length\n",
      "WEEKDAY_APPR_PROCESS_START: 7.25480059084195 average string length\n",
      "ORGANIZATION_TYPE: 12.425098473658297 average string length\n",
      "FONDKAPREMONT_MODE: 16.45218536401831 average string length\n",
      "HOUSETYPE_MODE: 14.020855721393035 average string length\n",
      "WALLSMATERIAL_MODE: 8.040561748018188 average string length\n",
      "EMERGENCYSTATE_MODE: 2.013416242698323 average string length\n"
     ]
    }
   ],
   "source": [
    "# Check columns where most entries are strings of a certain length\n",
    "for col in app_test.columns:\n",
    "    if app_test[col].dtype == 'object':\n",
    "        print(f\"{col}: {app_test[col].str.len().mean()} average string length\")"
   ]
  },
  {
   "cell_type": "code",
   "execution_count": 18,
   "metadata": {},
   "outputs": [
    {
     "data": {
      "text/html": [
       "<div>\n",
       "<style scoped>\n",
       "    .dataframe tbody tr th:only-of-type {\n",
       "        vertical-align: middle;\n",
       "    }\n",
       "\n",
       "    .dataframe tbody tr th {\n",
       "        vertical-align: top;\n",
       "    }\n",
       "\n",
       "    .dataframe thead th {\n",
       "        text-align: right;\n",
       "    }\n",
       "</style>\n",
       "<table border=\"1\" class=\"dataframe\">\n",
       "  <thead>\n",
       "    <tr style=\"text-align: right;\">\n",
       "      <th></th>\n",
       "      <th>NAME_CONTRACT_TYPE</th>\n",
       "      <th>CODE_GENDER</th>\n",
       "      <th>FLAG_OWN_CAR</th>\n",
       "      <th>FLAG_OWN_REALTY</th>\n",
       "      <th>NAME_TYPE_SUITE</th>\n",
       "      <th>NAME_INCOME_TYPE</th>\n",
       "      <th>NAME_EDUCATION_TYPE</th>\n",
       "      <th>NAME_FAMILY_STATUS</th>\n",
       "      <th>NAME_HOUSING_TYPE</th>\n",
       "      <th>OCCUPATION_TYPE</th>\n",
       "      <th>WEEKDAY_APPR_PROCESS_START</th>\n",
       "      <th>ORGANIZATION_TYPE</th>\n",
       "      <th>FONDKAPREMONT_MODE</th>\n",
       "      <th>HOUSETYPE_MODE</th>\n",
       "      <th>WALLSMATERIAL_MODE</th>\n",
       "      <th>EMERGENCYSTATE_MODE</th>\n",
       "    </tr>\n",
       "  </thead>\n",
       "  <tbody>\n",
       "    <tr>\n",
       "      <th>0</th>\n",
       "      <td>Cash loans</td>\n",
       "      <td>F</td>\n",
       "      <td>N</td>\n",
       "      <td>Y</td>\n",
       "      <td>Unaccompanied</td>\n",
       "      <td>Working</td>\n",
       "      <td>Higher education</td>\n",
       "      <td>Married</td>\n",
       "      <td>House / apartment</td>\n",
       "      <td>NaN</td>\n",
       "      <td>TUESDAY</td>\n",
       "      <td>Kindergarten</td>\n",
       "      <td>NaN</td>\n",
       "      <td>block of flats</td>\n",
       "      <td>Stone, brick</td>\n",
       "      <td>No</td>\n",
       "    </tr>\n",
       "    <tr>\n",
       "      <th>1</th>\n",
       "      <td>Cash loans</td>\n",
       "      <td>M</td>\n",
       "      <td>N</td>\n",
       "      <td>Y</td>\n",
       "      <td>Unaccompanied</td>\n",
       "      <td>Working</td>\n",
       "      <td>Secondary / secondary special</td>\n",
       "      <td>Married</td>\n",
       "      <td>House / apartment</td>\n",
       "      <td>Low-skill Laborers</td>\n",
       "      <td>FRIDAY</td>\n",
       "      <td>Self-employed</td>\n",
       "      <td>NaN</td>\n",
       "      <td>NaN</td>\n",
       "      <td>NaN</td>\n",
       "      <td>NaN</td>\n",
       "    </tr>\n",
       "    <tr>\n",
       "      <th>2</th>\n",
       "      <td>Cash loans</td>\n",
       "      <td>M</td>\n",
       "      <td>Y</td>\n",
       "      <td>Y</td>\n",
       "      <td>NaN</td>\n",
       "      <td>Working</td>\n",
       "      <td>Higher education</td>\n",
       "      <td>Married</td>\n",
       "      <td>House / apartment</td>\n",
       "      <td>Drivers</td>\n",
       "      <td>MONDAY</td>\n",
       "      <td>Transport: type 3</td>\n",
       "      <td>NaN</td>\n",
       "      <td>NaN</td>\n",
       "      <td>NaN</td>\n",
       "      <td>NaN</td>\n",
       "    </tr>\n",
       "    <tr>\n",
       "      <th>3</th>\n",
       "      <td>Cash loans</td>\n",
       "      <td>F</td>\n",
       "      <td>N</td>\n",
       "      <td>Y</td>\n",
       "      <td>Unaccompanied</td>\n",
       "      <td>Working</td>\n",
       "      <td>Secondary / secondary special</td>\n",
       "      <td>Married</td>\n",
       "      <td>House / apartment</td>\n",
       "      <td>Sales staff</td>\n",
       "      <td>WEDNESDAY</td>\n",
       "      <td>Business Entity Type 3</td>\n",
       "      <td>reg oper account</td>\n",
       "      <td>block of flats</td>\n",
       "      <td>Panel</td>\n",
       "      <td>No</td>\n",
       "    </tr>\n",
       "    <tr>\n",
       "      <th>4</th>\n",
       "      <td>Cash loans</td>\n",
       "      <td>M</td>\n",
       "      <td>Y</td>\n",
       "      <td>N</td>\n",
       "      <td>Unaccompanied</td>\n",
       "      <td>Working</td>\n",
       "      <td>Secondary / secondary special</td>\n",
       "      <td>Married</td>\n",
       "      <td>House / apartment</td>\n",
       "      <td>NaN</td>\n",
       "      <td>FRIDAY</td>\n",
       "      <td>Business Entity Type 3</td>\n",
       "      <td>NaN</td>\n",
       "      <td>NaN</td>\n",
       "      <td>NaN</td>\n",
       "      <td>NaN</td>\n",
       "    </tr>\n",
       "    <tr>\n",
       "      <th>...</th>\n",
       "      <td>...</td>\n",
       "      <td>...</td>\n",
       "      <td>...</td>\n",
       "      <td>...</td>\n",
       "      <td>...</td>\n",
       "      <td>...</td>\n",
       "      <td>...</td>\n",
       "      <td>...</td>\n",
       "      <td>...</td>\n",
       "      <td>...</td>\n",
       "      <td>...</td>\n",
       "      <td>...</td>\n",
       "      <td>...</td>\n",
       "      <td>...</td>\n",
       "      <td>...</td>\n",
       "      <td>...</td>\n",
       "    </tr>\n",
       "    <tr>\n",
       "      <th>48739</th>\n",
       "      <td>Cash loans</td>\n",
       "      <td>F</td>\n",
       "      <td>N</td>\n",
       "      <td>Y</td>\n",
       "      <td>Unaccompanied</td>\n",
       "      <td>Working</td>\n",
       "      <td>Secondary / secondary special</td>\n",
       "      <td>Widow</td>\n",
       "      <td>House / apartment</td>\n",
       "      <td>NaN</td>\n",
       "      <td>WEDNESDAY</td>\n",
       "      <td>Other</td>\n",
       "      <td>NaN</td>\n",
       "      <td>NaN</td>\n",
       "      <td>NaN</td>\n",
       "      <td>NaN</td>\n",
       "    </tr>\n",
       "    <tr>\n",
       "      <th>48740</th>\n",
       "      <td>Cash loans</td>\n",
       "      <td>F</td>\n",
       "      <td>N</td>\n",
       "      <td>N</td>\n",
       "      <td>Unaccompanied</td>\n",
       "      <td>Commercial associate</td>\n",
       "      <td>Secondary / secondary special</td>\n",
       "      <td>Married</td>\n",
       "      <td>House / apartment</td>\n",
       "      <td>Sales staff</td>\n",
       "      <td>MONDAY</td>\n",
       "      <td>Trade: type 7</td>\n",
       "      <td>NaN</td>\n",
       "      <td>NaN</td>\n",
       "      <td>NaN</td>\n",
       "      <td>NaN</td>\n",
       "    </tr>\n",
       "    <tr>\n",
       "      <th>48741</th>\n",
       "      <td>Cash loans</td>\n",
       "      <td>F</td>\n",
       "      <td>Y</td>\n",
       "      <td>Y</td>\n",
       "      <td>Unaccompanied</td>\n",
       "      <td>Commercial associate</td>\n",
       "      <td>Secondary / secondary special</td>\n",
       "      <td>Married</td>\n",
       "      <td>House / apartment</td>\n",
       "      <td>NaN</td>\n",
       "      <td>WEDNESDAY</td>\n",
       "      <td>Business Entity Type 3</td>\n",
       "      <td>NaN</td>\n",
       "      <td>block of flats</td>\n",
       "      <td>Stone, brick</td>\n",
       "      <td>No</td>\n",
       "    </tr>\n",
       "    <tr>\n",
       "      <th>48742</th>\n",
       "      <td>Cash loans</td>\n",
       "      <td>M</td>\n",
       "      <td>N</td>\n",
       "      <td>N</td>\n",
       "      <td>Family</td>\n",
       "      <td>Commercial associate</td>\n",
       "      <td>Higher education</td>\n",
       "      <td>Married</td>\n",
       "      <td>House / apartment</td>\n",
       "      <td>Managers</td>\n",
       "      <td>MONDAY</td>\n",
       "      <td>Self-employed</td>\n",
       "      <td>NaN</td>\n",
       "      <td>block of flats</td>\n",
       "      <td>Panel</td>\n",
       "      <td>No</td>\n",
       "    </tr>\n",
       "    <tr>\n",
       "      <th>48743</th>\n",
       "      <td>Cash loans</td>\n",
       "      <td>F</td>\n",
       "      <td>Y</td>\n",
       "      <td>N</td>\n",
       "      <td>Unaccompanied</td>\n",
       "      <td>Working</td>\n",
       "      <td>Secondary / secondary special</td>\n",
       "      <td>Married</td>\n",
       "      <td>House / apartment</td>\n",
       "      <td>Core staff</td>\n",
       "      <td>TUESDAY</td>\n",
       "      <td>Government</td>\n",
       "      <td>NaN</td>\n",
       "      <td>NaN</td>\n",
       "      <td>NaN</td>\n",
       "      <td>NaN</td>\n",
       "    </tr>\n",
       "  </tbody>\n",
       "</table>\n",
       "<p>48744 rows × 16 columns</p>\n",
       "</div>"
      ],
      "text/plain": [
       "      NAME_CONTRACT_TYPE CODE_GENDER FLAG_OWN_CAR FLAG_OWN_REALTY  \\\n",
       "0             Cash loans           F            N               Y   \n",
       "1             Cash loans           M            N               Y   \n",
       "2             Cash loans           M            Y               Y   \n",
       "3             Cash loans           F            N               Y   \n",
       "4             Cash loans           M            Y               N   \n",
       "...                  ...         ...          ...             ...   \n",
       "48739         Cash loans           F            N               Y   \n",
       "48740         Cash loans           F            N               N   \n",
       "48741         Cash loans           F            Y               Y   \n",
       "48742         Cash loans           M            N               N   \n",
       "48743         Cash loans           F            Y               N   \n",
       "\n",
       "      NAME_TYPE_SUITE      NAME_INCOME_TYPE            NAME_EDUCATION_TYPE  \\\n",
       "0       Unaccompanied               Working               Higher education   \n",
       "1       Unaccompanied               Working  Secondary / secondary special   \n",
       "2                 NaN               Working               Higher education   \n",
       "3       Unaccompanied               Working  Secondary / secondary special   \n",
       "4       Unaccompanied               Working  Secondary / secondary special   \n",
       "...               ...                   ...                            ...   \n",
       "48739   Unaccompanied               Working  Secondary / secondary special   \n",
       "48740   Unaccompanied  Commercial associate  Secondary / secondary special   \n",
       "48741   Unaccompanied  Commercial associate  Secondary / secondary special   \n",
       "48742          Family  Commercial associate               Higher education   \n",
       "48743   Unaccompanied               Working  Secondary / secondary special   \n",
       "\n",
       "      NAME_FAMILY_STATUS  NAME_HOUSING_TYPE     OCCUPATION_TYPE  \\\n",
       "0                Married  House / apartment                 NaN   \n",
       "1                Married  House / apartment  Low-skill Laborers   \n",
       "2                Married  House / apartment             Drivers   \n",
       "3                Married  House / apartment         Sales staff   \n",
       "4                Married  House / apartment                 NaN   \n",
       "...                  ...                ...                 ...   \n",
       "48739              Widow  House / apartment                 NaN   \n",
       "48740            Married  House / apartment         Sales staff   \n",
       "48741            Married  House / apartment                 NaN   \n",
       "48742            Married  House / apartment            Managers   \n",
       "48743            Married  House / apartment          Core staff   \n",
       "\n",
       "      WEEKDAY_APPR_PROCESS_START       ORGANIZATION_TYPE FONDKAPREMONT_MODE  \\\n",
       "0                        TUESDAY            Kindergarten                NaN   \n",
       "1                         FRIDAY           Self-employed                NaN   \n",
       "2                         MONDAY       Transport: type 3                NaN   \n",
       "3                      WEDNESDAY  Business Entity Type 3   reg oper account   \n",
       "4                         FRIDAY  Business Entity Type 3                NaN   \n",
       "...                          ...                     ...                ...   \n",
       "48739                  WEDNESDAY                   Other                NaN   \n",
       "48740                     MONDAY           Trade: type 7                NaN   \n",
       "48741                  WEDNESDAY  Business Entity Type 3                NaN   \n",
       "48742                     MONDAY           Self-employed                NaN   \n",
       "48743                    TUESDAY              Government                NaN   \n",
       "\n",
       "       HOUSETYPE_MODE WALLSMATERIAL_MODE EMERGENCYSTATE_MODE  \n",
       "0      block of flats       Stone, brick                  No  \n",
       "1                 NaN                NaN                 NaN  \n",
       "2                 NaN                NaN                 NaN  \n",
       "3      block of flats              Panel                  No  \n",
       "4                 NaN                NaN                 NaN  \n",
       "...               ...                ...                 ...  \n",
       "48739             NaN                NaN                 NaN  \n",
       "48740             NaN                NaN                 NaN  \n",
       "48741  block of flats       Stone, brick                  No  \n",
       "48742  block of flats              Panel                  No  \n",
       "48743             NaN                NaN                 NaN  \n",
       "\n",
       "[48744 rows x 16 columns]"
      ]
     },
     "execution_count": 18,
     "metadata": {},
     "output_type": "execute_result"
    }
   ],
   "source": [
    "app_test[app_test.select_dtypes(include=['object']).columns]"
   ]
  },
  {
   "cell_type": "code",
   "execution_count": 19,
   "metadata": {},
   "outputs": [
    {
     "data": {
      "text/html": [
       "<div>\n",
       "<style scoped>\n",
       "    .dataframe tbody tr th:only-of-type {\n",
       "        vertical-align: middle;\n",
       "    }\n",
       "\n",
       "    .dataframe tbody tr th {\n",
       "        vertical-align: top;\n",
       "    }\n",
       "\n",
       "    .dataframe thead th {\n",
       "        text-align: right;\n",
       "    }\n",
       "</style>\n",
       "<table border=\"1\" class=\"dataframe\">\n",
       "  <thead>\n",
       "    <tr style=\"text-align: right;\">\n",
       "      <th></th>\n",
       "      <th>NAME_CONTRACT_TYPE</th>\n",
       "      <th>CODE_GENDER</th>\n",
       "      <th>FLAG_OWN_CAR</th>\n",
       "      <th>FLAG_OWN_REALTY</th>\n",
       "      <th>NAME_TYPE_SUITE</th>\n",
       "      <th>NAME_INCOME_TYPE</th>\n",
       "      <th>NAME_EDUCATION_TYPE</th>\n",
       "      <th>NAME_FAMILY_STATUS</th>\n",
       "      <th>NAME_HOUSING_TYPE</th>\n",
       "      <th>OCCUPATION_TYPE</th>\n",
       "      <th>WEEKDAY_APPR_PROCESS_START</th>\n",
       "      <th>ORGANIZATION_TYPE</th>\n",
       "      <th>FONDKAPREMONT_MODE</th>\n",
       "      <th>HOUSETYPE_MODE</th>\n",
       "      <th>WALLSMATERIAL_MODE</th>\n",
       "      <th>EMERGENCYSTATE_MODE</th>\n",
       "    </tr>\n",
       "  </thead>\n",
       "  <tbody>\n",
       "    <tr>\n",
       "      <th>0</th>\n",
       "      <td>Cash loans</td>\n",
       "      <td>M</td>\n",
       "      <td>N</td>\n",
       "      <td>Y</td>\n",
       "      <td>Unaccompanied</td>\n",
       "      <td>Working</td>\n",
       "      <td>Secondary / secondary special</td>\n",
       "      <td>Single / not married</td>\n",
       "      <td>House / apartment</td>\n",
       "      <td>Laborers</td>\n",
       "      <td>WEDNESDAY</td>\n",
       "      <td>Business Entity Type 3</td>\n",
       "      <td>reg oper account</td>\n",
       "      <td>block of flats</td>\n",
       "      <td>Stone, brick</td>\n",
       "      <td>No</td>\n",
       "    </tr>\n",
       "    <tr>\n",
       "      <th>1</th>\n",
       "      <td>Cash loans</td>\n",
       "      <td>F</td>\n",
       "      <td>N</td>\n",
       "      <td>N</td>\n",
       "      <td>Family</td>\n",
       "      <td>State servant</td>\n",
       "      <td>Higher education</td>\n",
       "      <td>Married</td>\n",
       "      <td>House / apartment</td>\n",
       "      <td>Core staff</td>\n",
       "      <td>MONDAY</td>\n",
       "      <td>School</td>\n",
       "      <td>reg oper account</td>\n",
       "      <td>block of flats</td>\n",
       "      <td>Block</td>\n",
       "      <td>No</td>\n",
       "    </tr>\n",
       "    <tr>\n",
       "      <th>2</th>\n",
       "      <td>Revolving loans</td>\n",
       "      <td>M</td>\n",
       "      <td>Y</td>\n",
       "      <td>Y</td>\n",
       "      <td>Unaccompanied</td>\n",
       "      <td>Working</td>\n",
       "      <td>Secondary / secondary special</td>\n",
       "      <td>Single / not married</td>\n",
       "      <td>House / apartment</td>\n",
       "      <td>Laborers</td>\n",
       "      <td>MONDAY</td>\n",
       "      <td>Government</td>\n",
       "      <td>NaN</td>\n",
       "      <td>NaN</td>\n",
       "      <td>NaN</td>\n",
       "      <td>NaN</td>\n",
       "    </tr>\n",
       "    <tr>\n",
       "      <th>3</th>\n",
       "      <td>Cash loans</td>\n",
       "      <td>F</td>\n",
       "      <td>N</td>\n",
       "      <td>Y</td>\n",
       "      <td>Unaccompanied</td>\n",
       "      <td>Working</td>\n",
       "      <td>Secondary / secondary special</td>\n",
       "      <td>Civil marriage</td>\n",
       "      <td>House / apartment</td>\n",
       "      <td>Laborers</td>\n",
       "      <td>WEDNESDAY</td>\n",
       "      <td>Business Entity Type 3</td>\n",
       "      <td>NaN</td>\n",
       "      <td>NaN</td>\n",
       "      <td>NaN</td>\n",
       "      <td>NaN</td>\n",
       "    </tr>\n",
       "    <tr>\n",
       "      <th>4</th>\n",
       "      <td>Cash loans</td>\n",
       "      <td>M</td>\n",
       "      <td>N</td>\n",
       "      <td>Y</td>\n",
       "      <td>Unaccompanied</td>\n",
       "      <td>Working</td>\n",
       "      <td>Secondary / secondary special</td>\n",
       "      <td>Single / not married</td>\n",
       "      <td>House / apartment</td>\n",
       "      <td>Core staff</td>\n",
       "      <td>THURSDAY</td>\n",
       "      <td>Religion</td>\n",
       "      <td>NaN</td>\n",
       "      <td>NaN</td>\n",
       "      <td>NaN</td>\n",
       "      <td>NaN</td>\n",
       "    </tr>\n",
       "    <tr>\n",
       "      <th>...</th>\n",
       "      <td>...</td>\n",
       "      <td>...</td>\n",
       "      <td>...</td>\n",
       "      <td>...</td>\n",
       "      <td>...</td>\n",
       "      <td>...</td>\n",
       "      <td>...</td>\n",
       "      <td>...</td>\n",
       "      <td>...</td>\n",
       "      <td>...</td>\n",
       "      <td>...</td>\n",
       "      <td>...</td>\n",
       "      <td>...</td>\n",
       "      <td>...</td>\n",
       "      <td>...</td>\n",
       "      <td>...</td>\n",
       "    </tr>\n",
       "    <tr>\n",
       "      <th>307506</th>\n",
       "      <td>Cash loans</td>\n",
       "      <td>M</td>\n",
       "      <td>N</td>\n",
       "      <td>N</td>\n",
       "      <td>Unaccompanied</td>\n",
       "      <td>Working</td>\n",
       "      <td>Secondary / secondary special</td>\n",
       "      <td>Separated</td>\n",
       "      <td>With parents</td>\n",
       "      <td>Sales staff</td>\n",
       "      <td>THURSDAY</td>\n",
       "      <td>Services</td>\n",
       "      <td>reg oper account</td>\n",
       "      <td>block of flats</td>\n",
       "      <td>Stone, brick</td>\n",
       "      <td>No</td>\n",
       "    </tr>\n",
       "    <tr>\n",
       "      <th>307507</th>\n",
       "      <td>Cash loans</td>\n",
       "      <td>F</td>\n",
       "      <td>N</td>\n",
       "      <td>Y</td>\n",
       "      <td>Unaccompanied</td>\n",
       "      <td>Pensioner</td>\n",
       "      <td>Secondary / secondary special</td>\n",
       "      <td>Widow</td>\n",
       "      <td>House / apartment</td>\n",
       "      <td>NaN</td>\n",
       "      <td>MONDAY</td>\n",
       "      <td>XNA</td>\n",
       "      <td>reg oper account</td>\n",
       "      <td>block of flats</td>\n",
       "      <td>Stone, brick</td>\n",
       "      <td>No</td>\n",
       "    </tr>\n",
       "    <tr>\n",
       "      <th>307508</th>\n",
       "      <td>Cash loans</td>\n",
       "      <td>F</td>\n",
       "      <td>N</td>\n",
       "      <td>Y</td>\n",
       "      <td>Unaccompanied</td>\n",
       "      <td>Working</td>\n",
       "      <td>Higher education</td>\n",
       "      <td>Separated</td>\n",
       "      <td>House / apartment</td>\n",
       "      <td>Managers</td>\n",
       "      <td>THURSDAY</td>\n",
       "      <td>School</td>\n",
       "      <td>reg oper account</td>\n",
       "      <td>block of flats</td>\n",
       "      <td>Panel</td>\n",
       "      <td>No</td>\n",
       "    </tr>\n",
       "    <tr>\n",
       "      <th>307509</th>\n",
       "      <td>Cash loans</td>\n",
       "      <td>F</td>\n",
       "      <td>N</td>\n",
       "      <td>Y</td>\n",
       "      <td>Unaccompanied</td>\n",
       "      <td>Commercial associate</td>\n",
       "      <td>Secondary / secondary special</td>\n",
       "      <td>Married</td>\n",
       "      <td>House / apartment</td>\n",
       "      <td>Laborers</td>\n",
       "      <td>WEDNESDAY</td>\n",
       "      <td>Business Entity Type 1</td>\n",
       "      <td>NaN</td>\n",
       "      <td>block of flats</td>\n",
       "      <td>Stone, brick</td>\n",
       "      <td>No</td>\n",
       "    </tr>\n",
       "    <tr>\n",
       "      <th>307510</th>\n",
       "      <td>Cash loans</td>\n",
       "      <td>F</td>\n",
       "      <td>N</td>\n",
       "      <td>N</td>\n",
       "      <td>Unaccompanied</td>\n",
       "      <td>Commercial associate</td>\n",
       "      <td>Higher education</td>\n",
       "      <td>Married</td>\n",
       "      <td>House / apartment</td>\n",
       "      <td>Laborers</td>\n",
       "      <td>THURSDAY</td>\n",
       "      <td>Business Entity Type 3</td>\n",
       "      <td>NaN</td>\n",
       "      <td>block of flats</td>\n",
       "      <td>Panel</td>\n",
       "      <td>No</td>\n",
       "    </tr>\n",
       "  </tbody>\n",
       "</table>\n",
       "<p>307511 rows × 16 columns</p>\n",
       "</div>"
      ],
      "text/plain": [
       "       NAME_CONTRACT_TYPE CODE_GENDER FLAG_OWN_CAR FLAG_OWN_REALTY  \\\n",
       "0              Cash loans           M            N               Y   \n",
       "1              Cash loans           F            N               N   \n",
       "2         Revolving loans           M            Y               Y   \n",
       "3              Cash loans           F            N               Y   \n",
       "4              Cash loans           M            N               Y   \n",
       "...                   ...         ...          ...             ...   \n",
       "307506         Cash loans           M            N               N   \n",
       "307507         Cash loans           F            N               Y   \n",
       "307508         Cash loans           F            N               Y   \n",
       "307509         Cash loans           F            N               Y   \n",
       "307510         Cash loans           F            N               N   \n",
       "\n",
       "       NAME_TYPE_SUITE      NAME_INCOME_TYPE            NAME_EDUCATION_TYPE  \\\n",
       "0        Unaccompanied               Working  Secondary / secondary special   \n",
       "1               Family         State servant               Higher education   \n",
       "2        Unaccompanied               Working  Secondary / secondary special   \n",
       "3        Unaccompanied               Working  Secondary / secondary special   \n",
       "4        Unaccompanied               Working  Secondary / secondary special   \n",
       "...                ...                   ...                            ...   \n",
       "307506   Unaccompanied               Working  Secondary / secondary special   \n",
       "307507   Unaccompanied             Pensioner  Secondary / secondary special   \n",
       "307508   Unaccompanied               Working               Higher education   \n",
       "307509   Unaccompanied  Commercial associate  Secondary / secondary special   \n",
       "307510   Unaccompanied  Commercial associate               Higher education   \n",
       "\n",
       "          NAME_FAMILY_STATUS  NAME_HOUSING_TYPE OCCUPATION_TYPE  \\\n",
       "0       Single / not married  House / apartment        Laborers   \n",
       "1                    Married  House / apartment      Core staff   \n",
       "2       Single / not married  House / apartment        Laborers   \n",
       "3             Civil marriage  House / apartment        Laborers   \n",
       "4       Single / not married  House / apartment      Core staff   \n",
       "...                      ...                ...             ...   \n",
       "307506             Separated       With parents     Sales staff   \n",
       "307507                 Widow  House / apartment             NaN   \n",
       "307508             Separated  House / apartment        Managers   \n",
       "307509               Married  House / apartment        Laborers   \n",
       "307510               Married  House / apartment        Laborers   \n",
       "\n",
       "       WEEKDAY_APPR_PROCESS_START       ORGANIZATION_TYPE FONDKAPREMONT_MODE  \\\n",
       "0                       WEDNESDAY  Business Entity Type 3   reg oper account   \n",
       "1                          MONDAY                  School   reg oper account   \n",
       "2                          MONDAY              Government                NaN   \n",
       "3                       WEDNESDAY  Business Entity Type 3                NaN   \n",
       "4                        THURSDAY                Religion                NaN   \n",
       "...                           ...                     ...                ...   \n",
       "307506                   THURSDAY                Services   reg oper account   \n",
       "307507                     MONDAY                     XNA   reg oper account   \n",
       "307508                   THURSDAY                  School   reg oper account   \n",
       "307509                  WEDNESDAY  Business Entity Type 1                NaN   \n",
       "307510                   THURSDAY  Business Entity Type 3                NaN   \n",
       "\n",
       "        HOUSETYPE_MODE WALLSMATERIAL_MODE EMERGENCYSTATE_MODE  \n",
       "0       block of flats       Stone, brick                  No  \n",
       "1       block of flats              Block                  No  \n",
       "2                  NaN                NaN                 NaN  \n",
       "3                  NaN                NaN                 NaN  \n",
       "4                  NaN                NaN                 NaN  \n",
       "...                ...                ...                 ...  \n",
       "307506  block of flats       Stone, brick                  No  \n",
       "307507  block of flats       Stone, brick                  No  \n",
       "307508  block of flats              Panel                  No  \n",
       "307509  block of flats       Stone, brick                  No  \n",
       "307510  block of flats              Panel                  No  \n",
       "\n",
       "[307511 rows x 16 columns]"
      ]
     },
     "execution_count": 19,
     "metadata": {},
     "output_type": "execute_result"
    }
   ],
   "source": [
    "app_train[app_train.select_dtypes(include=['object']).columns]"
   ]
  },
  {
   "cell_type": "code",
   "execution_count": 20,
   "metadata": {},
   "outputs": [
    {
     "data": {
      "text/plain": [
       "NAME_CONTRACT_TYPE             2\n",
       "CODE_GENDER                    2\n",
       "FLAG_OWN_CAR                   2\n",
       "FLAG_OWN_REALTY                2\n",
       "NAME_TYPE_SUITE                7\n",
       "NAME_INCOME_TYPE               7\n",
       "NAME_EDUCATION_TYPE            5\n",
       "NAME_FAMILY_STATUS             5\n",
       "NAME_HOUSING_TYPE              6\n",
       "OCCUPATION_TYPE               18\n",
       "WEEKDAY_APPR_PROCESS_START     7\n",
       "ORGANIZATION_TYPE             58\n",
       "FONDKAPREMONT_MODE             4\n",
       "HOUSETYPE_MODE                 3\n",
       "WALLSMATERIAL_MODE             7\n",
       "EMERGENCYSTATE_MODE            2\n",
       "dtype: int64"
      ]
     },
     "execution_count": 20,
     "metadata": {},
     "output_type": "execute_result"
    }
   ],
   "source": [
    "# number of unique values per column\n",
    "app_test[app_test.select_dtypes(include=['object']).columns].nunique()"
   ]
  },
  {
   "cell_type": "markdown",
   "metadata": {},
   "source": [
    "We checked all the 16 columns with object dtype as they are not a lot, and they are all categorical. In order to avoid data leakage, we first fix missing values in app_train. This is because when we deploy a model, the training data is all we will have when making predictions on new data (test data). So the same statistics calculated on the training data should be applied to the test data, ensuring that both datasets are treated consistently."
   ]
  },
  {
   "cell_type": "code",
   "execution_count": 21,
   "metadata": {},
   "outputs": [
    {
     "data": {
      "text/html": [
       "<div>\n",
       "<style scoped>\n",
       "    .dataframe tbody tr th:only-of-type {\n",
       "        vertical-align: middle;\n",
       "    }\n",
       "\n",
       "    .dataframe tbody tr th {\n",
       "        vertical-align: top;\n",
       "    }\n",
       "\n",
       "    .dataframe thead th {\n",
       "        text-align: right;\n",
       "    }\n",
       "</style>\n",
       "<table border=\"1\" class=\"dataframe\">\n",
       "  <thead>\n",
       "    <tr style=\"text-align: right;\">\n",
       "      <th></th>\n",
       "      <th>Train Unique Values</th>\n",
       "      <th>Test Unique Values</th>\n",
       "      <th>type</th>\n",
       "      <th>percentage of train missing values</th>\n",
       "      <th>percentage of test missing values</th>\n",
       "    </tr>\n",
       "  </thead>\n",
       "  <tbody>\n",
       "    <tr>\n",
       "      <th>NAME_INCOME_TYPE</th>\n",
       "      <td>8</td>\n",
       "      <td>7.0</td>\n",
       "      <td>object</td>\n",
       "      <td>0.000000</td>\n",
       "      <td>0.000000</td>\n",
       "    </tr>\n",
       "    <tr>\n",
       "      <th>OCCUPATION_TYPE</th>\n",
       "      <td>18</td>\n",
       "      <td>18.0</td>\n",
       "      <td>object</td>\n",
       "      <td>31.345545</td>\n",
       "      <td>32.014197</td>\n",
       "    </tr>\n",
       "    <tr>\n",
       "      <th>FLAG_OWN_REALTY</th>\n",
       "      <td>2</td>\n",
       "      <td>2.0</td>\n",
       "      <td>object</td>\n",
       "      <td>0.000000</td>\n",
       "      <td>0.000000</td>\n",
       "    </tr>\n",
       "    <tr>\n",
       "      <th>FONDKAPREMONT_MODE</th>\n",
       "      <td>4</td>\n",
       "      <td>4.0</td>\n",
       "      <td>object</td>\n",
       "      <td>68.386172</td>\n",
       "      <td>67.284179</td>\n",
       "    </tr>\n",
       "    <tr>\n",
       "      <th>HOUSETYPE_MODE</th>\n",
       "      <td>3</td>\n",
       "      <td>3.0</td>\n",
       "      <td>object</td>\n",
       "      <td>50.176091</td>\n",
       "      <td>48.455194</td>\n",
       "    </tr>\n",
       "    <tr>\n",
       "      <th>...</th>\n",
       "      <td>...</td>\n",
       "      <td>...</td>\n",
       "      <td>...</td>\n",
       "      <td>...</td>\n",
       "      <td>...</td>\n",
       "    </tr>\n",
       "    <tr>\n",
       "      <th>HOUR_APPR_PROCESS_START</th>\n",
       "      <td>24</td>\n",
       "      <td>24.0</td>\n",
       "      <td>int64</td>\n",
       "      <td>0.000000</td>\n",
       "      <td>0.000000</td>\n",
       "    </tr>\n",
       "    <tr>\n",
       "      <th>FLAG_CONT_MOBILE</th>\n",
       "      <td>2</td>\n",
       "      <td>2.0</td>\n",
       "      <td>int64</td>\n",
       "      <td>0.000000</td>\n",
       "      <td>0.000000</td>\n",
       "    </tr>\n",
       "    <tr>\n",
       "      <th>LIVE_CITY_NOT_WORK_CITY</th>\n",
       "      <td>2</td>\n",
       "      <td>2.0</td>\n",
       "      <td>int64</td>\n",
       "      <td>0.000000</td>\n",
       "      <td>0.000000</td>\n",
       "    </tr>\n",
       "    <tr>\n",
       "      <th>LIVE_REGION_NOT_WORK_REGION</th>\n",
       "      <td>2</td>\n",
       "      <td>2.0</td>\n",
       "      <td>int64</td>\n",
       "      <td>0.000000</td>\n",
       "      <td>0.000000</td>\n",
       "    </tr>\n",
       "    <tr>\n",
       "      <th>FLAG_EMP_PHONE</th>\n",
       "      <td>2</td>\n",
       "      <td>2.0</td>\n",
       "      <td>int64</td>\n",
       "      <td>0.000000</td>\n",
       "      <td>0.000000</td>\n",
       "    </tr>\n",
       "  </tbody>\n",
       "</table>\n",
       "<p>122 rows × 5 columns</p>\n",
       "</div>"
      ],
      "text/plain": [
       "                             Train Unique Values  Test Unique Values    type  \\\n",
       "NAME_INCOME_TYPE                               8                 7.0  object   \n",
       "OCCUPATION_TYPE                               18                18.0  object   \n",
       "FLAG_OWN_REALTY                                2                 2.0  object   \n",
       "FONDKAPREMONT_MODE                             4                 4.0  object   \n",
       "HOUSETYPE_MODE                                 3                 3.0  object   \n",
       "...                                          ...                 ...     ...   \n",
       "HOUR_APPR_PROCESS_START                       24                24.0   int64   \n",
       "FLAG_CONT_MOBILE                               2                 2.0   int64   \n",
       "LIVE_CITY_NOT_WORK_CITY                        2                 2.0   int64   \n",
       "LIVE_REGION_NOT_WORK_REGION                    2                 2.0   int64   \n",
       "FLAG_EMP_PHONE                                 2                 2.0   int64   \n",
       "\n",
       "                             percentage of train missing values  \\\n",
       "NAME_INCOME_TYPE                                       0.000000   \n",
       "OCCUPATION_TYPE                                       31.345545   \n",
       "FLAG_OWN_REALTY                                        0.000000   \n",
       "FONDKAPREMONT_MODE                                    68.386172   \n",
       "HOUSETYPE_MODE                                        50.176091   \n",
       "...                                                         ...   \n",
       "HOUR_APPR_PROCESS_START                                0.000000   \n",
       "FLAG_CONT_MOBILE                                       0.000000   \n",
       "LIVE_CITY_NOT_WORK_CITY                                0.000000   \n",
       "LIVE_REGION_NOT_WORK_REGION                            0.000000   \n",
       "FLAG_EMP_PHONE                                         0.000000   \n",
       "\n",
       "                             percentage of test missing values  \n",
       "NAME_INCOME_TYPE                                      0.000000  \n",
       "OCCUPATION_TYPE                                      32.014197  \n",
       "FLAG_OWN_REALTY                                       0.000000  \n",
       "FONDKAPREMONT_MODE                                   67.284179  \n",
       "HOUSETYPE_MODE                                       48.455194  \n",
       "...                                                        ...  \n",
       "HOUR_APPR_PROCESS_START                               0.000000  \n",
       "FLAG_CONT_MOBILE                                      0.000000  \n",
       "LIVE_CITY_NOT_WORK_CITY                               0.000000  \n",
       "LIVE_REGION_NOT_WORK_REGION                           0.000000  \n",
       "FLAG_EMP_PHONE                                        0.000000  \n",
       "\n",
       "[122 rows x 5 columns]"
      ]
     },
     "execution_count": 21,
     "metadata": {},
     "output_type": "execute_result"
    }
   ],
   "source": [
    "df_unique_0 = pd.DataFrame({\n",
    "    'Train Unique Values': app_train.nunique(),\n",
    "    'Test Unique Values': app_test.nunique(),\n",
    "    'type': app_train.dtypes,\n",
    "    'percentage of train missing values': app_train.isnull().sum() / app_train.shape[0]*100,\n",
    "    'percentage of test missing values': app_test.isnull().sum() / app_test.shape[0]*100\n",
    "})\n",
    "df_unique_sorted_0 = df_unique_0.sort_values(by='type', ascending=False)\n",
    "df_unique_sorted_0"
   ]
  },
  {
   "cell_type": "markdown",
   "metadata": {},
   "source": [
    "We first drop the columns with more than 30 percent of missing values. We chose 30% based on the above df values."
   ]
  },
  {
   "cell_type": "code",
   "execution_count": 22,
   "metadata": {},
   "outputs": [
    {
     "name": "stdout",
     "output_type": "stream",
     "text": [
      "app_train_X_cleaned shape after dropping columns: (307511, 71)\n",
      "app_test_X_cleaned shape after dropping columns: (48744, 71)\n",
      "0    1\n",
      "1    0\n",
      "2    0\n",
      "3    0\n",
      "4    0\n",
      "Name: TARGET, dtype: int64\n"
     ]
    }
   ],
   "source": [
    "# Separate the TARGET column and remove it from app_train\n",
    "y = app_train['TARGET']  # Save the target column\n",
    "app_train_X = app_train.drop(columns=['TARGET'])  # Rename to app_train_X (features without target)\n",
    "\n",
    "# Calculate the percentage of missing values in app_train_X\n",
    "missing_percentage = app_train_X.isnull().sum() / len(app_train_X) * 100\n",
    "\n",
    "# Identify columns with more than 30% missing values\n",
    "columns_to_drop = missing_percentage[missing_percentage > 30].index\n",
    "\n",
    "# Drop columns from both app_train_X and app_test\n",
    "app_train_X_cleaned = app_train_X.drop(columns=columns_to_drop, axis=1)\n",
    "app_test_X_cleaned = app_test.drop(columns=columns_to_drop, axis=1)\n",
    "\n",
    "# Verify the columns have been dropped\n",
    "print(\"app_train_X_cleaned shape after dropping columns:\", app_train_X_cleaned.shape)\n",
    "print(\"app_test_X_cleaned shape after dropping columns:\", app_test_X_cleaned.shape)\n",
    "\n",
    "# Target column\n",
    "print(y.head())"
   ]
  },
  {
   "cell_type": "code",
   "execution_count": 23,
   "metadata": {},
   "outputs": [
    {
     "data": {
      "text/html": [
       "<div>\n",
       "<style scoped>\n",
       "    .dataframe tbody tr th:only-of-type {\n",
       "        vertical-align: middle;\n",
       "    }\n",
       "\n",
       "    .dataframe tbody tr th {\n",
       "        vertical-align: top;\n",
       "    }\n",
       "\n",
       "    .dataframe thead th {\n",
       "        text-align: right;\n",
       "    }\n",
       "</style>\n",
       "<table border=\"1\" class=\"dataframe\">\n",
       "  <thead>\n",
       "    <tr style=\"text-align: right;\">\n",
       "      <th></th>\n",
       "      <th>Train Unique Values</th>\n",
       "      <th>Test Unique Values</th>\n",
       "      <th>type</th>\n",
       "      <th>percentage of train missing values</th>\n",
       "      <th>percentage of test missing values</th>\n",
       "    </tr>\n",
       "  </thead>\n",
       "  <tbody>\n",
       "    <tr>\n",
       "      <th>NAME_TYPE_SUITE</th>\n",
       "      <td>7</td>\n",
       "      <td>7</td>\n",
       "      <td>object</td>\n",
       "      <td>0.420148</td>\n",
       "      <td>1.868948</td>\n",
       "    </tr>\n",
       "    <tr>\n",
       "      <th>NAME_HOUSING_TYPE</th>\n",
       "      <td>6</td>\n",
       "      <td>6</td>\n",
       "      <td>object</td>\n",
       "      <td>0.000000</td>\n",
       "      <td>0.000000</td>\n",
       "    </tr>\n",
       "    <tr>\n",
       "      <th>CODE_GENDER</th>\n",
       "      <td>3</td>\n",
       "      <td>2</td>\n",
       "      <td>object</td>\n",
       "      <td>0.000000</td>\n",
       "      <td>0.000000</td>\n",
       "    </tr>\n",
       "    <tr>\n",
       "      <th>FLAG_OWN_CAR</th>\n",
       "      <td>2</td>\n",
       "      <td>2</td>\n",
       "      <td>object</td>\n",
       "      <td>0.000000</td>\n",
       "      <td>0.000000</td>\n",
       "    </tr>\n",
       "    <tr>\n",
       "      <th>FLAG_OWN_REALTY</th>\n",
       "      <td>2</td>\n",
       "      <td>2</td>\n",
       "      <td>object</td>\n",
       "      <td>0.000000</td>\n",
       "      <td>0.000000</td>\n",
       "    </tr>\n",
       "    <tr>\n",
       "      <th>...</th>\n",
       "      <td>...</td>\n",
       "      <td>...</td>\n",
       "      <td>...</td>\n",
       "      <td>...</td>\n",
       "      <td>...</td>\n",
       "    </tr>\n",
       "    <tr>\n",
       "      <th>LIVE_REGION_NOT_WORK_REGION</th>\n",
       "      <td>2</td>\n",
       "      <td>2</td>\n",
       "      <td>int64</td>\n",
       "      <td>0.000000</td>\n",
       "      <td>0.000000</td>\n",
       "    </tr>\n",
       "    <tr>\n",
       "      <th>REG_CITY_NOT_LIVE_CITY</th>\n",
       "      <td>2</td>\n",
       "      <td>2</td>\n",
       "      <td>int64</td>\n",
       "      <td>0.000000</td>\n",
       "      <td>0.000000</td>\n",
       "    </tr>\n",
       "    <tr>\n",
       "      <th>LIVE_CITY_NOT_WORK_CITY</th>\n",
       "      <td>2</td>\n",
       "      <td>2</td>\n",
       "      <td>int64</td>\n",
       "      <td>0.000000</td>\n",
       "      <td>0.000000</td>\n",
       "    </tr>\n",
       "    <tr>\n",
       "      <th>FLAG_DOCUMENT_2</th>\n",
       "      <td>2</td>\n",
       "      <td>1</td>\n",
       "      <td>int64</td>\n",
       "      <td>0.000000</td>\n",
       "      <td>0.000000</td>\n",
       "    </tr>\n",
       "    <tr>\n",
       "      <th>REG_CITY_NOT_WORK_CITY</th>\n",
       "      <td>2</td>\n",
       "      <td>2</td>\n",
       "      <td>int64</td>\n",
       "      <td>0.000000</td>\n",
       "      <td>0.000000</td>\n",
       "    </tr>\n",
       "  </tbody>\n",
       "</table>\n",
       "<p>71 rows × 5 columns</p>\n",
       "</div>"
      ],
      "text/plain": [
       "                             Train Unique Values  Test Unique Values    type  \\\n",
       "NAME_TYPE_SUITE                                7                   7  object   \n",
       "NAME_HOUSING_TYPE                              6                   6  object   \n",
       "CODE_GENDER                                    3                   2  object   \n",
       "FLAG_OWN_CAR                                   2                   2  object   \n",
       "FLAG_OWN_REALTY                                2                   2  object   \n",
       "...                                          ...                 ...     ...   \n",
       "LIVE_REGION_NOT_WORK_REGION                    2                   2   int64   \n",
       "REG_CITY_NOT_LIVE_CITY                         2                   2   int64   \n",
       "LIVE_CITY_NOT_WORK_CITY                        2                   2   int64   \n",
       "FLAG_DOCUMENT_2                                2                   1   int64   \n",
       "REG_CITY_NOT_WORK_CITY                         2                   2   int64   \n",
       "\n",
       "                             percentage of train missing values  \\\n",
       "NAME_TYPE_SUITE                                        0.420148   \n",
       "NAME_HOUSING_TYPE                                      0.000000   \n",
       "CODE_GENDER                                            0.000000   \n",
       "FLAG_OWN_CAR                                           0.000000   \n",
       "FLAG_OWN_REALTY                                        0.000000   \n",
       "...                                                         ...   \n",
       "LIVE_REGION_NOT_WORK_REGION                            0.000000   \n",
       "REG_CITY_NOT_LIVE_CITY                                 0.000000   \n",
       "LIVE_CITY_NOT_WORK_CITY                                0.000000   \n",
       "FLAG_DOCUMENT_2                                        0.000000   \n",
       "REG_CITY_NOT_WORK_CITY                                 0.000000   \n",
       "\n",
       "                             percentage of test missing values  \n",
       "NAME_TYPE_SUITE                                       1.868948  \n",
       "NAME_HOUSING_TYPE                                     0.000000  \n",
       "CODE_GENDER                                           0.000000  \n",
       "FLAG_OWN_CAR                                          0.000000  \n",
       "FLAG_OWN_REALTY                                       0.000000  \n",
       "...                                                        ...  \n",
       "LIVE_REGION_NOT_WORK_REGION                           0.000000  \n",
       "REG_CITY_NOT_LIVE_CITY                                0.000000  \n",
       "LIVE_CITY_NOT_WORK_CITY                               0.000000  \n",
       "FLAG_DOCUMENT_2                                       0.000000  \n",
       "REG_CITY_NOT_WORK_CITY                                0.000000  \n",
       "\n",
       "[71 rows x 5 columns]"
      ]
     },
     "execution_count": 23,
     "metadata": {},
     "output_type": "execute_result"
    }
   ],
   "source": [
    "df_unique = pd.DataFrame({\n",
    "    'Train Unique Values': app_train_X_cleaned.nunique(),\n",
    "    'Test Unique Values': app_test_X_cleaned.nunique(),\n",
    "    'type': app_train_X_cleaned.dtypes,\n",
    "    'percentage of train missing values': app_train_X_cleaned.isnull().sum() / len(app_train_X_cleaned) * 100,\n",
    "    'percentage of test missing values': app_test_X_cleaned.isnull().sum() / len(app_test_X_cleaned) * 100\n",
    "})\n",
    "df_unique_sorted = df_unique.sort_values(by='type', ascending=False)\n",
    "df_unique_sorted"
   ]
  },
  {
   "cell_type": "markdown",
   "metadata": {},
   "source": [
    "We can see that the number of columns are reduced from 121 to 71."
   ]
  },
  {
   "cell_type": "markdown",
   "metadata": {},
   "source": [
    "We handle missing values in columns with object dtype (i.e., categorical variables) by creating a \"missing value\" category."
   ]
  },
  {
   "cell_type": "code",
   "execution_count": 24,
   "metadata": {},
   "outputs": [
    {
     "name": "stdout",
     "output_type": "stream",
     "text": [
      "NAME_CONTRACT_TYPE            0\n",
      "CODE_GENDER                   0\n",
      "FLAG_OWN_CAR                  0\n",
      "FLAG_OWN_REALTY               0\n",
      "NAME_TYPE_SUITE               0\n",
      "NAME_INCOME_TYPE              0\n",
      "NAME_EDUCATION_TYPE           0\n",
      "NAME_FAMILY_STATUS            0\n",
      "NAME_HOUSING_TYPE             0\n",
      "WEEKDAY_APPR_PROCESS_START    0\n",
      "ORGANIZATION_TYPE             0\n",
      "dtype: int64\n",
      "NAME_CONTRACT_TYPE            0\n",
      "CODE_GENDER                   0\n",
      "FLAG_OWN_CAR                  0\n",
      "FLAG_OWN_REALTY               0\n",
      "NAME_TYPE_SUITE               0\n",
      "NAME_INCOME_TYPE              0\n",
      "NAME_EDUCATION_TYPE           0\n",
      "NAME_FAMILY_STATUS            0\n",
      "NAME_HOUSING_TYPE             0\n",
      "WEEKDAY_APPR_PROCESS_START    0\n",
      "ORGANIZATION_TYPE             0\n",
      "dtype: int64\n"
     ]
    }
   ],
   "source": [
    "# columns with object dtype (categorical variables)\n",
    "categorical_cols_train = app_train_X_cleaned.select_dtypes(include=['object']).columns\n",
    "categorical_cols_test = app_test_X_cleaned.select_dtypes(include=['object']).columns\n",
    "\n",
    "# Fill missing values in these columns with the label \"Missing\"\n",
    "app_train_X_cleaned[categorical_cols_train] = app_train_X_cleaned[categorical_cols_train].fillna('Missing')\n",
    "app_test_X_cleaned[categorical_cols_test] = app_test_X_cleaned[categorical_cols_test].fillna('Missing')\n",
    "\n",
    "# Check if the missing values are filled\n",
    "print(app_train_X_cleaned[categorical_cols_train].isnull().sum())  # Should return 0 for all columns\n",
    "print(app_test_X_cleaned[categorical_cols_test].isnull().sum())   "
   ]
  },
  {
   "cell_type": "markdown",
   "metadata": {},
   "source": [
    "For categorical features, ideally, the test dataset should not contain categories that are not present in the training data, as this can cause issues during model training or inference.\n",
    "In reality, it’s possible to encounter new categories in the test data that were not seen during training. In such cases, we should handle these new categories appropriately (e.g., by replacing them with a default \"Unknown\" category)."
   ]
  },
  {
   "cell_type": "code",
   "execution_count": 25,
   "metadata": {},
   "outputs": [
    {
     "name": "stdout",
     "output_type": "stream",
     "text": [
      "Unique values in train set for column NAME_CONTRACT_TYPE: ['Cash loans' 'Revolving loans']\n",
      "Unique values in test set for column NAME_CONTRACT_TYPE: ['Cash loans' 'Revolving loans']\n",
      "Unique values in train set for column CODE_GENDER: ['M' 'F' 'XNA']\n",
      "Unique values in test set for column CODE_GENDER: ['F' 'M']\n",
      "Unique values in train set for column FLAG_OWN_CAR: ['N' 'Y']\n",
      "Unique values in test set for column FLAG_OWN_CAR: ['N' 'Y']\n",
      "Unique values in train set for column FLAG_OWN_REALTY: ['Y' 'N']\n",
      "Unique values in test set for column FLAG_OWN_REALTY: ['Y' 'N']\n",
      "Unique values in train set for column NAME_TYPE_SUITE: ['Unaccompanied' 'Family' 'Spouse, partner' 'Children' 'Other_A' 'Missing'\n",
      " 'Other_B' 'Group of people']\n",
      "Unique values in test set for column NAME_TYPE_SUITE: ['Unaccompanied' 'Missing' 'Family' 'Spouse, partner' 'Group of people'\n",
      " 'Other_B' 'Children' 'Other_A']\n",
      "Unique values in train set for column NAME_INCOME_TYPE: ['Working' 'State servant' 'Commercial associate' 'Pensioner' 'Unemployed'\n",
      " 'Student' 'Businessman' 'Maternity leave']\n",
      "Unique values in test set for column NAME_INCOME_TYPE: ['Working' 'State servant' 'Pensioner' 'Commercial associate'\n",
      " 'Businessman' 'Student' 'Unemployed']\n",
      "Unique values in train set for column NAME_EDUCATION_TYPE: ['Secondary / secondary special' 'Higher education' 'Incomplete higher'\n",
      " 'Lower secondary' 'Academic degree']\n",
      "Unique values in test set for column NAME_EDUCATION_TYPE: ['Higher education' 'Secondary / secondary special' 'Incomplete higher'\n",
      " 'Lower secondary' 'Academic degree']\n",
      "Unique values in train set for column NAME_FAMILY_STATUS: ['Single / not married' 'Married' 'Civil marriage' 'Widow' 'Separated'\n",
      " 'Unknown']\n",
      "Unique values in test set for column NAME_FAMILY_STATUS: ['Married' 'Single / not married' 'Civil marriage' 'Widow' 'Separated']\n",
      "Unique values in train set for column NAME_HOUSING_TYPE: ['House / apartment' 'Rented apartment' 'With parents'\n",
      " 'Municipal apartment' 'Office apartment' 'Co-op apartment']\n",
      "Unique values in test set for column NAME_HOUSING_TYPE: ['House / apartment' 'With parents' 'Rented apartment'\n",
      " 'Municipal apartment' 'Office apartment' 'Co-op apartment']\n",
      "Unique values in train set for column WEEKDAY_APPR_PROCESS_START: ['WEDNESDAY' 'MONDAY' 'THURSDAY' 'SUNDAY' 'SATURDAY' 'FRIDAY' 'TUESDAY']\n",
      "Unique values in test set for column WEEKDAY_APPR_PROCESS_START: ['TUESDAY' 'FRIDAY' 'MONDAY' 'WEDNESDAY' 'THURSDAY' 'SATURDAY' 'SUNDAY']\n",
      "Unique values in train set for column ORGANIZATION_TYPE: ['Business Entity Type 3' 'School' 'Government' 'Religion' 'Other' 'XNA'\n",
      " 'Electricity' 'Medicine' 'Business Entity Type 2' 'Self-employed'\n",
      " 'Transport: type 2' 'Construction' 'Housing' 'Kindergarten'\n",
      " 'Trade: type 7' 'Industry: type 11' 'Military' 'Services'\n",
      " 'Security Ministries' 'Transport: type 4' 'Industry: type 1' 'Emergency'\n",
      " 'Security' 'Trade: type 2' 'University' 'Transport: type 3' 'Police'\n",
      " 'Business Entity Type 1' 'Postal' 'Industry: type 4' 'Agriculture'\n",
      " 'Restaurant' 'Culture' 'Hotel' 'Industry: type 7' 'Trade: type 3'\n",
      " 'Industry: type 3' 'Bank' 'Industry: type 9' 'Insurance' 'Trade: type 6'\n",
      " 'Industry: type 2' 'Transport: type 1' 'Industry: type 12' 'Mobile'\n",
      " 'Trade: type 1' 'Industry: type 5' 'Industry: type 10' 'Legal Services'\n",
      " 'Advertising' 'Trade: type 5' 'Cleaning' 'Industry: type 13'\n",
      " 'Trade: type 4' 'Telecom' 'Industry: type 8' 'Realtor' 'Industry: type 6']\n",
      "Unique values in test set for column ORGANIZATION_TYPE: ['Kindergarten' 'Self-employed' 'Transport: type 3'\n",
      " 'Business Entity Type 3' 'Government' 'Industry: type 9' 'School'\n",
      " 'Trade: type 2' 'XNA' 'Services' 'Bank' 'Industry: type 3' 'Other'\n",
      " 'Trade: type 6' 'Industry: type 12' 'Trade: type 7' 'Postal' 'Medicine'\n",
      " 'Housing' 'Business Entity Type 2' 'Construction' 'Military'\n",
      " 'Industry: type 4' 'Trade: type 3' 'Legal Services' 'Security'\n",
      " 'Industry: type 11' 'University' 'Business Entity Type 1' 'Agriculture'\n",
      " 'Security Ministries' 'Transport: type 2' 'Industry: type 7'\n",
      " 'Transport: type 4' 'Telecom' 'Emergency' 'Police' 'Industry: type 1'\n",
      " 'Transport: type 1' 'Electricity' 'Industry: type 5' 'Hotel' 'Restaurant'\n",
      " 'Advertising' 'Mobile' 'Trade: type 1' 'Industry: type 8' 'Realtor'\n",
      " 'Cleaning' 'Industry: type 2' 'Trade: type 4' 'Industry: type 6'\n",
      " 'Culture' 'Insurance' 'Religion' 'Industry: type 13' 'Industry: type 10'\n",
      " 'Trade: type 5']\n"
     ]
    }
   ],
   "source": [
    "categorical_cols_train = app_train_X_cleaned.select_dtypes(include=['object']).columns\n",
    "categorical_cols_test = app_test_X_cleaned.select_dtypes(include=['object']).columns\n",
    "\n",
    "# ensure all unique values in categorical columns are the same between train and test\n",
    "for col in categorical_cols_train:\n",
    "    if col in categorical_cols_test:\n",
    "        train_unique = set(app_train_X_cleaned[col].unique())\n",
    "        test_unique = set(app_test_X_cleaned[col].unique())\n",
    "        \n",
    "        # Check if there are any new categories in the test data\n",
    "        new_categories_in_test = test_unique - train_unique\n",
    "        \n",
    "        if new_categories_in_test:\n",
    "            print(f\"New categories in test set for column {col}: {new_categories_in_test}\")\n",
    "            \n",
    "            # Replace new categories with 'Unknown'\n",
    "            app_test_X_cleaned[col] = app_test_X_cleaned[col].apply(lambda x: x if x in train_unique else 'Unknown')\n",
    "\n",
    "for col in categorical_cols_train:\n",
    "    if col in categorical_cols_test:\n",
    "        print(f\"Unique values in train set for column {col}: {app_train_X_cleaned[col].unique()}\")\n",
    "        print(f\"Unique values in test set for column {col}: {app_test_X_cleaned[col].unique()}\")"
   ]
  },
  {
   "cell_type": "markdown",
   "metadata": {},
   "source": [
    "In `df_unique_sorted` we can see that there are no missing values in int64 type columns. if there were any we would have handled it with mode or nearest neighbor imputation."
   ]
  },
  {
   "cell_type": "code",
   "execution_count": 26,
   "metadata": {},
   "outputs": [
    {
     "data": {
      "text/html": [
       "<div>\n",
       "<style scoped>\n",
       "    .dataframe tbody tr th:only-of-type {\n",
       "        vertical-align: middle;\n",
       "    }\n",
       "\n",
       "    .dataframe tbody tr th {\n",
       "        vertical-align: top;\n",
       "    }\n",
       "\n",
       "    .dataframe thead th {\n",
       "        text-align: right;\n",
       "    }\n",
       "</style>\n",
       "<table border=\"1\" class=\"dataframe\">\n",
       "  <thead>\n",
       "    <tr style=\"text-align: right;\">\n",
       "      <th></th>\n",
       "      <th>SK_ID_CURR</th>\n",
       "      <th>NAME_CONTRACT_TYPE</th>\n",
       "      <th>CODE_GENDER</th>\n",
       "      <th>FLAG_OWN_CAR</th>\n",
       "      <th>FLAG_OWN_REALTY</th>\n",
       "      <th>CNT_CHILDREN</th>\n",
       "      <th>AMT_INCOME_TOTAL</th>\n",
       "      <th>AMT_CREDIT</th>\n",
       "      <th>AMT_ANNUITY</th>\n",
       "      <th>AMT_GOODS_PRICE</th>\n",
       "      <th>...</th>\n",
       "      <th>FLAG_DOCUMENT_18</th>\n",
       "      <th>FLAG_DOCUMENT_19</th>\n",
       "      <th>FLAG_DOCUMENT_20</th>\n",
       "      <th>FLAG_DOCUMENT_21</th>\n",
       "      <th>AMT_REQ_CREDIT_BUREAU_HOUR</th>\n",
       "      <th>AMT_REQ_CREDIT_BUREAU_DAY</th>\n",
       "      <th>AMT_REQ_CREDIT_BUREAU_WEEK</th>\n",
       "      <th>AMT_REQ_CREDIT_BUREAU_MON</th>\n",
       "      <th>AMT_REQ_CREDIT_BUREAU_QRT</th>\n",
       "      <th>AMT_REQ_CREDIT_BUREAU_YEAR</th>\n",
       "    </tr>\n",
       "  </thead>\n",
       "  <tbody>\n",
       "    <tr>\n",
       "      <th>0</th>\n",
       "      <td>100002</td>\n",
       "      <td>Cash loans</td>\n",
       "      <td>M</td>\n",
       "      <td>N</td>\n",
       "      <td>Y</td>\n",
       "      <td>0</td>\n",
       "      <td>202500.0</td>\n",
       "      <td>406597.5</td>\n",
       "      <td>24700.5</td>\n",
       "      <td>351000.0</td>\n",
       "      <td>...</td>\n",
       "      <td>0</td>\n",
       "      <td>0</td>\n",
       "      <td>0</td>\n",
       "      <td>0</td>\n",
       "      <td>0.0</td>\n",
       "      <td>0.0</td>\n",
       "      <td>0.0</td>\n",
       "      <td>0.0</td>\n",
       "      <td>0.0</td>\n",
       "      <td>1.0</td>\n",
       "    </tr>\n",
       "    <tr>\n",
       "      <th>1</th>\n",
       "      <td>100003</td>\n",
       "      <td>Cash loans</td>\n",
       "      <td>F</td>\n",
       "      <td>N</td>\n",
       "      <td>N</td>\n",
       "      <td>0</td>\n",
       "      <td>270000.0</td>\n",
       "      <td>1293502.5</td>\n",
       "      <td>35698.5</td>\n",
       "      <td>1129500.0</td>\n",
       "      <td>...</td>\n",
       "      <td>0</td>\n",
       "      <td>0</td>\n",
       "      <td>0</td>\n",
       "      <td>0</td>\n",
       "      <td>0.0</td>\n",
       "      <td>0.0</td>\n",
       "      <td>0.0</td>\n",
       "      <td>0.0</td>\n",
       "      <td>0.0</td>\n",
       "      <td>0.0</td>\n",
       "    </tr>\n",
       "    <tr>\n",
       "      <th>2</th>\n",
       "      <td>100004</td>\n",
       "      <td>Revolving loans</td>\n",
       "      <td>M</td>\n",
       "      <td>Y</td>\n",
       "      <td>Y</td>\n",
       "      <td>0</td>\n",
       "      <td>67500.0</td>\n",
       "      <td>135000.0</td>\n",
       "      <td>6750.0</td>\n",
       "      <td>135000.0</td>\n",
       "      <td>...</td>\n",
       "      <td>0</td>\n",
       "      <td>0</td>\n",
       "      <td>0</td>\n",
       "      <td>0</td>\n",
       "      <td>0.0</td>\n",
       "      <td>0.0</td>\n",
       "      <td>0.0</td>\n",
       "      <td>0.0</td>\n",
       "      <td>0.0</td>\n",
       "      <td>0.0</td>\n",
       "    </tr>\n",
       "    <tr>\n",
       "      <th>3</th>\n",
       "      <td>100006</td>\n",
       "      <td>Cash loans</td>\n",
       "      <td>F</td>\n",
       "      <td>N</td>\n",
       "      <td>Y</td>\n",
       "      <td>0</td>\n",
       "      <td>135000.0</td>\n",
       "      <td>312682.5</td>\n",
       "      <td>29686.5</td>\n",
       "      <td>297000.0</td>\n",
       "      <td>...</td>\n",
       "      <td>0</td>\n",
       "      <td>0</td>\n",
       "      <td>0</td>\n",
       "      <td>0</td>\n",
       "      <td>NaN</td>\n",
       "      <td>NaN</td>\n",
       "      <td>NaN</td>\n",
       "      <td>NaN</td>\n",
       "      <td>NaN</td>\n",
       "      <td>NaN</td>\n",
       "    </tr>\n",
       "    <tr>\n",
       "      <th>4</th>\n",
       "      <td>100007</td>\n",
       "      <td>Cash loans</td>\n",
       "      <td>M</td>\n",
       "      <td>N</td>\n",
       "      <td>Y</td>\n",
       "      <td>0</td>\n",
       "      <td>121500.0</td>\n",
       "      <td>513000.0</td>\n",
       "      <td>21865.5</td>\n",
       "      <td>513000.0</td>\n",
       "      <td>...</td>\n",
       "      <td>0</td>\n",
       "      <td>0</td>\n",
       "      <td>0</td>\n",
       "      <td>0</td>\n",
       "      <td>0.0</td>\n",
       "      <td>0.0</td>\n",
       "      <td>0.0</td>\n",
       "      <td>0.0</td>\n",
       "      <td>0.0</td>\n",
       "      <td>0.0</td>\n",
       "    </tr>\n",
       "    <tr>\n",
       "      <th>...</th>\n",
       "      <td>...</td>\n",
       "      <td>...</td>\n",
       "      <td>...</td>\n",
       "      <td>...</td>\n",
       "      <td>...</td>\n",
       "      <td>...</td>\n",
       "      <td>...</td>\n",
       "      <td>...</td>\n",
       "      <td>...</td>\n",
       "      <td>...</td>\n",
       "      <td>...</td>\n",
       "      <td>...</td>\n",
       "      <td>...</td>\n",
       "      <td>...</td>\n",
       "      <td>...</td>\n",
       "      <td>...</td>\n",
       "      <td>...</td>\n",
       "      <td>...</td>\n",
       "      <td>...</td>\n",
       "      <td>...</td>\n",
       "      <td>...</td>\n",
       "    </tr>\n",
       "    <tr>\n",
       "      <th>307506</th>\n",
       "      <td>456251</td>\n",
       "      <td>Cash loans</td>\n",
       "      <td>M</td>\n",
       "      <td>N</td>\n",
       "      <td>N</td>\n",
       "      <td>0</td>\n",
       "      <td>157500.0</td>\n",
       "      <td>254700.0</td>\n",
       "      <td>27558.0</td>\n",
       "      <td>225000.0</td>\n",
       "      <td>...</td>\n",
       "      <td>0</td>\n",
       "      <td>0</td>\n",
       "      <td>0</td>\n",
       "      <td>0</td>\n",
       "      <td>NaN</td>\n",
       "      <td>NaN</td>\n",
       "      <td>NaN</td>\n",
       "      <td>NaN</td>\n",
       "      <td>NaN</td>\n",
       "      <td>NaN</td>\n",
       "    </tr>\n",
       "    <tr>\n",
       "      <th>307507</th>\n",
       "      <td>456252</td>\n",
       "      <td>Cash loans</td>\n",
       "      <td>F</td>\n",
       "      <td>N</td>\n",
       "      <td>Y</td>\n",
       "      <td>0</td>\n",
       "      <td>72000.0</td>\n",
       "      <td>269550.0</td>\n",
       "      <td>12001.5</td>\n",
       "      <td>225000.0</td>\n",
       "      <td>...</td>\n",
       "      <td>0</td>\n",
       "      <td>0</td>\n",
       "      <td>0</td>\n",
       "      <td>0</td>\n",
       "      <td>NaN</td>\n",
       "      <td>NaN</td>\n",
       "      <td>NaN</td>\n",
       "      <td>NaN</td>\n",
       "      <td>NaN</td>\n",
       "      <td>NaN</td>\n",
       "    </tr>\n",
       "    <tr>\n",
       "      <th>307508</th>\n",
       "      <td>456253</td>\n",
       "      <td>Cash loans</td>\n",
       "      <td>F</td>\n",
       "      <td>N</td>\n",
       "      <td>Y</td>\n",
       "      <td>0</td>\n",
       "      <td>153000.0</td>\n",
       "      <td>677664.0</td>\n",
       "      <td>29979.0</td>\n",
       "      <td>585000.0</td>\n",
       "      <td>...</td>\n",
       "      <td>0</td>\n",
       "      <td>0</td>\n",
       "      <td>0</td>\n",
       "      <td>0</td>\n",
       "      <td>1.0</td>\n",
       "      <td>0.0</td>\n",
       "      <td>0.0</td>\n",
       "      <td>1.0</td>\n",
       "      <td>0.0</td>\n",
       "      <td>1.0</td>\n",
       "    </tr>\n",
       "    <tr>\n",
       "      <th>307509</th>\n",
       "      <td>456254</td>\n",
       "      <td>Cash loans</td>\n",
       "      <td>F</td>\n",
       "      <td>N</td>\n",
       "      <td>Y</td>\n",
       "      <td>0</td>\n",
       "      <td>171000.0</td>\n",
       "      <td>370107.0</td>\n",
       "      <td>20205.0</td>\n",
       "      <td>319500.0</td>\n",
       "      <td>...</td>\n",
       "      <td>0</td>\n",
       "      <td>0</td>\n",
       "      <td>0</td>\n",
       "      <td>0</td>\n",
       "      <td>0.0</td>\n",
       "      <td>0.0</td>\n",
       "      <td>0.0</td>\n",
       "      <td>0.0</td>\n",
       "      <td>0.0</td>\n",
       "      <td>0.0</td>\n",
       "    </tr>\n",
       "    <tr>\n",
       "      <th>307510</th>\n",
       "      <td>456255</td>\n",
       "      <td>Cash loans</td>\n",
       "      <td>F</td>\n",
       "      <td>N</td>\n",
       "      <td>N</td>\n",
       "      <td>0</td>\n",
       "      <td>157500.0</td>\n",
       "      <td>675000.0</td>\n",
       "      <td>49117.5</td>\n",
       "      <td>675000.0</td>\n",
       "      <td>...</td>\n",
       "      <td>0</td>\n",
       "      <td>0</td>\n",
       "      <td>0</td>\n",
       "      <td>0</td>\n",
       "      <td>0.0</td>\n",
       "      <td>0.0</td>\n",
       "      <td>0.0</td>\n",
       "      <td>2.0</td>\n",
       "      <td>0.0</td>\n",
       "      <td>1.0</td>\n",
       "    </tr>\n",
       "  </tbody>\n",
       "</table>\n",
       "<p>307511 rows × 71 columns</p>\n",
       "</div>"
      ],
      "text/plain": [
       "        SK_ID_CURR NAME_CONTRACT_TYPE CODE_GENDER FLAG_OWN_CAR  \\\n",
       "0           100002         Cash loans           M            N   \n",
       "1           100003         Cash loans           F            N   \n",
       "2           100004    Revolving loans           M            Y   \n",
       "3           100006         Cash loans           F            N   \n",
       "4           100007         Cash loans           M            N   \n",
       "...            ...                ...         ...          ...   \n",
       "307506      456251         Cash loans           M            N   \n",
       "307507      456252         Cash loans           F            N   \n",
       "307508      456253         Cash loans           F            N   \n",
       "307509      456254         Cash loans           F            N   \n",
       "307510      456255         Cash loans           F            N   \n",
       "\n",
       "       FLAG_OWN_REALTY  CNT_CHILDREN  AMT_INCOME_TOTAL  AMT_CREDIT  \\\n",
       "0                    Y             0          202500.0    406597.5   \n",
       "1                    N             0          270000.0   1293502.5   \n",
       "2                    Y             0           67500.0    135000.0   \n",
       "3                    Y             0          135000.0    312682.5   \n",
       "4                    Y             0          121500.0    513000.0   \n",
       "...                ...           ...               ...         ...   \n",
       "307506               N             0          157500.0    254700.0   \n",
       "307507               Y             0           72000.0    269550.0   \n",
       "307508               Y             0          153000.0    677664.0   \n",
       "307509               Y             0          171000.0    370107.0   \n",
       "307510               N             0          157500.0    675000.0   \n",
       "\n",
       "        AMT_ANNUITY  AMT_GOODS_PRICE  ... FLAG_DOCUMENT_18 FLAG_DOCUMENT_19  \\\n",
       "0           24700.5         351000.0  ...                0                0   \n",
       "1           35698.5        1129500.0  ...                0                0   \n",
       "2            6750.0         135000.0  ...                0                0   \n",
       "3           29686.5         297000.0  ...                0                0   \n",
       "4           21865.5         513000.0  ...                0                0   \n",
       "...             ...              ...  ...              ...              ...   \n",
       "307506      27558.0         225000.0  ...                0                0   \n",
       "307507      12001.5         225000.0  ...                0                0   \n",
       "307508      29979.0         585000.0  ...                0                0   \n",
       "307509      20205.0         319500.0  ...                0                0   \n",
       "307510      49117.5         675000.0  ...                0                0   \n",
       "\n",
       "       FLAG_DOCUMENT_20 FLAG_DOCUMENT_21 AMT_REQ_CREDIT_BUREAU_HOUR  \\\n",
       "0                     0                0                        0.0   \n",
       "1                     0                0                        0.0   \n",
       "2                     0                0                        0.0   \n",
       "3                     0                0                        NaN   \n",
       "4                     0                0                        0.0   \n",
       "...                 ...              ...                        ...   \n",
       "307506                0                0                        NaN   \n",
       "307507                0                0                        NaN   \n",
       "307508                0                0                        1.0   \n",
       "307509                0                0                        0.0   \n",
       "307510                0                0                        0.0   \n",
       "\n",
       "        AMT_REQ_CREDIT_BUREAU_DAY  AMT_REQ_CREDIT_BUREAU_WEEK  \\\n",
       "0                             0.0                         0.0   \n",
       "1                             0.0                         0.0   \n",
       "2                             0.0                         0.0   \n",
       "3                             NaN                         NaN   \n",
       "4                             0.0                         0.0   \n",
       "...                           ...                         ...   \n",
       "307506                        NaN                         NaN   \n",
       "307507                        NaN                         NaN   \n",
       "307508                        0.0                         0.0   \n",
       "307509                        0.0                         0.0   \n",
       "307510                        0.0                         0.0   \n",
       "\n",
       "        AMT_REQ_CREDIT_BUREAU_MON  AMT_REQ_CREDIT_BUREAU_QRT  \\\n",
       "0                             0.0                        0.0   \n",
       "1                             0.0                        0.0   \n",
       "2                             0.0                        0.0   \n",
       "3                             NaN                        NaN   \n",
       "4                             0.0                        0.0   \n",
       "...                           ...                        ...   \n",
       "307506                        NaN                        NaN   \n",
       "307507                        NaN                        NaN   \n",
       "307508                        1.0                        0.0   \n",
       "307509                        0.0                        0.0   \n",
       "307510                        2.0                        0.0   \n",
       "\n",
       "        AMT_REQ_CREDIT_BUREAU_YEAR  \n",
       "0                              1.0  \n",
       "1                              0.0  \n",
       "2                              0.0  \n",
       "3                              NaN  \n",
       "4                              0.0  \n",
       "...                            ...  \n",
       "307506                         NaN  \n",
       "307507                         NaN  \n",
       "307508                         1.0  \n",
       "307509                         0.0  \n",
       "307510                         1.0  \n",
       "\n",
       "[307511 rows x 71 columns]"
      ]
     },
     "execution_count": 26,
     "metadata": {},
     "output_type": "execute_result"
    }
   ],
   "source": [
    "app_train_X_cleaned"
   ]
  },
  {
   "cell_type": "markdown",
   "metadata": {},
   "source": [
    "For float64 columns we can use KNN Imputation which finds the nearest neighbors and imputes based on them, but since it is mentioned not using scikit-learn, we'll focus on simpler methods. We are gonna use median imputation which is generally more robust than mean imputation when the data contains outliers or is skewed. Since missing values are common in many real-world datasets, median is often a safe default for float64 columns."
   ]
  },
  {
   "cell_type": "code",
   "execution_count": 27,
   "metadata": {},
   "outputs": [
    {
     "name": "stdout",
     "output_type": "stream",
     "text": [
      "AMT_INCOME_TOTAL              0\n",
      "AMT_CREDIT                    0\n",
      "AMT_ANNUITY                   0\n",
      "AMT_GOODS_PRICE               0\n",
      "REGION_POPULATION_RELATIVE    0\n",
      "DAYS_REGISTRATION             0\n",
      "CNT_FAM_MEMBERS               0\n",
      "EXT_SOURCE_2                  0\n",
      "EXT_SOURCE_3                  0\n",
      "OBS_30_CNT_SOCIAL_CIRCLE      0\n",
      "DEF_30_CNT_SOCIAL_CIRCLE      0\n",
      "OBS_60_CNT_SOCIAL_CIRCLE      0\n",
      "DEF_60_CNT_SOCIAL_CIRCLE      0\n",
      "DAYS_LAST_PHONE_CHANGE        0\n",
      "AMT_REQ_CREDIT_BUREAU_HOUR    0\n",
      "AMT_REQ_CREDIT_BUREAU_DAY     0\n",
      "AMT_REQ_CREDIT_BUREAU_WEEK    0\n",
      "AMT_REQ_CREDIT_BUREAU_MON     0\n",
      "AMT_REQ_CREDIT_BUREAU_QRT     0\n",
      "AMT_REQ_CREDIT_BUREAU_YEAR    0\n",
      "dtype: int64\n",
      "AMT_INCOME_TOTAL              0\n",
      "AMT_CREDIT                    0\n",
      "AMT_ANNUITY                   0\n",
      "AMT_GOODS_PRICE               0\n",
      "REGION_POPULATION_RELATIVE    0\n",
      "DAYS_REGISTRATION             0\n",
      "CNT_FAM_MEMBERS               0\n",
      "EXT_SOURCE_2                  0\n",
      "EXT_SOURCE_3                  0\n",
      "OBS_30_CNT_SOCIAL_CIRCLE      0\n",
      "DEF_30_CNT_SOCIAL_CIRCLE      0\n",
      "OBS_60_CNT_SOCIAL_CIRCLE      0\n",
      "DEF_60_CNT_SOCIAL_CIRCLE      0\n",
      "DAYS_LAST_PHONE_CHANGE        0\n",
      "AMT_REQ_CREDIT_BUREAU_HOUR    0\n",
      "AMT_REQ_CREDIT_BUREAU_DAY     0\n",
      "AMT_REQ_CREDIT_BUREAU_WEEK    0\n",
      "AMT_REQ_CREDIT_BUREAU_MON     0\n",
      "AMT_REQ_CREDIT_BUREAU_QRT     0\n",
      "AMT_REQ_CREDIT_BUREAU_YEAR    0\n",
      "dtype: int64\n"
     ]
    }
   ],
   "source": [
    "# loat64 columns\n",
    "float_cols_train = app_train_X_cleaned.select_dtypes(include=['float64']).columns\n",
    "float_cols_test = app_test_X_cleaned.select_dtypes(include=['float64']).columns\n",
    "\n",
    "missing_float_train = app_train_X_cleaned[float_cols_train].isnull().sum().sort_values(ascending=False)\n",
    "missing_float_test = app_test_X_cleaned[float_cols_test].isnull().sum().sort_values(ascending=False)\n",
    "\n",
    "# Impute missing values in float64 columns\n",
    "for col in float_cols_train:\n",
    "    if app_train_X_cleaned[col].isnull().sum() > 0:\n",
    "        # Use median for imputation\n",
    "        median_value = app_train_X_cleaned[col].median()\n",
    "        \n",
    "        # Impute in both train and test datasets by explicitly assigning back to the columns\n",
    "        app_train_X_cleaned[col] = app_train_X_cleaned[col].fillna(median_value)\n",
    "        app_test_X_cleaned[col] = app_test_X_cleaned[col].fillna(median_value)\n",
    "\n",
    "print(app_train_X_cleaned[float_cols_train].isnull().sum())  # Should return 0 for all columns\n",
    "print(app_test_X_cleaned[float_cols_test].isnull().sum()) "
   ]
  },
  {
   "cell_type": "code",
   "execution_count": 28,
   "metadata": {},
   "outputs": [
    {
     "name": "stdout",
     "output_type": "stream",
     "text": [
      "No missing values in app_train_X_cleaned\n",
      "No missing values in app_test_X_cleaned\n"
     ]
    }
   ],
   "source": [
    "# Check for missing values in app_train_X_cleaned\n",
    "missing_values_train = app_train_X_cleaned.isnull().sum()\n",
    "missing_values_train = missing_values_train[missing_values_train > 0]\n",
    "\n",
    "# Check for missing values in app_test_X_cleaned\n",
    "missing_values_test = app_test_X_cleaned.isnull().sum()\n",
    "missing_values_test = missing_values_test[missing_values_test > 0] \n",
    "\n",
    "if missing_values_train.empty:\n",
    "    print(\"No missing values in app_train_X_cleaned\")\n",
    "else:\n",
    "    print(\"Missing values in app_train_X_cleaned:\")\n",
    "    print(missing_values_train)\n",
    "\n",
    "if missing_values_test.empty:\n",
    "    print(\"No missing values in app_test_X_cleaned\")\n",
    "else:\n",
    "    print(\"Missing values in app_test_X_cleaned:\")\n",
    "    print(missing_values_test)"
   ]
  },
  {
   "cell_type": "markdown",
   "metadata": {
    "id": "LRgq0O0R8Dql"
   },
   "source": [
    "## Class Imbalance (8 pts)\n",
    "\n",
    "5. Evaluate the class imbalance of the training set.\n",
    "\n",
    "6. **a** Fix the class imbalance with over/undersampling\n",
    "\n",
    " **b** Use the SMOTE algorithm to fix class imbalance\n",
    "\n",
    "*You will be evaluated as follow*\n",
    "* 5: Correct approach + code: 2ts\n",
    "* 6.a: code 3pt\n",
    "* 6.b: code 3pts"
   ]
  },
  {
   "cell_type": "code",
   "execution_count": 29,
   "metadata": {
    "id": "ylyaMfXN8Kbd"
   },
   "outputs": [
    {
     "name": "stdout",
     "output_type": "stream",
     "text": [
      "Class distribution:\n",
      "TARGET\n",
      "0    282686\n",
      "1     24825\n",
      "Name: count, dtype: int64\n"
     ]
    },
    {
     "data": {
      "image/png": "[encoded data removed]",
      "text/plain": [
       "<Figure size 640x480 with 1 Axes>"
      ]
     },
     "metadata": {},
     "output_type": "display_data"
    }
   ],
   "source": [
    "# 5 - value counts\n",
    "# Check the class distribution\n",
    "target_counts = app_train['TARGET'].value_counts()\n",
    "print(\"Class distribution:\")\n",
    "print(target_counts)\n",
    "\n",
    "# 5 - histograms\n",
    "# Visualize the class distribution with a bar plot\n",
    "target_counts.plot(kind='bar', color=['skyblue', 'salmon'])\n",
    "plt.title('Class Distribution of TARGET')\n",
    "plt.xlabel('Class')\n",
    "plt.ylabel('Frequency')\n",
    "plt.xticks([0, 1], ['Paid (0)', 'Not Paid (1)'], rotation=0)\n",
    "plt.show()"
   ]
  },
  {
   "cell_type": "markdown",
   "metadata": {
    "id": "KP0jGTbSfQyb"
   },
   "source": [
    "**5**: Describe briefly your observation \n",
    "\n",
    "The plot clearly shows a significant class imbalance in the target variable, where the majority of instances belong to class 0 (Paid) and a small portion belongs to class 1 (Not Paid). This imbalance could lead to a model that is biased toward predicting class 0, so it might fail to classify class 1."
   ]
  },
  {
   "cell_type": "code",
   "execution_count": 30,
   "metadata": {
    "id": "PTyLbFbxgiD1"
   },
   "outputs": [
    {
     "name": "stdout",
     "output_type": "stream",
     "text": [
      "Original class distribution:\n",
      "TARGET\n",
      "0    282686\n",
      "1     24825\n",
      "Name: count, dtype: int64\n",
      "\n",
      "Class distribution after undersampling:\n",
      "TARGET\n",
      "1    24825\n",
      "0    24825\n",
      "Name: count, dtype: int64\n",
      "\n",
      "Class distribution after oversampling:\n",
      "TARGET\n",
      "0    282686\n",
      "1    282686\n",
      "Name: count, dtype: int64\n"
     ]
    }
   ],
   "source": [
    "# copy your current dataframe with its .copy() method. You should always use the copy() method if you want to keep the original dataframe untouched when you modify\n",
    "# this is a very common bug, so please read  https://www.statology.org/pandas-copy-dataframe/\n",
    "# 6.a - fix imbalance with undersampling or oversampling\n",
    "# Implement undersampling or oversampling *without* external libraries, only the library provided to implement yourself the chosen solution.\n",
    "# 6. **a** Fix the class imbalance with over/undersampling\n",
    "\n",
    "\n",
    "# Create a copy of the app_train DataFrame\n",
    "# app_train_original = app_train.copy()\n",
    "app_train_X_cleaned_copy = app_train_X_cleaned.copy()\n",
    "y_copy = app_train['TARGET'].copy()\n",
    "\n",
    "class_counts = y_copy.value_counts()\n",
    "minority_class = class_counts.idxmin()  # minority class\n",
    "majority_class = class_counts.idxmax()  # majority class\n",
    "\n",
    "print(\"Original class distribution:\")\n",
    "print(class_counts)\n",
    "\n",
    "\n",
    "# ### Manual Undersampling of the Majority Class ###\n",
    "\n",
    "minority_indices = y_copy[y_copy == minority_class].index\n",
    "majority_indices = y_copy[y_copy == majority_class].index\n",
    "\n",
    "# Randomly select a subset of majority class indices to match the size of the minority class and combine with the minority indices\n",
    "np.random.seed(42)  \n",
    "undersampled_majority_indices = np.random.choice(majority_indices, size=len(minority_indices), replace=False)\n",
    "undersampled_indices = np.concatenate([minority_indices, undersampled_majority_indices])\n",
    "\n",
    "# Create the undersampled dataset\n",
    "X_undersampled = app_train_X_cleaned_copy.loc[undersampled_indices]\n",
    "y_undersampled = y_copy.loc[undersampled_indices]\n",
    "print(\"\\nClass distribution after undersampling:\")\n",
    "print(y_undersampled.value_counts())\n",
    "\n",
    "\n",
    "# ### Manual Oversampling of the Minority Class ###\n",
    "\n",
    "# Randomly duplicate the minority class indices until both classes are balanced and combine with the majority indices\n",
    "oversampled_minority_indices = np.random.choice(minority_indices, size=len(majority_indices), replace=True)\n",
    "oversampled_indices = np.concatenate([majority_indices, oversampled_minority_indices])\n",
    "\n",
    "# Create the oversampled dataset\n",
    "X_oversampled = app_train_X_cleaned_copy.loc[oversampled_indices]\n",
    "y_oversampled = y_copy.loc[oversampled_indices]\n",
    "print(\"\\nClass distribution after oversampling:\")\n",
    "print(y_oversampled.value_counts())"
   ]
  },
  {
   "cell_type": "markdown",
   "metadata": {},
   "source": [
    "In `numpy.random.choice`, the replace parameter determines whether the sampling is done with replacement or without replacement.\n",
    "`replace=True` allows the possibility of selecting the same element multiple times.\n",
    "This is useful for oversampling because it allows to create duplicates of the minority class samples until the minority class matches the size of the majority class.\n",
    "In `replace=False` each element can only be selected once.\n",
    "This is used in undersampling when we want to reduce the number of samples in the majority class without duplication."
   ]
  },
  {
   "cell_type": "code",
   "execution_count": 31,
   "metadata": {},
   "outputs": [],
   "source": [
    "# contcatenate the X_oversampled and y_oversampled\n",
    "df_save = pd.concat([X_oversampled, y_oversampled], axis=1)\n",
    "df_save.to_csv('../data/app_train_oversampled_project1.csv', index=False)"
   ]
  },
  {
   "cell_type": "code",
   "execution_count": null,
   "metadata": {},
   "outputs": [],
   "source": [
    "# commented for project2\n",
    "\n",
    "\n",
    "# 6.b - fix balance with SMOTE on your previously copied dataframe\n",
    "# You can use any external libraries to use SMOTE. We recommend the imbalanced-learn package https://imbalanced-learn.org/stable/over_sampling.html\n",
    "# Make sure to select the appropriate SMOTE variant.\n",
    "# Use the SMOTE algorithm to fix class imbalance\n",
    "\n",
    "\n",
    "## Your code here\n",
    "# app_train_smote = ...\n",
    "from imblearn.over_sampling import SMOTENC\n",
    "\n",
    "app_train_X_smote = app_train_X_cleaned.copy()\n",
    "y_smote = app_train['TARGET'].copy()\n",
    "\n",
    "# identify categorical features based on dtype\n",
    "categorical_columns = app_train_X_smote.select_dtypes(include=['object']).columns\n",
    "categorical_indices = [app_train_X_smote.columns.get_loc(col) for col in categorical_columns]\n",
    "\n",
    "print(\"Categorical columns identified:\", categorical_columns)\n",
    "\n",
    "# Initialize SMOTENC with categorical feature indices\n",
    "smote_nc = SMOTENC(categorical_features=categorical_indices, random_state=42)\n",
    "\n",
    "# Fit and resample the data\n",
    "X_smote, y_smote = smote_nc.fit_resample(app_train_X_smote, y_smote)\n",
    "\n",
    "print(\"Class distribution after SMOTENC:\")\n",
    "print(pd.Series(y_smote).value_counts())"
   ]
  },
  {
   "cell_type": "code",
   "execution_count": 33,
   "metadata": {},
   "outputs": [],
   "source": [
    "# We will use the dataframe app_train from 6.a in the following\n",
    "# so we will use [X_oversampled, y_oversampled] from 6.a for the following questions"
   ]
  },
  {
   "cell_type": "markdown",
   "metadata": {
    "id": "h27ZdP7aloQb"
   },
   "source": [
    "<h2>Categorical features (9pts)</h2>\n",
    "\n",
    "In `app_test`\n",
    "\n",
    "**7a**: How will you transform the column NAME_HOUSING_TYPE in app_test be correctly handled by the model? How will you transform CODE_GENDER column?\n",
    "\n",
    "**7b**: How would you transform the column NAME_HOUSING_TYPE in app_test if you want only 3 categories? Use LabelEncoder to transform FLAG_OWN_CAR column.\n",
    "\n",
    "**7c**: In ORGANIZATION_TYPE, only keep the categories that appear in more than 10% of the dataset. Group other categories in one. What is the size of the dummy vector for ORGANIZATION_TYPE after this transformation?\n",
    "\n",
    "\n",
    "8: **In app_test, app_past and bureau,** transform all the categorical columns that you have not processed in 7 using One-hot encoding.\n",
    "\n",
    "*You will be evaluated as follow*\n",
    "* 7: Description of the approach 4pts. Code 3pts.\n",
    "* 8: Correct approach + code 2pts."
   ]
  },
  {
   "cell_type": "code",
   "execution_count": 34,
   "metadata": {},
   "outputs": [
    {
     "data": {
      "text/plain": [
       "NAME_HOUSING_TYPE\n",
       "House / apartment      493687\n",
       "With parents            32853\n",
       "Municipal apartment     21223\n",
       "Rented apartment        11199\n",
       "Office apartment         4458\n",
       "Co-op apartment          1952\n",
       "Name: count, dtype: int64"
      ]
     },
     "execution_count": 34,
     "metadata": {},
     "output_type": "execute_result"
    }
   ],
   "source": [
    "X_oversampled['NAME_HOUSING_TYPE'].value_counts()"
   ]
  },
  {
   "cell_type": "code",
   "execution_count": 35,
   "metadata": {},
   "outputs": [],
   "source": [
    "# Reduce NAME_HOUSING_TYPE to 3 categories\n",
    "\n",
    "def reduce_name_housing_type(df):\n",
    "    # Group categories\n",
    "    df['NAME_HOUSING_TYPE'] = df['NAME_HOUSING_TYPE'].replace({\n",
    "        'House / apartment': 'House / apartment',    # Keep\n",
    "        'With parents': 'With parents',              # Keep\n",
    "        # All others grouped into 'Other'\n",
    "        'Municipal apartment': 'Other',\n",
    "        'Rented apartment': 'Other',\n",
    "        'Office apartment': 'Other',\n",
    "        'Co-op apartment': 'Other'\n",
    "    })\n",
    "    return df\n",
    "\n",
    "app_train_transformed = reduce_name_housing_type(X_oversampled)\n",
    "app_test_X_cleaned = reduce_name_housing_type(app_test_X_cleaned)\n",
    "\n",
    "# apply One-Hot Encoding to the reduced categories in NAME_HOUSING_TYPE\n",
    "app_train_transformed = pd.get_dummies(app_train_transformed, columns=['NAME_HOUSING_TYPE'], drop_first=True)\n",
    "app_test_transformed = pd.get_dummies(app_test_X_cleaned, columns=['NAME_HOUSING_TYPE'], drop_first=True)\n",
    "\n",
    "missing_cols = set(app_train_transformed.columns) - set(app_test_transformed.columns)\n",
    "for col in missing_cols:\n",
    "    app_test_transformed[col] = 0\n",
    "# Ensure the test set columns are in the same order as the training set\n",
    "app_test_transformed = app_test_transformed[app_train_transformed.columns]"
   ]
  },
  {
   "cell_type": "code",
   "execution_count": 36,
   "metadata": {},
   "outputs": [
    {
     "data": {
      "text/plain": [
       "CODE_GENDER\n",
       "F      202448\n",
       "M      105059\n",
       "XNA         4\n",
       "Name: count, dtype: int64"
      ]
     },
     "execution_count": 36,
     "metadata": {},
     "output_type": "execute_result"
    }
   ],
   "source": [
    "app_train_X_cleaned['CODE_GENDER'].value_counts()"
   ]
  },
  {
   "cell_type": "code",
   "execution_count": 37,
   "metadata": {},
   "outputs": [
    {
     "name": "stdout",
     "output_type": "stream",
     "text": [
      "Transformed app_train_X_cleaned_copy['CODE_GENDER']:\n",
      "CODE_GENDER\n",
      "0    349817\n",
      "1    215551\n",
      "2         4\n",
      "Name: count, dtype: int64\n",
      "Transformed app_test_transformed['CODE_GENDER']:\n",
      "CODE_GENDER\n",
      "0    32678\n",
      "1    16066\n",
      "Name: count, dtype: int64\n"
     ]
    }
   ],
   "source": [
    "# Label Encoding for CODE_GENDER\n",
    "# Fit the transformation on the training set (CODE_GENDER)\n",
    "app_train_transformed['CODE_GENDER'] = app_train_transformed['CODE_GENDER'].map({'F': 0, 'M': 1, 'XNA': 2})\n",
    "# Apply the same transformation to the test set (CODE_GENDER)\n",
    "# Ensure consistency in encoding between training and test sets\n",
    "app_test_transformed['CODE_GENDER'] = app_test_X_cleaned['CODE_GENDER'].map({'F': 0, 'M': 1, 'XNA': 2})\n",
    "\n",
    "\n",
    "print(\"Transformed app_train_X_cleaned_copy['CODE_GENDER']:\")\n",
    "print(app_train_transformed['CODE_GENDER'].value_counts())\n",
    "print(\"Transformed app_test_transformed['CODE_GENDER']:\")\n",
    "print(app_test_transformed['CODE_GENDER'].value_counts())\n"
   ]
  },
  {
   "cell_type": "markdown",
   "metadata": {},
   "source": [
    "first we apply One-Hot Encoding to the NAME_HOUSING_TYPE column in both the training and test datasets, ensuring the test set has the same columns as the training set by adding any missing columns with a default value of 0 and reordering them to match the training set. For the CODE_GENDER column, Label Encoding is used to convert the categories (F, M, and XNA) into numerical values (0, 1, 2), ensuring consistency in encoding between the training and test sets. This ensures both columns are properly transformed for model training and evaluation."
   ]
  },
  {
   "cell_type": "code",
   "execution_count": 38,
   "metadata": {},
   "outputs": [
    {
     "data": {
      "text/plain": [
       "FLAG_OWN_CAR\n",
       "N    382626\n",
       "Y    182746\n",
       "Name: count, dtype: int64"
      ]
     },
     "execution_count": 38,
     "metadata": {},
     "output_type": "execute_result"
    }
   ],
   "source": [
    "app_train_transformed['FLAG_OWN_CAR'].value_counts()"
   ]
  },
  {
   "cell_type": "code",
   "execution_count": 39,
   "metadata": {},
   "outputs": [],
   "source": [
    "# transform FLAG_OWN_CAR\n",
    "# 'Y' becomes 1 and 'N' becomes 0\n",
    "app_train_transformed['FLAG_OWN_CAR'] = app_train_transformed['FLAG_OWN_CAR'].map({'Y': 1, 'N': 0})\n",
    "app_test_transformed['FLAG_OWN_CAR'] = app_test_X_cleaned['FLAG_OWN_CAR'].map({'Y': 1, 'N': 0})"
   ]
  },
  {
   "cell_type": "code",
   "execution_count": 40,
   "metadata": {},
   "outputs": [
    {
     "data": {
      "text/plain": [
       "NAME_HOUSING_TYPE_Other  NAME_HOUSING_TYPE_With parents\n",
       "False                    False                             493687\n",
       "True                     False                              38832\n",
       "False                    True                               32853\n",
       "Name: count, dtype: int64"
      ]
     },
     "execution_count": 40,
     "metadata": {},
     "output_type": "execute_result"
    }
   ],
   "source": [
    "# Check the transformed columns\n",
    "# print columns with name containing 'NAME_HOUSING_TYPE'\n",
    "app_train_transformed.filter(like='NAME_HOUSING_TYPE').value_counts()"
   ]
  },
  {
   "cell_type": "markdown",
   "metadata": {},
   "source": [
    "We first reduced the NAME_HOUSING_TYPE column to 3 categories by grouping less frequent categories ('Municipal apartment', 'Rented apartment', 'Office apartment', and 'Co-op apartment') into a single 'Other' category, while keeping 'House / apartment' and 'With parents'. One-Hot Encoding is then applied to both the training and test sets, ensuring that the test set has the same columns as the training set by adding any missing columns with a default value of 0. Additionally, the FLAG_OWN_CAR column is transformed manually by mapping 'Y' to 1 and 'N' to 0 for both datasets, converting this binary categorical variable into numerical form for the model."
   ]
  },
  {
   "cell_type": "code",
   "execution_count": 41,
   "metadata": {},
   "outputs": [
    {
     "name": "stdout",
     "output_type": "stream",
     "text": [
      "ORGANIZATION_TYPE\n",
      "Business Entity Type 3    0.237208\n",
      "XNA                       0.152385\n",
      "Self-employed             0.140695\n",
      "Other                     0.053094\n",
      "Business Entity Type 2    0.035281\n",
      "Medicine                  0.033045\n",
      "Government                0.031638\n",
      "Trade: type 7             0.027504\n",
      "Construction              0.025879\n",
      "School                    0.025274\n",
      "Kindergarten              0.020799\n",
      "Business Entity Type 1    0.019599\n",
      "Transport: type 4         0.018763\n",
      "Trade: type 3             0.012861\n",
      "Industry: type 3          0.012272\n",
      "Security                  0.011757\n",
      "Industry: type 9          0.010123\n",
      "Housing                   0.009371\n",
      "Industry: type 11         0.009143\n",
      "Agriculture               0.008897\n",
      "Postal                    0.007264\n",
      "Military                  0.007089\n",
      "Transport: type 2         0.007047\n",
      "Restaurant                0.007040\n",
      "Bank                      0.006880\n",
      "Police                    0.006222\n",
      "Trade: type 2             0.005727\n",
      "Transport: type 3         0.005497\n",
      "Security Ministries       0.005271\n",
      "Services                  0.004648\n",
      "Industry: type 7          0.004277\n",
      "Industry: type 1          0.003994\n",
      "University                0.003578\n",
      "Industry: type 4          0.003154\n",
      "Electricity               0.002848\n",
      "Hotel                     0.002777\n",
      "Industry: type 5          0.001783\n",
      "Telecom                   0.001774\n",
      "Emergency                 0.001691\n",
      "Trade: type 6             0.001668\n",
      "Insurance                 0.001631\n",
      "Realtor                   0.001479\n",
      "Advertising               0.001385\n",
      "Industry: type 2          0.001383\n",
      "Trade: type 1             0.001212\n",
      "Mobile                    0.001100\n",
      "Culture                   0.001072\n",
      "Cleaning                  0.000994\n",
      "Legal Services            0.000927\n",
      "Industry: type 12         0.000897\n",
      "Transport: type 1         0.000527\n",
      "Industry: type 6          0.000345\n",
      "Industry: type 10         0.000329\n",
      "Industry: type 13         0.000271\n",
      "Religion                  0.000242\n",
      "Trade: type 5             0.000149\n",
      "Trade: type 4             0.000145\n",
      "Industry: type 8          0.000099\n",
      "Name: proportion, dtype: float64\n"
     ]
    }
   ],
   "source": [
    "# ORGANIZATION_TYPE in the training set\n",
    "organization_counts = app_train_transformed['ORGANIZATION_TYPE'].value_counts(normalize=True)\n",
    "print(organization_counts)"
   ]
  },
  {
   "cell_type": "code",
   "execution_count": 42,
   "metadata": {},
   "outputs": [
    {
     "name": "stdout",
     "output_type": "stream",
     "text": [
      "Categories to keep: Index(['Business Entity Type 3', 'XNA', 'Self-employed'], dtype='object', name='ORGANIZATION_TYPE')\n"
     ]
    }
   ],
   "source": [
    "# categories that appear in more than 10% of the dataset\n",
    "categories_to_keep = organization_counts[organization_counts > 0.10].index\n",
    "print(f\"Categories to keep: {categories_to_keep}\")"
   ]
  },
  {
   "cell_type": "code",
   "execution_count": 43,
   "metadata": {},
   "outputs": [
    {
     "name": "stdout",
     "output_type": "stream",
     "text": [
      "Size of the dummy vector for ORGANIZATION_TYPE: 3\n"
     ]
    }
   ],
   "source": [
    "# Define a function to group less frequent categories into 'Other'\n",
    "def transform_organization_type(df, categories_to_keep):\n",
    "    df['ORGANIZATION_TYPE'] = df['ORGANIZATION_TYPE'].apply(lambda x: x if x in categories_to_keep else 'Other')\n",
    "    return df\n",
    "\n",
    "# Apply the transformation to the training set\n",
    "app_train_transformed = transform_organization_type(app_train_transformed, categories_to_keep)\n",
    "# Apply the transformation to the test set\n",
    "app_test_X_cleaned = transform_organization_type(app_test_X_cleaned, categories_to_keep)\n",
    "\n",
    "# Apply One-Hot Encoding to ORGANIZATION_TYPE in both training and test sets\n",
    "app_train_transformed = pd.get_dummies(app_train_transformed, columns=['ORGANIZATION_TYPE'], drop_first=True)\n",
    "app_test_transformed = pd.get_dummies(app_test_X_cleaned, columns=['ORGANIZATION_TYPE'], drop_first=True)\n",
    "\n",
    "missing_cols = set(app_train_transformed.columns) - set(app_test_transformed.columns)\n",
    "for col in missing_cols:\n",
    "    app_test_transformed[col] = 0\n",
    "app_test_transformed = app_test_transformed[app_train_transformed.columns]\n",
    "\n",
    "dummy_vector_size = app_train_transformed.filter(like='ORGANIZATION_TYPE').shape[1]\n",
    "print(f\"Size of the dummy vector for ORGANIZATION_TYPE: {dummy_vector_size}\")"
   ]
  },
  {
   "cell_type": "markdown",
   "metadata": {},
   "source": [
    "We first analyze the ORGANIZATION_TYPE column in the training set to determine which categories appear in more than 10% of the dataset. \n",
    "The categories that meet this threshold are retained, while the less frequent ones are grouped into a single 'Other' category. \n",
    "This transformation is applied to both the training and test sets to ensure consistency. \n",
    "Next, One-Hot Encoding is performed on the transformed ORGANIZATION_TYPE column in both datasets. \n",
    "To ensure the test set has the same structure as the training set, any missing columns in the test set are added with a default value of 0, and the columns are reordered to match the training set. \n",
    "Finally, the size of the dummy vector, representing the number of binary columns created from ORGANIZATION_TYPE, is calculated."
   ]
  },
  {
   "cell_type": "code",
   "execution_count": 44,
   "metadata": {},
   "outputs": [],
   "source": [
    "# 8: **In app_test, app_past and bureau,** transform all the categorical columns that \n",
    "# you have not processed in 7 using One-hot encoding."
   ]
  },
  {
   "cell_type": "code",
   "execution_count": 45,
   "metadata": {},
   "outputs": [
    {
     "name": "stdout",
     "output_type": "stream",
     "text": [
      "Categorical columns to encode: ['FLAG_OWN_REALTY', 'NAME_CONTRACT_TYPE', 'NAME_EDUCATION_TYPE', 'NAME_FAMILY_STATUS', 'NAME_INCOME_TYPE', 'NAME_TYPE_SUITE', 'WEEKDAY_APPR_PROCESS_START']\n",
      "Categorical columns to encode: ['FLAG_OWN_REALTY', 'NAME_CONTRACT_TYPE', 'NAME_EDUCATION_TYPE', 'NAME_FAMILY_STATUS', 'NAME_INCOME_TYPE', 'NAME_TYPE_SUITE', 'WEEKDAY_APPR_PROCESS_START']\n",
      "Categorical columns to encode: ['NAME_CONTRACT_TYPE', 'WEEKDAY_APPR_PROCESS_START', 'FLAG_LAST_APPL_PER_CONTRACT', 'NAME_CASH_LOAN_PURPOSE', 'NAME_CONTRACT_STATUS', 'NAME_PAYMENT_TYPE', 'CODE_REJECT_REASON', 'NAME_TYPE_SUITE', 'NAME_CLIENT_TYPE', 'NAME_GOODS_CATEGORY', 'NAME_PORTFOLIO', 'NAME_PRODUCT_TYPE', 'CHANNEL_TYPE', 'NAME_SELLER_INDUSTRY', 'NAME_YIELD_GROUP', 'PRODUCT_COMBINATION']\n",
      "Categorical columns to encode: ['CREDIT_ACTIVE', 'CREDIT_CURRENCY', 'CREDIT_TYPE']\n"
     ]
    }
   ],
   "source": [
    "# Function to One-Hot Encode remaining categorical columns\n",
    "def one_hot_encode_remaining(df, exclude_cols=[]):\n",
    "    # Identify categorical columns excluding already processed ones\n",
    "    categorical_cols = df.select_dtypes(include=['object']).columns.difference(exclude_cols)\n",
    "    print(f\"Categorical columns to encode: {list(categorical_cols)}\")\n",
    "    \n",
    "    # Apply One-Hot Encoding to the remaining categorical columns\n",
    "    df = pd.get_dummies(df, columns=categorical_cols, drop_first=True)\n",
    "    return df\n",
    "\n",
    "# List of columns processed in step 7 for app_train\n",
    "processed_columns_train = ['NAME_HOUSING_TYPE', 'CODE_GENDER', 'FLAG_OWN_CAR', 'ORGANIZATION_TYPE']\n",
    "\n",
    "app_train_transformed = one_hot_encode_remaining(app_train_transformed, exclude_cols=processed_columns_train)\n",
    "\n",
    "processed_columns_test = processed_columns_train  # Same columns for test set\n",
    "app_test_transformed = one_hot_encode_remaining(app_test_X_cleaned, exclude_cols=processed_columns_test)\n",
    "\n",
    "app_past_transformed = one_hot_encode_remaining(app_past)\n",
    "\n",
    "bureau_transformed = one_hot_encode_remaining(bureau)\n",
    "\n",
    "\n",
    "missing_cols_test = set(app_train_transformed.columns) - set(app_test_transformed.columns)\n",
    "for col in missing_cols_test:\n",
    "    app_test_transformed[col] = 0\n",
    "\n",
    "app_test_transformed = app_test_transformed[app_train_transformed.columns]"
   ]
  },
  {
   "cell_type": "code",
   "execution_count": 46,
   "metadata": {},
   "outputs": [
    {
     "data": {
      "text/html": [
       "<div>\n",
       "<style scoped>\n",
       "    .dataframe tbody tr th:only-of-type {\n",
       "        vertical-align: middle;\n",
       "    }\n",
       "\n",
       "    .dataframe tbody tr th {\n",
       "        vertical-align: top;\n",
       "    }\n",
       "\n",
       "    .dataframe thead th {\n",
       "        text-align: right;\n",
       "    }\n",
       "</style>\n",
       "<table border=\"1\" class=\"dataframe\">\n",
       "  <thead>\n",
       "    <tr style=\"text-align: right;\">\n",
       "      <th></th>\n",
       "    </tr>\n",
       "  </thead>\n",
       "  <tbody>\n",
       "    <tr>\n",
       "      <th>1</th>\n",
       "    </tr>\n",
       "    <tr>\n",
       "      <th>2</th>\n",
       "    </tr>\n",
       "    <tr>\n",
       "      <th>3</th>\n",
       "    </tr>\n",
       "    <tr>\n",
       "      <th>4</th>\n",
       "    </tr>\n",
       "    <tr>\n",
       "      <th>5</th>\n",
       "    </tr>\n",
       "    <tr>\n",
       "      <th>...</th>\n",
       "    </tr>\n",
       "    <tr>\n",
       "      <th>32008</th>\n",
       "    </tr>\n",
       "    <tr>\n",
       "      <th>241420</th>\n",
       "    </tr>\n",
       "    <tr>\n",
       "      <th>134531</th>\n",
       "    </tr>\n",
       "    <tr>\n",
       "      <th>93467</th>\n",
       "    </tr>\n",
       "    <tr>\n",
       "      <th>198214</th>\n",
       "    </tr>\n",
       "  </tbody>\n",
       "</table>\n",
       "<p>565372 rows × 0 columns</p>\n",
       "</div>"
      ],
      "text/plain": [
       "Empty DataFrame\n",
       "Columns: []\n",
       "Index: [1, 2, 3, 4, 5, 6, 7, 8, 9, 10, 11, 12, 13, 14, 15, 16, 17, 18, 19, 20, 21, 22, 23, 24, 25, 27, 28, 29, 30, 31, 32, 33, 34, 35, 36, 37, 38, 39, 41, 43, 44, 45, 46, 47, 48, 49, 50, 51, 52, 53, 54, 55, 56, 57, 58, 59, 60, 61, 62, 63, 64, 65, 66, 67, 68, 69, 70, 71, 72, 73, 74, 75, 76, 77, 78, 79, 80, 82, 83, 84, 85, 86, 87, 88, 89, 90, 91, 92, 93, 95, 96, 97, 98, 99, 100, 101, 102, 103, 104, 105, ...]\n",
       "\n",
       "[565372 rows x 0 columns]"
      ]
     },
     "execution_count": 46,
     "metadata": {},
     "output_type": "execute_result"
    }
   ],
   "source": [
    "app_train_transformed[app_train_transformed.select_dtypes(include=['object']).columns]"
   ]
  },
  {
   "cell_type": "code",
   "execution_count": 47,
   "metadata": {},
   "outputs": [
    {
     "name": "stderr",
     "output_type": "stream",
     "text": [
      "/var/folders/l0/k7f2rhdj5xg3__zf2_xlw76c0000gn/T/ipykernel_14676/175644304.py:13: PerformanceWarning: DataFrame is highly fragmented.  This is usually the result of calling `frame.insert` many times, which has poor performance.  Consider joining all columns at once using pd.concat(axis=1) instead. To get a de-fragmented frame, use `newframe = frame.copy()`\n",
      "  df_encoded[col] = 0\n"
     ]
    },
    {
     "name": "stdout",
     "output_type": "stream",
     "text": [
      "Training set shape after encoding: (565372, 98)\n",
      "Test set shape after encoding: (48744, 98)\n",
      "App_past set shape after encoding: (1670214, 98)\n",
      "Bureau set shape after encoding: (1716428, 98)\n"
     ]
    }
   ],
   "source": [
    "# Function to One-Hot Encode only remaining the object columns, using training set as reference\n",
    "def one_hot_encode_object_columns(df, reference_df=None):\n",
    "    # Identify categorical columns (object dtype)\n",
    "    categorical_cols = df.select_dtypes(include=['object']).columns\n",
    "    \n",
    "    # Apply One-Hot Encoding to the identified categorical columns\n",
    "    df_encoded = pd.get_dummies(df, columns=categorical_cols, drop_first=True)\n",
    "    \n",
    "    # If reference_df is provided, align the columns with the reference dataframe (train set)\n",
    "    if reference_df is not None:\n",
    "        missing_cols = set(reference_df.columns) - set(df_encoded.columns)\n",
    "        for col in missing_cols:\n",
    "            df_encoded[col] = 0\n",
    "        df_encoded = df_encoded[reference_df.columns]\n",
    "    \n",
    "    return df_encoded\n",
    "\n",
    "# Apply One-Hot Encoding to the training set\n",
    "app_train_transformed = one_hot_encode_object_columns(app_train_transformed)\n",
    "\n",
    "# Apply One-Hot Encoding to the test set using the training set as reference\n",
    "app_test_transformed = one_hot_encode_object_columns(app_test_X_cleaned, reference_df=app_train_transformed)\n",
    "\n",
    "# Apply One-Hot Encoding to app_past using the training set as reference\n",
    "app_past_transformed = one_hot_encode_object_columns(app_past, reference_df=app_train_transformed)\n",
    "\n",
    "# Apply One-Hot Encoding to bureau using the training set as reference\n",
    "bureau_transformed = one_hot_encode_object_columns(bureau, reference_df=app_train_transformed)\n",
    "\n",
    "\n",
    "print(f\"Training set shape after encoding: {app_train_transformed.shape}\")\n",
    "print(f\"Test set shape after encoding: {app_test_transformed.shape}\")\n",
    "print(f\"App_past set shape after encoding: {app_past_transformed.shape}\")\n",
    "print(f\"Bureau set shape after encoding: {bureau_transformed.shape}\")"
   ]
  },
  {
   "cell_type": "markdown",
   "metadata": {
    "id": "ufWJR8ScnHb4"
   },
   "source": [
    "<h2>Anomalies (7 pts)</h2>\n",
    "\n",
    "**In app_test**\n",
    "\n",
    "**9a**: Is there an anomaly with the column DEF_30_CNT_SOCIAL_CIRCLE? If so, how would you solve it?\n",
    "\n",
    "**9b**: Is there an anomaly with the column LANDAREA_AVG? If so, how would you solve it?\n",
    "\n",
    "**9c**: Is there an anomaly with the column AMT_INCOME_TOTAL? If so, how would you solve it?\n",
    "\n",
    "10: Fix the anomaly in DAYS_EMPLOYED?\n",
    "\n",
    "*You will be evaluated as follow*\n",
    "* 9: Description of the approach + code 5pts.\n",
    "* 10: code 2pts"
   ]
  },
  {
   "cell_type": "code",
   "execution_count": 48,
   "metadata": {},
   "outputs": [
    {
     "data": {
      "text/plain": [
       "count    565372.000000\n",
       "mean          0.164474\n",
       "std           0.478559\n",
       "min           0.000000\n",
       "25%           0.000000\n",
       "50%           0.000000\n",
       "75%           0.000000\n",
       "max          34.000000\n",
       "Name: DEF_30_CNT_SOCIAL_CIRCLE, dtype: float64"
      ]
     },
     "execution_count": 48,
     "metadata": {},
     "output_type": "execute_result"
    }
   ],
   "source": [
    "app_train_transformed['DEF_30_CNT_SOCIAL_CIRCLE'].describe()"
   ]
  },
  {
   "cell_type": "markdown",
   "metadata": {},
   "source": [
    "The maximum value of 34 is an extreme outlier, while most individuals have 0 defaults. This value likely represents an anomaly or rare case that could distort the data."
   ]
  },
  {
   "cell_type": "code",
   "execution_count": 49,
   "metadata": {},
   "outputs": [
    {
     "data": {
      "text/plain": [
       "count    565372.000000\n",
       "mean          0.156508\n",
       "std           0.431132\n",
       "min           0.000000\n",
       "25%           0.000000\n",
       "50%           0.000000\n",
       "75%           0.000000\n",
       "max           2.000000\n",
       "Name: DEF_30_CNT_SOCIAL_CIRCLE, dtype: float64"
      ]
     },
     "execution_count": 49,
     "metadata": {},
     "output_type": "execute_result"
    }
   ],
   "source": [
    "# Calculate the 99th percentile for DEF_30_CNT_SOCIAL_CIRCLE in the training set\n",
    "def_30_threshold = app_train_transformed['DEF_30_CNT_SOCIAL_CIRCLE'].quantile(0.99)\n",
    "\n",
    "# Cap the values in the training set at the 99th percentile\n",
    "app_train_transformed['DEF_30_CNT_SOCIAL_CIRCLE'] = app_train_transformed['DEF_30_CNT_SOCIAL_CIRCLE'].apply(\n",
    "    lambda x: def_30_threshold if x > def_30_threshold else x\n",
    ")\n",
    "\n",
    "# Verify the changes by checking the description again\n",
    "app_train_transformed['DEF_30_CNT_SOCIAL_CIRCLE'].describe()"
   ]
  },
  {
   "cell_type": "code",
   "execution_count": 50,
   "metadata": {},
   "outputs": [
    {
     "data": {
      "text/plain": [
       "count    48744.000000\n",
       "mean         0.135340\n",
       "std          0.401517\n",
       "min          0.000000\n",
       "25%          0.000000\n",
       "50%          0.000000\n",
       "75%          0.000000\n",
       "max          2.000000\n",
       "Name: DEF_30_CNT_SOCIAL_CIRCLE, dtype: float64"
      ]
     },
     "execution_count": 50,
     "metadata": {},
     "output_type": "execute_result"
    }
   ],
   "source": [
    "# Apply the same capping process to app_test_transformed based on the 99th percentile from app_train_transformed\n",
    "app_test_transformed['DEF_30_CNT_SOCIAL_CIRCLE'] = app_test_transformed['DEF_30_CNT_SOCIAL_CIRCLE'].apply(\n",
    "    lambda x: def_30_threshold if x > def_30_threshold else x\n",
    ")\n",
    "\n",
    "# Verify the changes in app_test_transformed by checking the description\n",
    "app_test_transformed['DEF_30_CNT_SOCIAL_CIRCLE'].describe()"
   ]
  },
  {
   "cell_type": "markdown",
   "metadata": {},
   "source": [
    "In this approach, we identified outliers in the DEF_30_CNT_SOCIAL_CIRCLE column in both the training and test datasets. Most values in this column were 0, indicating no defaults in an individual's social circle, but a small number of extreme outliers skewed the data, with a maximum value of 34.\n",
    "\n",
    "To handle this, we capped the values at the 99th percentile of the training set. This method reduces the influence of extreme outliers while retaining the general distribution of the data. We first applied this transformation to the training data (app_train_transformed), which reduced the maximum value to 2 and lowered the mean and standard deviation slightly.\n",
    "\n",
    "Afterward, we applied the same capping process to the test set (app_test_transformed) using the threshold derived from the training set, ensuring consistency between the datasets.\n",
    "\n",
    "This process ensures that outliers do not distort the analysis or model performance while maintaining consistency between the training and test sets."
   ]
  },
  {
   "cell_type": "code",
   "execution_count": 51,
   "metadata": {},
   "outputs": [
    {
     "data": {
      "text/plain": [
       "0.5937673774271489"
      ]
     },
     "execution_count": 51,
     "metadata": {},
     "output_type": "execute_result"
    }
   ],
   "source": [
    "app_train[\"LANDAREA_AVG\"].isnull().sum()/len(app_train[\"LANDAREA_AVG\"])"
   ]
  },
  {
   "cell_type": "markdown",
   "metadata": {},
   "source": [
    "We have removed this column because it contains a lot of missing values."
   ]
  },
  {
   "cell_type": "code",
   "execution_count": 52,
   "metadata": {},
   "outputs": [
    {
     "data": {
      "text/plain": [
       "count    5.653720e+05\n",
       "mean     1.675858e+05\n",
       "std      5.474468e+05\n",
       "min      2.565000e+04\n",
       "25%      1.125000e+05\n",
       "50%      1.440000e+05\n",
       "75%      2.025000e+05\n",
       "max      1.170000e+08\n",
       "Name: AMT_INCOME_TOTAL, dtype: float64"
      ]
     },
     "execution_count": 52,
     "metadata": {},
     "output_type": "execute_result"
    }
   ],
   "source": [
    "app_train_transformed[\"AMT_INCOME_TOTAL\"].describe()"
   ]
  },
  {
   "cell_type": "markdown",
   "metadata": {},
   "source": [
    "Extremely high maximum value: 117 million is an outlier, far above the 75th percentile."
   ]
  },
  {
   "cell_type": "code",
   "execution_count": 53,
   "metadata": {},
   "outputs": [
    {
     "data": {
      "image/png": "[encoded data removed]",
      "text/plain": [
       "<Figure size 1000x600 with 1 Axes>"
      ]
     },
     "metadata": {},
     "output_type": "display_data"
    }
   ],
   "source": [
    "# Plot a histogram of AMT_INCOME_TOTAL before capping\n",
    "plt.figure(figsize=(10, 6))\n",
    "plt.hist(app_train_transformed['AMT_INCOME_TOTAL'], bins=100, color='blue', edgecolor='black')\n",
    "plt.title('Distribution of AMT_INCOME_TOTAL')\n",
    "plt.xlabel('AMT_INCOME_TOTAL')\n",
    "plt.ylabel('Frequency')\n",
    "plt.show()"
   ]
  },
  {
   "cell_type": "code",
   "execution_count": 54,
   "metadata": {},
   "outputs": [
    {
     "data": {
      "image/png": "[encoded data removed]",
      "text/plain": [
       "<Figure size 1000x600 with 1 Axes>"
      ]
     },
     "metadata": {},
     "output_type": "display_data"
    }
   ],
   "source": [
    "# Calculate the 99th percentile in the training set\n",
    "income_99th_percentile = app_train_transformed['AMT_INCOME_TOTAL'].quantile(0.99)\n",
    "\n",
    "# Cap the values in the training set at the 99th percentile\n",
    "app_train_transformed['AMT_INCOME_TOTAL'] = app_train_transformed['AMT_INCOME_TOTAL'].apply(\n",
    "    lambda x: income_99th_percentile if x > income_99th_percentile else x\n",
    ")\n",
    "\n",
    "# Plot a histogram after capping to see the effect\n",
    "plt.figure(figsize=(10, 6))\n",
    "plt.hist(app_train_transformed['AMT_INCOME_TOTAL'], bins=100, color='green', edgecolor='black')\n",
    "plt.title('Distribution of AMT_INCOME_TOTAL (After Capping)')\n",
    "plt.xlabel('AMT_INCOME_TOTAL')\n",
    "plt.ylabel('Frequency')\n",
    "plt.show()"
   ]
  },
  {
   "cell_type": "code",
   "execution_count": 55,
   "metadata": {},
   "outputs": [
    {
     "data": {
      "image/png": "[encoded data removed]",
      "text/plain": [
       "<Figure size 1000x600 with 1 Axes>"
      ]
     },
     "metadata": {},
     "output_type": "display_data"
    },
    {
     "data": {
      "image/png": "[encoded data removed]",
      "text/plain": [
       "<Figure size 1000x600 with 1 Axes>"
      ]
     },
     "metadata": {},
     "output_type": "display_data"
    }
   ],
   "source": [
    "# Plot a histogram of AMT_INCOME_TOTAL in the test set before capping\n",
    "plt.figure(figsize=(10, 6))\n",
    "plt.hist(app_test_transformed['AMT_INCOME_TOTAL'], bins=100, color='blue', edgecolor='black')\n",
    "plt.title('Distribution of AMT_INCOME_TOTAL in Test Set (Before Capping)')\n",
    "plt.xlabel('AMT_INCOME_TOTAL')\n",
    "plt.ylabel('Frequency')\n",
    "plt.show()\n",
    "\n",
    "# Apply the same capping process to the test set based on the 99th percentile from the training set\n",
    "app_test_transformed['AMT_INCOME_TOTAL'] = app_test_transformed['AMT_INCOME_TOTAL'].apply(\n",
    "    lambda x: income_99th_percentile if x > income_99th_percentile else x\n",
    ")\n",
    "\n",
    "# Plot a histogram of AMT_INCOME_TOTAL in the test set after capping\n",
    "plt.figure(figsize=(10, 6))\n",
    "plt.hist(app_test_transformed['AMT_INCOME_TOTAL'], bins=100, color='green', edgecolor='black')\n",
    "plt.title('Distribution of AMT_INCOME_TOTAL in Test Set (After Capping)')\n",
    "plt.xlabel('AMT_INCOME_TOTAL')\n",
    "plt.ylabel('Frequency')\n",
    "plt.show()\n"
   ]
  },
  {
   "cell_type": "code",
   "execution_count": 56,
   "metadata": {},
   "outputs": [
    {
     "data": {
      "text/plain": [
       "count    565372.000000\n",
       "mean      53865.171747\n",
       "std      132040.601268\n",
       "min      -17912.000000\n",
       "25%       -2476.000000\n",
       "50%       -1123.000000\n",
       "75%        -338.000000\n",
       "max      365243.000000\n",
       "Name: DAYS_EMPLOYED, dtype: float64"
      ]
     },
     "execution_count": 56,
     "metadata": {},
     "output_type": "execute_result"
    }
   ],
   "source": [
    "app_train_transformed['DAYS_EMPLOYED'].describe() "
   ]
  },
  {
   "cell_type": "markdown",
   "metadata": {},
   "source": [
    "The maximum value 365,243 days (~1,000 years) is clearly an anomaly and likely represents missing or unknown employment data.\n",
    "We can replace the value 365,243 with the median or mean of the column."
   ]
  },
  {
   "cell_type": "code",
   "execution_count": 57,
   "metadata": {},
   "outputs": [
    {
     "data": {
      "text/plain": [
       "count    565372.000000\n",
       "mean      -2010.155722\n",
       "std        1983.693876\n",
       "min      -17912.000000\n",
       "25%       -2476.000000\n",
       "50%       -1430.000000\n",
       "75%        -794.000000\n",
       "max           0.000000\n",
       "Name: DAYS_EMPLOYED, dtype: float64"
      ]
     },
     "execution_count": 57,
     "metadata": {},
     "output_type": "execute_result"
    }
   ],
   "source": [
    "median_days_employed = app_train_transformed[app_train_transformed['DAYS_EMPLOYED'] != 365243]['DAYS_EMPLOYED'].median()\n",
    "app_train_transformed['DAYS_EMPLOYED'] = app_train_transformed['DAYS_EMPLOYED'].replace(365243, median_days_employed)\n",
    "app_train_transformed['DAYS_EMPLOYED'].describe()"
   ]
  },
  {
   "cell_type": "code",
   "execution_count": 58,
   "metadata": {},
   "outputs": [
    {
     "data": {
      "text/plain": [
       "count    48744.000000\n",
       "mean     -2277.587108\n",
       "std       2117.079314\n",
       "min     -17463.000000\n",
       "25%      -2910.000000\n",
       "50%      -1430.000000\n",
       "75%      -1048.000000\n",
       "max         -1.000000\n",
       "Name: DAYS_EMPLOYED, dtype: float64"
      ]
     },
     "execution_count": 58,
     "metadata": {},
     "output_type": "execute_result"
    }
   ],
   "source": [
    "app_test_transformed['DAYS_EMPLOYED'] = app_test_transformed['DAYS_EMPLOYED'].replace(365243, median_days_employed)\n",
    "app_test_transformed['DAYS_EMPLOYED'].describe()"
   ]
  },
  {
   "cell_type": "code",
   "execution_count": 59,
   "metadata": {},
   "outputs": [],
   "source": [
    "# Save the transformed datasets to CSV files\n",
    "concatenated = pd.concat([app_train_transformed, y_oversampled], axis=1)\n",
    "concatenated.to_csv('../data/app_train_transformed_project1.csv', index=False)"
   ]
  },
  {
   "cell_type": "markdown",
   "metadata": {
    "id": "DgQ2i5B25lRC"
   },
   "source": [
    "<h2>Correlations (9 pts)</h2>\n",
    "\n",
    "\n",
    "11: **In app_test**, remove the collinear features of the dataset. How did you choose the threshold?\n",
    "\n",
    "12: What features from bureau.csv could you use to improve the training set? Use the random forest model from the notebook of the Lecture to check if it actually improves the final model performance.\n",
    "\n",
    "*You will be evaluated as follow*\n",
    "* 11: Code 3pts. Threshold explanation 1pt.\n",
    "* 12: Description of the approach 1pt. Code implementation of the approach 2pts. Improved performance 2pts."
   ]
  },
  {
   "cell_type": "code",
   "execution_count": 60,
   "metadata": {},
   "outputs": [
    {
     "data": {
      "text/plain": [
       "int64      42\n",
       "bool       36\n",
       "float64    20\n",
       "Name: count, dtype: int64"
      ]
     },
     "execution_count": 60,
     "metadata": {},
     "output_type": "execute_result"
    }
   ],
   "source": [
    "app_train_transformed.dtypes.value_counts()"
   ]
  },
  {
   "cell_type": "code",
   "execution_count": 62,
   "metadata": {
    "id": "uU1j3LW2S-ir"
   },
   "outputs": [
    {
     "name": "stdout",
     "output_type": "stream",
     "text": [
      "Collinear features removed: ['AMT_GOODS_PRICE', 'CNT_FAM_MEMBERS', 'REGION_RATING_CLIENT_W_CITY', 'LIVE_REGION_NOT_WORK_REGION', 'LIVE_CITY_NOT_WORK_CITY', 'OBS_60_CNT_SOCIAL_CIRCLE', 'DEF_60_CNT_SOCIAL_CIRCLE', 'ORGANIZATION_TYPE_XNA', 'NAME_EDUCATION_TYPE_Secondary / secondary special', 'NAME_INCOME_TYPE_Pensioner']\n",
      "Remaining features after removing collinear features: 88\n"
     ]
    }
   ],
   "source": [
    "# Correlation matrix for the training set\n",
    "corr_matrix = app_train_transformed.corr().abs()\n",
    "\n",
    "threshold = 0.8\n",
    "\n",
    "# Identify pairs of features that are above the threshold\n",
    "# Select the upper triangle of the correlation matrix (to avoid duplicate pairs)\n",
    "upper_tri = corr_matrix.where(np.triu(np.ones(corr_matrix.shape), k=1).astype(bool))\n",
    "\n",
    "# Features that have a correlation above the threshold\n",
    "collinear_features = [column for column in upper_tri.columns if any(upper_tri[column] > threshold)]\n",
    "\n",
    "# Remove collinear features from the training set\n",
    "app_train_reduced = app_train_transformed.drop(columns=collinear_features)\n",
    "\n",
    "print(f\"Collinear features removed: {collinear_features}\")\n",
    "print(f\"Remaining features after removing collinear features: {app_train_reduced.shape[1]}\")"
   ]
  },
  {
   "cell_type": "code",
   "execution_count": 63,
   "metadata": {},
   "outputs": [
    {
     "name": "stdout",
     "output_type": "stream",
     "text": [
      "Test set shape after removing collinear features: 88\n"
     ]
    }
   ],
   "source": [
    "# Remove the collinear features from the test set\n",
    "app_test_reduced = app_test_transformed.drop(columns=collinear_features)\n",
    "\n",
    "print(f\"Test set shape after removing collinear features: {app_test_reduced.shape[1]}\")"
   ]
  },
  {
   "cell_type": "markdown",
   "metadata": {},
   "source": [
    "Threshold of 0.8 is a good starting point. It balances between removing collinear features and retaining as much information as possible and it is not that strict. Then by trial and error and different models we can find a suitable threshold."
   ]
  },
  {
   "cell_type": "code",
   "execution_count": null,
   "metadata": {},
   "outputs": [
    {
     "name": "stdout",
     "output_type": "stream",
     "text": [
      "Test Set Predictions:\n",
      "[0 0 0 ... 0 0 0]\n"
     ]
    }
   ],
   "source": [
    "from sklearn.model_selection import train_test_split\n",
    "from sklearn.ensemble import RandomForestClassifier\n",
    "from sklearn.metrics import accuracy_score, classification_report\n",
    "\n",
    "# 1. Prepare the data: X is app_train_reduced, y is the target from before\n",
    "X_train = app_train_reduced  # Features are in app_train_reduced\n",
    "y_train = y  # Target is the 'TARGET' column stored in 'y'\n",
    "\n",
    "# 2. Train the Random Forest model on the training data\n",
    "rf_model = RandomForestClassifier(n_estimators=100, random_state=42)\n",
    "rf_model.fit(X_train, y_train)\n",
    "\n",
    "# 3. Predict on the test set (app_test_reduced)\n",
    "test_predictions = rf_model.predict(app_test_reduced)\n",
    "\n",
    "# Output the predictions for the test set\n",
    "print(\"Test Set Predictions:\")\n",
    "print(test_predictions)"
   ]
  },
  {
   "cell_type": "code",
   "execution_count": null,
   "metadata": {},
   "outputs": [
    {
     "name": "stdout",
     "output_type": "stream",
     "text": [
      "Validation Accuracy: 0.9195\n",
      "Classification Report:\n",
      "              precision    recall  f1-score   support\n",
      "\n",
      "           0       0.92      1.00      0.96     56554\n",
      "           1       0.56      0.00      0.00      4949\n",
      "\n",
      "    accuracy                           0.92     61503\n",
      "   macro avg       0.74      0.50      0.48     61503\n",
      "weighted avg       0.89      0.92      0.88     61503\n",
      "\n"
     ]
    }
   ],
   "source": [
    "from sklearn.model_selection import train_test_split\n",
    "from sklearn.ensemble import RandomForestClassifier\n",
    "from sklearn.metrics import accuracy_score, classification_report\n",
    "\n",
    "# 1. Prepare the data: X is app_train_reduced, y is the target from before\n",
    "X_train = app_train_reduced  # Features are in app_train_reduced\n",
    "y_train = y  # Target is the 'TARGET' column stored in 'y'\n",
    "\n",
    "# 2. Split the training set into a training and validation set (for evaluation purposes)\n",
    "X_train_split, X_val_split, y_train_split, y_val_split = train_test_split(X_train, y_train, test_size=0.2, random_state=42)\n",
    "\n",
    "# 3. Train the Random Forest model on the training data\n",
    "rf_model = RandomForestClassifier(n_estimators=100, random_state=42)\n",
    "rf_model.fit(X_train_split, y_train_split)\n",
    "\n",
    "# 4. Predict on the validation set\n",
    "y_val_pred = rf_model.predict(X_val_split)\n",
    "\n",
    "# 5. Calculate accuracy\n",
    "accuracy = accuracy_score(y_val_split, y_val_pred)\n",
    "print(f\"Validation Accuracy: {accuracy:.4f}\")\n",
    "\n",
    "# 6. Print classification report (precision, recall, F1-score)\n",
    "print(\"Classification Report:\")\n",
    "print(classification_report(y_val_split, y_val_pred))"
   ]
  },
  {
   "cell_type": "code",
   "execution_count": null,
   "metadata": {},
   "outputs": [
    {
     "name": "stdout",
     "output_type": "stream",
     "text": [
      "Collinear features removed: []\n",
      "Remaining features after removing collinear features: 98\n"
     ]
    }
   ],
   "source": [
    "# calculate the correlation matrix for bureau_transformed\n",
    "corr_matrix = bureau_transformed.corr().abs()\n",
    "\n",
    "# set a correlation threshold\n",
    "threshold = 0.9\n",
    "\n",
    "# identify the upper triangle of the correlation matrix to avoid duplicate pairs\n",
    "upper_tri = corr_matrix.where(np.triu(np.ones(corr_matrix.shape), k=1).astype(np.bool))\n",
    "\n",
    "# find features with correlation greater than the threshold\n",
    "collinear_features = [column for column in upper_tri.columns if any(upper_tri[column] > threshold)]\n",
    "\n",
    "# remove collinear features from bureau_transformed\n",
    "bureau_reduced = bureau_transformed.drop(columns=collinear_features)\n",
    "\n",
    "# Output the removed features and the shape of the reduced dataset\n",
    "print(f\"Collinear features removed: {collinear_features}\")\n",
    "print(f\"Remaining features after removing collinear features: {bureau_reduced.shape[1]}\")"
   ]
  },
  {
   "cell_type": "code",
   "execution_count": null,
   "metadata": {},
   "outputs": [],
   "source": [
    "# Merge the reduced bureau data with the reduced training set\n",
    "app_train_merged = pd.concat([app_train_reduced, bureau_reduced], axis=1)\n",
    "app_train_merged.dropna(inplace=True)"
   ]
  },
  {
   "cell_type": "code",
   "execution_count": null,
   "metadata": {},
   "outputs": [
    {
     "data": {
      "text/plain": [
       "(95033, 186)"
      ]
     },
     "execution_count": 275,
     "metadata": {},
     "output_type": "execute_result"
    }
   ],
   "source": [
    "app_train_merged.shape\n",
    "\n",
    "# X_train = app_train_merged  # Features are in the merged dataset\n",
    "# y_train = y  # Target is still the 'TARGET' column from earlier\n",
    "\n",
    "# X_train_split, X_val_split, y_train_split, y_val_split = train_test_split(X_train, y_train, test_size=0.2, random_state=42)\n",
    "\n",
    "# rf_model_merged = RandomForestClassifier(n_estimators=100, random_state=42)\n",
    "# rf_model_merged.fit(X_train_split, y_train_split)\n",
    "\n",
    "# y_val_pred = rf_model_merged.predict(X_val_split)\n",
    "\n",
    "# accuracy_merged = accuracy_score(y_val_split, y_val_pred)\n",
    "# classification_report_merged = classification_report(y_val_split, y_val_pred)\n",
    "\n",
    "# # Output the results\n",
    "# print(f\"Validation Accuracy (Merged Data): {accuracy_merged:.4f}\")\n",
    "# print(\"Classification Report (Merged Data):\")\n",
    "# print(classification_report_merged)"
   ]
  },
  {
   "cell_type": "code",
   "execution_count": null,
   "metadata": {},
   "outputs": [],
   "source": [
    "from sklearn.ensemble import RandomForestClassifier\n",
    "from sklearn.metrics import accuracy_score, classification_report\n",
    "import numpy as np\n",
    "import pandas as pd\n",
    "from sklearn.model_selection import train_test_split\n",
    "\n",
    "\n",
    "# Correlation matrix and feature reduction for app_train_transformed\n",
    "corr_matrix = app_train_transformed.corr().abs()\n",
    "threshold = 0.8\n",
    "upper_tri = corr_matrix.where(np.triu(np.ones(corr_matrix.shape), k=1).astype(bool))\n",
    "collinear_features = [column for column in upper_tri.columns if any(upper_tri[column] > threshold)]\n",
    "app_train_reduced = app_train_transformed.drop(columns=collinear_features)\n",
    "\n",
    "# Split train data into training and validation sets\n",
    "X_train = app_train_reduced\n",
    "y_train = y\n",
    "X_train_split, X_val_split, y_train_split, y_val_split = train_test_split(X_train, y_train, test_size=0.2, random_state=42)\n",
    "\n",
    "# Train Random Forest model\n",
    "rf_model = RandomForestClassifier(n_estimators=100, random_state=42)\n",
    "rf_model.fit(X_train_split, y_train_split)\n",
    "\n",
    "# Predict and evaluate on validation set\n",
    "y_val_pred = rf_model.predict(X_val_split)\n",
    "accuracy = accuracy_score(y_val_split, y_val_pred)\n",
    "classification_report_output = classification_report(y_val_split, y_val_pred)\n",
    "\n",
    "# Correlation matrix and feature reduction for bureau_transformed\n",
    "corr_matrix = bureau_transformed.corr().abs()\n",
    "threshold = 0.9\n",
    "upper_tri = corr_matrix.where(np.triu(np.ones(corr_matrix.shape), k=1).astype(bool))\n",
    "collinear_features = [column for column in upper_tri.columns if any(upper_tri[column] > threshold)]\n",
    "bureau_reduced = bureau_transformed.drop(columns=collinear_features)\n",
    "\n",
    "# Merge datasets\n",
    "app_train_merged = pd.concat([app_train_reduced, bureau_reduced], axis=1)\n",
    "app_train_merged.dropna(inplace=True)\n",
    "\n",
    "# Train Random Forest on merged data\n",
    "X_train = app_train_merged\n",
    "y_train = y\n",
    "X_train_split, X_val_split, y_train_split, y_val_split = train_test_split(X_train, y_train, test_size=0.2, random_state=42)\n",
    "\n",
    "rf_model_merged = RandomForestClassifier(n_estimators=100, random_state=42)\n",
    "rf_model_merged.fit(X_train_split, y_train_split)\n",
    "\n",
    "y_val_pred_merged = rf_model_merged.predict(X_val_split)\n",
    "accuracy_merged = accuracy_score(y_val_split, y_val_pred_merged)\n",
    "classification_report_merged = classification_report(y_val_split, y_val_pred_merged)\n",
    "\n",
    "print(f\"Validation Accuracy (Reduced Data): {accuracy:.4f}\")\n",
    "print(\"Classification Report (Reduced Data):\")\n",
    "print(classification_report_output)\n",
    "\n",
    "print(f\"Validation Accuracy (Merged Data): {accuracy_merged:.4f}\")\n",
    "print(\"Classification Report (Merged Data):\")\n",
    "print(classification_report_merged)\n"
   ]
  },
  {
   "cell_type": "markdown",
   "metadata": {
    "id": "7_fQJhfcyQWn"
   },
   "source": [
    "##  Class imbalance and model performances (6 points)\n",
    "\n",
    "\n",
    "**13**: Evaluate the other technique (SMOTE) to handeling imbalance data left in *6.b*. Does it makes a difference on the final model performance? Can you use the performance on the test set to choose which techniques to use? If not, what would you need to do so?\n",
    "\n",
    "*You will be evaluated as follow*\n",
    "* 13: Code 3pts. Explanation 3pts.\n"
   ]
  },
  {
   "cell_type": "code",
   "execution_count": null,
   "metadata": {
    "id": "jDR7b8VRyUkS"
   },
   "outputs": [],
   "source": [
    "## Your code here"
   ]
  },
  {
   "cell_type": "markdown",
   "metadata": {
    "id": "-kxXg4CA3nPO"
   },
   "source": [
    "**13**: Answer the question here (double click to edit a text cell)\n",
    "\n"
   ]
  }
 ],
 "metadata": {
  "colab": {
   "provenance": []
  },
  "kernelspec": {
   "display_name": "appliedmlenv",
   "language": "python",
   "name": "python3"
  },
  "language_info": {
   "codemirror_mode": {
    "name": "ipython",
    "version": 3
   },
   "file_extension": ".py",
   "mimetype": "text/x-python",
   "name": "python",
   "nbconvert_exporter": "python",
   "pygments_lexer": "ipython3",
   "version": "3.10.15"
  }
 },
 "nbformat": 4,
 "nbformat_minor": 0
}
